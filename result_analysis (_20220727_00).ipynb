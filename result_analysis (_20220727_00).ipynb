{
 "cells": [
  {
   "cell_type": "code",
   "execution_count": 1,
   "id": "b93e5091",
   "metadata": {},
   "outputs": [],
   "source": [
    "import os\n",
    "import pickle\n",
    "\n",
    "import numpy as np\n",
    "import pandas as pd\n",
    "import torch\n",
    "\n",
    "import matplotlib.pyplot as plt\n",
    "\n",
    "from torch.utils.data import DataLoader, random_split\n",
    "from torch.nn.functional import one_hot\n",
    "\n",
    "from data_loaders.pulja_data_loader_02 import PuljaDataLoader\n",
    "from models._20220727_00 import UserModel\n",
    "from models.utils_02 import collate_fn\n",
    "\n",
    "if torch.cuda.is_available():\n",
    "    from torch.cuda import FloatTensor, LongTensor\n",
    "    torch.set_default_tensor_type(torch.cuda.FloatTensor)\n",
    "else:\n",
    "    from torch import FloatTensor, LongTensor"
   ]
  },
  {
   "cell_type": "code",
   "execution_count": 2,
   "id": "97c1e541",
   "metadata": {},
   "outputs": [],
   "source": [
    "ckpt_path = \"ckpts\"\n",
    "if not os.path.isdir(ckpt_path):\n",
    "    os.mkdir(ckpt_path)\n",
    "\n",
    "batch_size = 256\n",
    "num_epochs = 100\n",
    "train_ratio = 0.9\n",
    "\n",
    "seq_len = 1000\n",
    "\n",
    "dim_v = 20\n",
    "\n",
    "dataset = PuljaDataLoader(seq_len)\n",
    "\n",
    "if torch.cuda.is_available():\n",
    "    device = \"cuda\"\n",
    "else:\n",
    "    device = \"cpu\"\n",
    "\n",
    "model = UserModel(dataset.num_c1, dataset.num_c2, dataset.num_c3, dataset.num_d, dim_v).to(device)\n",
    "\n",
    "train_size = int(len(dataset) * train_ratio)\n",
    "test_size = len(dataset) - train_size\n",
    "\n",
    "train_dataset, test_dataset = random_split(\n",
    "    dataset, [train_size, test_size]\n",
    ")\n",
    "\n",
    "if os.path.exists(os.path.join(dataset.dataset_dir, \"indices.pkl\")):\n",
    "    with open(os.path.join(dataset.dataset_dir, \"indices.pkl\"), \"rb\") as f:\n",
    "        indices = pickle.load(f)\n",
    "    train_dataset.indices = indices[0]\n",
    "    test_dataset.indices = indices[1]\n",
    "else:\n",
    "    with open(os.path.join(dataset.dataset_dir, \"indices.pkl\"), \"wb\") as f:\n",
    "        pickle.dump((train_dataset.indices, test_dataset.indices), f)\n"
   ]
  },
  {
   "cell_type": "code",
   "execution_count": 3,
   "id": "4b425db4",
   "metadata": {
    "scrolled": true
   },
   "outputs": [
    {
     "data": {
      "text/plain": [
       "UserModel(\n",
       "  (D): Embedding(7, 1)\n",
       "  (R): Embedding(2, 20)\n",
       "  (gru): GRU(40, 20, batch_first=True)\n",
       "  (linear_1): Sequential(\n",
       "    (0): Linear(in_features=20, out_features=20, bias=True)\n",
       "    (1): ReLU()\n",
       "    (2): Dropout(p=0.5, inplace=False)\n",
       "    (3): Linear(in_features=20, out_features=1, bias=True)\n",
       "    (4): Dropout(p=0.5, inplace=False)\n",
       "  )\n",
       "  (linear_2): Sequential(\n",
       "    (0): Linear(in_features=60, out_features=20, bias=True)\n",
       "    (1): ReLU()\n",
       "    (2): Dropout(p=0.5, inplace=False)\n",
       "    (3): Linear(in_features=20, out_features=1, bias=True)\n",
       "    (4): Dropout(p=0.5, inplace=False)\n",
       "  )\n",
       ")"
      ]
     },
     "execution_count": 3,
     "metadata": {},
     "output_type": "execute_result"
    }
   ],
   "source": [
    "model.load_state_dict(\n",
    "    torch.load(\n",
    "        os.path.join(\n",
    "            os.path.join(\n",
    "                ckpt_path, \"_20220727_00\"\n",
    "            ),\n",
    "            \"model_fin.ckpt\"\n",
    "        ),\n",
    "        map_location=device\n",
    "    )\n",
    ")\n",
    "model.eval()"
   ]
  },
  {
   "cell_type": "code",
   "execution_count": 4,
   "id": "0f3234c9",
   "metadata": {},
   "outputs": [],
   "source": [
    "aucs_list = []\n",
    "max_aucs = []\n",
    "fin_aucs = []\n",
    "\n",
    "dir_list = [\"01\"]\n",
    "\n",
    "for i in dir_list:\n",
    "    with open(\n",
    "        os.path.join(\n",
    "            os.path.join(\n",
    "                ckpt_path,\n",
    "                os.path.join(\"_20220727_00\", i)\n",
    "            ),\n",
    "            \"aucs.pkl\"\n",
    "        ),\n",
    "        \"rb\"\n",
    "    ) as f:\n",
    "        aucs = pickle.load(f)\n",
    "    \n",
    "    max_auc = np.max(aucs)\n",
    "    fin_auc = aucs[-1]\n",
    "\n",
    "    aucs_list.append(aucs)\n",
    "    max_aucs.append(max_auc)\n",
    "    fin_aucs.append(fin_auc)"
   ]
  },
  {
   "cell_type": "code",
   "execution_count": 5,
   "id": "21a26250",
   "metadata": {},
   "outputs": [
    {
     "name": "stdout",
     "output_type": "stream",
     "text": [
      "max_aucs: [0.7741200761753892]\n",
      "max_auc_mean: 0.7741200761753892, max_auc_std: 0.0\n",
      "max_auc_dir: 01\n"
     ]
    }
   ],
   "source": [
    "print(\"max_aucs: {}\".format(max_aucs))\n",
    "print(\"max_auc_mean: {}, max_auc_std: {}\".format(np.mean(max_aucs), np.std(max_aucs)))\n",
    "print(\"max_auc_dir: {}\".format(dir_list[np.argmax(max_aucs)]))"
   ]
  },
  {
   "cell_type": "code",
   "execution_count": 6,
   "id": "44b2f46f",
   "metadata": {},
   "outputs": [
    {
     "name": "stdout",
     "output_type": "stream",
     "text": [
      "max_fin_aucs: [0.7734779184490739]\n",
      "max_fin_auc_mean: 0.7734779184490739, max_auc_std: 0.0\n",
      "max_fin_auc_dir: 01\n"
     ]
    }
   ],
   "source": [
    "print(\"max_fin_aucs: {}\".format(fin_aucs))\n",
    "print(\"max_fin_auc_mean: {}, max_auc_std: {}\".format(np.mean(fin_aucs), np.std(fin_aucs)))\n",
    "print(\"max_fin_auc_dir: {}\".format(dir_list[np.argmax(fin_aucs)]))"
   ]
  },
  {
   "cell_type": "code",
   "execution_count": 7,
   "id": "aad79649",
   "metadata": {
    "scrolled": true
   },
   "outputs": [
    {
     "data": {
      "text/plain": [
       "(array([29, 29, 29, ..., 76, 76, 76]),\n",
       " array([2, 2, 3, ..., 4, 4, 4]),\n",
       " array([1, 1, 0, ..., 0, 0, 0]))"
      ]
     },
     "execution_count": 7,
     "metadata": {},
     "output_type": "execute_result"
    }
   ],
   "source": [
    "test_dataset[3]"
   ]
  },
  {
   "cell_type": "code",
   "execution_count": 28,
   "id": "25a39e72",
   "metadata": {},
   "outputs": [],
   "source": [
    "# 3, 6\n",
    "c3_seq, d_seq, r_seq = test_dataset[3]\n",
    "\n",
    "view_from = 100\n",
    "view_to = 200\n",
    "\n",
    "seq_len = view_to - view_from\n",
    "\n",
    "c3_seq = [c3_seq[view_from:view_to]]\n",
    "d_seq = [d_seq[view_from:view_to]]\n",
    "r_seq = [r_seq[view_from:view_to]]\n",
    "\n",
    "# r_seq = np.zeros_like(r_seq)\n",
    "# r_seq = np.ones_like(r_seq)\n",
    "\n",
    "# d_seq = np.ones_like(d_seq) * 6\n",
    "\n",
    "# c_seq = np.array([[0] * 100])\n",
    "# d_seq = np.array([[6] * 30 + [3] * 30 + [0] * 40])\n",
    "# r_seq = np.ones_like(r_seq)\n",
    "\n",
    "# c1_seq, c2_seq, c4_seq, d_seq, r_seq: [batch_size, seq_len]\n",
    "\n",
    "alpha_seq, h_seq, C3_seq = model(\n",
    "    LongTensor(c3_seq),\n",
    "    LongTensor(d_seq),\n",
    "    LongTensor(r_seq),\n",
    ")\n",
    "\n",
    "# C3_seq: [batch_size, seq_len, num_c4]\n",
    "\n",
    "# beta3_seq: [batch_size, seq_len]\n",
    "beta3_seq = torch.gather(C3_seq, dim=-1, index=LongTensor(c3_seq).unsqueeze(-1)).reshape([1, seq_len])\n",
    "\n",
    "# gamma_seq: [seq_len]\n",
    "gamma_seq = model.D(LongTensor(d_seq)).squeeze()\n",
    "\n",
    "###########################################\n",
    "\n",
    "sigmoid_alpha_seq = torch.sigmoid(alpha_seq).detach().cpu().numpy()[0]\n",
    "\n",
    "sigmoid_alpha_beta_seq = torch.sigmoid(alpha_seq + beta3_seq).detach().cpu().numpy()[0]\n",
    "\n",
    "sigmoid_alpha_beta_gamma_seq = torch.sigmoid(alpha_seq + beta3_seq - gamma_seq).detach().cpu().numpy()[0]\n",
    "\n",
    "r_seq_ma = np.cumsum(r_seq[0]) / np.arange(1, r_seq[0].shape[0] + 1)\n",
    "\n",
    "CQ3_seq = alpha_seq.unsqueeze(-1) + C3_seq.squeeze()\n",
    "CQ3_seq = torch.sigmoid(CQ3_seq).detach().cpu().numpy()[0]\n",
    "\n",
    "# C3_seq = C3_seq.squeeze().detach().cpu().numpy()\n",
    "\n",
    "# alpha_seq = alpha_seq.detach().cpu().numpy()"
   ]
  },
  {
   "cell_type": "code",
   "execution_count": 31,
   "id": "518a0f84",
   "metadata": {
    "scrolled": false
   },
   "outputs": [
    {
     "data": {
      "image/png": "[encoded data removed]",
      "text/plain": [
       "<Figure size 1080x360 with 1 Axes>"
      ]
     },
     "metadata": {},
     "output_type": "display_data"
    },
    {
     "data": {
      "image/png": "[encoded data removed]",
      "text/plain": [
       "<Figure size 1440x72 with 2 Axes>"
      ]
     },
     "metadata": {},
     "output_type": "display_data"
    }
   ],
   "source": [
    "plt.figure(figsize=[15, 5], facecolor=\"white\")\n",
    "plt.plot(r_seq[0], label=\"r_seq\")\n",
    "plt.plot((d_seq[0] + 1) / 10, label=\"d_seq\")\n",
    "plt.plot(sigmoid_alpha_seq, label=\"sigmoid_alpha_seq\")\n",
    "plt.plot(sigmoid_alpha_beta_seq, label=\"sigmoid_alpha_beta_seq\")\n",
    "# plt.plot(sigmoid_alpha_beta4_seq, label=\"sigmoid_alpha_beta4_seq\")\n",
    "# plt.plot(sigmoid_beta4_seq, label=\"sigmoid_beta4_seq\")\n",
    "plt.grid()\n",
    "plt.ylim(-0.1, 1.1)\n",
    "plt.legend()\n",
    "plt.show()\n",
    "\n",
    "plt.figure(figsize=[20, len(np.unique(c3_seq)) // 3 + 1], facecolor=\"white\")\n",
    "temp = np.concatenate([CQ3_seq[:, np.unique(c3_seq)].T, r_seq], axis=0)\n",
    "plt.pcolormesh(temp)\n",
    "plt.colorbar()\n",
    "plt.show()"
   ]
  },
  {
   "cell_type": "code",
   "execution_count": 10,
   "id": "7f7f535c",
   "metadata": {},
   "outputs": [
    {
     "data": {
      "text/plain": [
       "array([0.5       , 0.5       , 0.52999175, 0.5       , 0.5       ,\n",
       "       0.5       ], dtype=float32)"
      ]
     },
     "execution_count": 10,
     "metadata": {},
     "output_type": "execute_result"
    }
   ],
   "source": [
    "CQ3_seq[0][np.unique(c3_seq)]"
   ]
  },
  {
   "cell_type": "code",
   "execution_count": 11,
   "id": "014f71f0",
   "metadata": {},
   "outputs": [
    {
     "data": {
      "text/plain": [
       "array([0.57635075, 0.578909  , 0.5778559 , 0.5422641 , 0.5455228 ,\n",
       "       0.54608214], dtype=float32)"
      ]
     },
     "execution_count": 11,
     "metadata": {},
     "output_type": "execute_result"
    }
   ],
   "source": [
    "CQ3_seq[-1][np.unique(c3_seq)]"
   ]
  },
  {
   "cell_type": "code",
   "execution_count": 12,
   "id": "0bb894c2",
   "metadata": {},
   "outputs": [
    {
     "data": {
      "text/plain": [
       "(array([17, 26, 29, 50, 73, 75]),\n",
       " [array([29, 29, 29, 29, 29, 29, 29, 29, 29, 29, 29, 29, 50, 50, 50, 50, 50,\n",
       "         50, 50, 50, 50, 50, 50, 50, 50, 50, 50, 50, 73, 73, 73, 73, 73, 73,\n",
       "         73, 73, 73, 73, 73, 73, 73, 73, 75, 75, 75, 75, 75, 75, 75, 75, 75,\n",
       "         75, 75, 75, 75, 75, 75, 75, 75, 75, 75, 75, 75, 75, 75, 75, 75, 75,\n",
       "         75, 75, 75, 75, 75, 75, 75, 75, 75, 17, 17, 17, 17, 17, 17, 17, 17,\n",
       "         17, 17, 17, 17, 26, 26, 26, 26, 26, 26, 26, 26, 26, 26, 26])])"
      ]
     },
     "execution_count": 12,
     "metadata": {},
     "output_type": "execute_result"
    }
   ],
   "source": [
    "np.unique(c3_seq), c3_seq"
   ]
  },
  {
   "cell_type": "code",
   "execution_count": 13,
   "id": "27090102",
   "metadata": {},
   "outputs": [
    {
     "data": {
      "text/plain": [
       "array(['01 유리식', '01 집합의 뜻과 표현', '01 함수', '02 여러 가지 함수', '03 합성함수',\n",
       "       '04 역함수'], dtype=object)"
      ]
     },
     "execution_count": 13,
     "metadata": {},
     "output_type": "execute_result"
    }
   ],
   "source": [
    "dataset.c3_list[np.unique(c3_seq)]"
   ]
  },
  {
   "cell_type": "code",
   "execution_count": 14,
   "id": "bee0d2f8",
   "metadata": {},
   "outputs": [
    {
     "data": {
      "text/plain": [
       "'02 여러 가지 함수'"
      ]
     },
     "execution_count": 14,
     "metadata": {},
     "output_type": "execute_result"
    }
   ],
   "source": [
    "dataset.c3_list[np.unique(c3_seq)[np.argmin(CQ3_seq[-1][np.unique(c3_seq)])]]"
   ]
  },
  {
   "cell_type": "code",
   "execution_count": 15,
   "id": "313aad0c",
   "metadata": {},
   "outputs": [
    {
     "data": {
      "text/plain": [
       "['[6] 일대일대응', '[7] 일대일대응이 되기 위한 조건', '[8] 항등함수와 상수함수', '[9] 함수의 개수']"
      ]
     },
     "execution_count": 15,
     "metadata": {},
     "output_type": "execute_result"
    }
   ],
   "source": [
    "dataset.c32c4_list[dataset.c3_list[np.unique(c3_seq)[np.argmin(CQ3_seq[-1][np.unique(c3_seq)])]]]"
   ]
  },
  {
   "cell_type": "code",
   "execution_count": 16,
   "id": "e9adc9ae",
   "metadata": {},
   "outputs": [
    {
     "data": {
      "text/plain": [
       "[array([2, 2, 3, 3, 3, 3, 4, 2, 2, 4, 4, 3, 2, 4, 2, 2, 3, 2, 3, 4, 3, 3,\n",
       "        3, 3, 3, 3, 2, 4, 3, 2, 2, 2, 3, 2, 2, 3, 2, 3, 2, 3, 3, 4, 2, 3,\n",
       "        2, 3, 2, 3, 4, 4, 4, 3, 2, 2, 3, 2, 2, 3, 2, 3, 4, 4, 2, 3, 3, 3,\n",
       "        4, 2, 3, 4, 4, 3, 3, 3, 3, 3, 4, 2, 3, 4, 2, 3, 4, 4, 2, 3, 2, 3,\n",
       "        3, 0, 0, 1, 1, 1, 1, 1, 1, 2, 2, 0])]"
      ]
     },
     "execution_count": 16,
     "metadata": {},
     "output_type": "execute_result"
    }
   ],
   "source": [
    "d_seq"
   ]
  },
  {
   "cell_type": "code",
   "execution_count": 17,
   "id": "e0bcc194",
   "metadata": {},
   "outputs": [
    {
     "data": {
      "text/plain": [
       "Parameter containing:\n",
       "tensor([[-0.9377],\n",
       "        [-0.6304],\n",
       "        [-0.2901],\n",
       "        [ 0.2823],\n",
       "        [ 0.7041],\n",
       "        [ 0.9764],\n",
       "        [ 1.8763]], requires_grad=True)"
      ]
     },
     "execution_count": 17,
     "metadata": {},
     "output_type": "execute_result"
    }
   ],
   "source": [
    "model.D.weight"
   ]
  },
  {
   "cell_type": "code",
   "execution_count": 18,
   "id": "5c2dd9dd",
   "metadata": {},
   "outputs": [
    {
     "data": {
      "text/plain": [
       "tensor([0])"
      ]
     },
     "execution_count": 18,
     "metadata": {},
     "output_type": "execute_result"
    }
   ],
   "source": [
    "model.init_alpha"
   ]
  }
 ],
 "metadata": {
  "kernelspec": {
   "display_name": "Python 3",
   "language": "python",
   "name": "python3"
  },
  "language_info": {
   "codemirror_mode": {
    "name": "ipython",
    "version": 3
   },
   "file_extension": ".py",
   "mimetype": "text/x-python",
   "name": "python",
   "nbconvert_exporter": "python",
   "pygments_lexer": "ipython3",
   "version": "3.9.5"
  }
 },
 "nbformat": 4,
 "nbformat_minor": 5
}
