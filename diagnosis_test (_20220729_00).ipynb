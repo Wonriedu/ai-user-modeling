{
 "cells": [
  {
   "cell_type": "code",
   "execution_count": 1,
   "id": "b93e5091",
   "metadata": {},
   "outputs": [],
   "source": [
    "import os\n",
    "import pickle\n",
    "\n",
    "import numpy as np\n",
    "import pandas as pd\n",
    "import torch\n",
    "\n",
    "import matplotlib.pyplot as plt\n",
    "\n",
    "from torch.utils.data import DataLoader, random_split\n",
    "from torch.nn.functional import one_hot\n",
    "\n",
    "from data_loaders.pulja_data_loader_02 import PuljaDataLoader\n",
    "from models._20220729_00 import UserModel\n",
    "from models.utils_02 import collate_fn\n",
    "\n",
    "if torch.cuda.is_available():\n",
    "    from torch.cuda import FloatTensor, LongTensor\n",
    "    torch.set_default_tensor_type(torch.cuda.FloatTensor)\n",
    "else:\n",
    "    from torch import FloatTensor, LongTensor"
   ]
  },
  {
   "cell_type": "code",
   "execution_count": 2,
   "id": "97c1e541",
   "metadata": {},
   "outputs": [],
   "source": [
    "ckpt_path = \"ckpts\"\n",
    "if not os.path.isdir(ckpt_path):\n",
    "    os.mkdir(ckpt_path)\n",
    "\n",
    "batch_size = 256\n",
    "num_epochs = 100\n",
    "train_ratio = 0.9\n",
    "\n",
    "seq_len = 1000\n",
    "\n",
    "dim_v = 20\n",
    "\n",
    "dataset = PuljaDataLoader(seq_len)\n",
    "\n",
    "if torch.cuda.is_available():\n",
    "    device = \"cuda\"\n",
    "else:\n",
    "    device = \"cpu\"\n",
    "\n",
    "model = UserModel(dataset.num_c1, dataset.num_c2, dataset.num_c3, dataset.num_d, dim_v).to(device)\n",
    "\n",
    "train_size = int(len(dataset) * train_ratio)\n",
    "test_size = len(dataset) - train_size\n",
    "\n",
    "train_dataset, test_dataset = random_split(\n",
    "    dataset, [train_size, test_size]\n",
    ")\n",
    "\n",
    "if os.path.exists(os.path.join(dataset.dataset_dir, \"indices.pkl\")):\n",
    "    with open(os.path.join(dataset.dataset_dir, \"indices.pkl\"), \"rb\") as f:\n",
    "        indices = pickle.load(f)\n",
    "    train_dataset.indices = indices[0]\n",
    "    test_dataset.indices = indices[1]\n",
    "else:\n",
    "    with open(os.path.join(dataset.dataset_dir, \"indices.pkl\"), \"wb\") as f:\n",
    "        pickle.dump((train_dataset.indices, test_dataset.indices), f)\n"
   ]
  },
  {
   "cell_type": "code",
   "execution_count": 3,
   "id": "b11407ec",
   "metadata": {},
   "outputs": [],
   "source": [
    "# tb_unit1 = pd.read_csv(\n",
    "#     os.path.join(\"tables\", \"tb_unit1.csv\")\n",
    "# )\n",
    "# tb_unit2 = pd.read_csv(\n",
    "#     os.path.join(\"tables\", \"tb_unit2.csv\")\n",
    "# )\n",
    "\n",
    "# c22c1 = {}\n",
    "# for _, row in tb_unit2.iterrows():\n",
    "#     c2 = row[\"name\"]\n",
    "#     c1 = tb_unit1[tb_unit1[\"unit1Seq\"] == row[\"unit1Seq\"]][\"name\"].values[0]\n",
    "    \n",
    "#     c22c1[c2] = c1\n",
    "\n",
    "# c22c1_indices = [dataset.c12idx[c22c1[c2]] for c2 in [dataset.c2_list[i] for i in range(dataset.num_c2)]]"
   ]
  },
  {
   "cell_type": "code",
   "execution_count": 4,
   "id": "b16e5509",
   "metadata": {},
   "outputs": [
    {
     "name": "stdout",
     "output_type": "stream",
     "text": [
      "0.7904838691615995\n",
      "0.7552252670692058\n",
      "0.6944927770808886\n",
      "0.6198139874167958\n",
      "0.5103425450934966\n",
      "0.4094488188976378\n",
      "0.09523809523809523\n"
     ]
    }
   ],
   "source": [
    "for d in [1.0, 2.0, 3.0, 4.0, 5.0, 6.0, 7.0]:\n",
    "    print(np.mean(\n",
    "        (dataset.df[dataset.df[\"difficulty_cd\"] == d][\"isCorrect\"] == \"Y\")\n",
    "    ))"
   ]
  },
  {
   "cell_type": "code",
   "execution_count": 5,
   "id": "c309b467",
   "metadata": {},
   "outputs": [
    {
     "name": "stdout",
     "output_type": "stream",
     "text": [
      "0.660754078901692\n",
      "0.6280503054771518\n",
      "0.5596750698013191\n",
      "0.4650770493298076\n",
      "0.3868939268575211\n",
      "0.3543307086614173\n",
      "0.09523809523809523\n"
     ]
    }
   ],
   "source": [
    "for d in [1.0, 2.0, 3.0, 4.0, 5.0, 6.0, 7.0]:\n",
    "    print(np.mean(\n",
    "        (dataset.df[dataset.df[\"difficulty_cd\"] == d][\"isCorrect\"] == \"Y\") & \\\n",
    "        (dataset.df[dataset.df[\"difficulty_cd\"] == d][\"duration\"] <= dataset.difficulty2duration[d])\n",
    "    ))"
   ]
  },
  {
   "cell_type": "code",
   "execution_count": 6,
   "id": "9a212161",
   "metadata": {},
   "outputs": [
    {
     "name": "stdout",
     "output_type": "stream",
     "text": [
      "0.660754078901692\n",
      "0.6280503054771518\n",
      "0.5596750698013191\n",
      "0.4650770493298076\n",
      "0.3868939268575211\n",
      "0.3543307086614173\n",
      "0.09523809523809523\n"
     ]
    }
   ],
   "source": [
    "difficulty2duration = {\n",
    "    1.0: 1.5,\n",
    "    2.0: 2.0,\n",
    "    3.0: 2.5,\n",
    "    4.0: 2.5,\n",
    "    5.0: 3.0,\n",
    "    6.0: 5.0,\n",
    "    7.0: 7.0,\n",
    "}\n",
    "for d in [1.0, 2.0, 3.0, 4.0, 5.0, 6.0, 7.0]:\n",
    "    print(np.mean(\n",
    "        (dataset.df[dataset.df[\"difficulty_cd\"] == d][\"isCorrect\"] == \"Y\") & \\\n",
    "        (dataset.df[dataset.df[\"difficulty_cd\"] == d][\"duration\"] <= difficulty2duration[d] * 60)\n",
    "    ))"
   ]
  },
  {
   "cell_type": "code",
   "execution_count": 7,
   "id": "4b425db4",
   "metadata": {
    "scrolled": true
   },
   "outputs": [
    {
     "data": {
      "text/plain": [
       "UserModel(\n",
       "  (D): Embedding(7, 1)\n",
       "  (R): Embedding(2, 20)\n",
       "  (gru): GRU(40, 20, batch_first=True)\n",
       "  (linear_1): Sequential(\n",
       "    (0): Linear(in_features=20, out_features=20, bias=True)\n",
       "    (1): ReLU()\n",
       "    (2): Dropout(p=0.5, inplace=False)\n",
       "    (3): Linear(in_features=20, out_features=1, bias=True)\n",
       "    (4): Dropout(p=0.5, inplace=False)\n",
       "  )\n",
       "  (linear_2): Sequential(\n",
       "    (0): Linear(in_features=60, out_features=20, bias=True)\n",
       "    (1): ReLU()\n",
       "    (2): Dropout(p=0.5, inplace=False)\n",
       "    (3): Linear(in_features=20, out_features=1, bias=True)\n",
       "    (4): Dropout(p=0.5, inplace=False)\n",
       "  )\n",
       ")"
      ]
     },
     "execution_count": 7,
     "metadata": {},
     "output_type": "execute_result"
    }
   ],
   "source": [
    "model.load_state_dict(\n",
    "    torch.load(\n",
    "        os.path.join(\n",
    "            os.path.join(\n",
    "                ckpt_path, \"_20220729_00\"\n",
    "            ),\n",
    "            \"model_fin.ckpt\"\n",
    "        ),\n",
    "        map_location=device\n",
    "    )\n",
    ")\n",
    "model.eval()"
   ]
  },
  {
   "cell_type": "code",
   "execution_count": 60,
   "id": "398c134a",
   "metadata": {},
   "outputs": [],
   "source": [
    "####################################################################\n",
    "\n",
    "c3_seq = np.array([[0] * 3])\n",
    "d_seq = np.array([[4, 6, 7]]) - 1\n",
    "r_seq = np.array([[1, 1, 0]])\n",
    "\n",
    "####################################################################\n",
    "\n",
    "alpha_seq, h_seq, C3_seq = model(\n",
    "    LongTensor(c3_seq),\n",
    "    LongTensor(d_seq),\n",
    "    LongTensor(r_seq),\n",
    ")\n",
    "\n",
    "sigmoid_alpha_seq = torch.sigmoid(alpha_seq).detach().cpu().numpy()[0]\n",
    "\n",
    "CQ3_seq = alpha_seq.unsqueeze(-1) + C3_seq.squeeze()\n",
    "CQ3_seq = torch.sigmoid(CQ3_seq).detach().cpu().numpy()[0]\n",
    "\n",
    "gamma_seq = model.D(LongTensor(d_seq)).squeeze()\n",
    "\n",
    "alpha_seq = alpha_seq.detach().cpu().numpy()\n",
    "gamma_seq = gamma_seq.detach().cpu().numpy()\n",
    "\n",
    "prev_alpha = alpha_seq[0][:-1]\n",
    "prev_alpha = np.concatenate([model.init_alpha(1).detach().cpu().numpy(), prev_alpha])"
   ]
  },
  {
   "cell_type": "code",
   "execution_count": 61,
   "id": "518a0f84",
   "metadata": {
    "scrolled": true
   },
   "outputs": [
    {
     "data": {
      "image/png": "[encoded data removed]",
      "text/plain": [
       "<Figure size 1080x360 with 1 Axes>"
      ]
     },
     "metadata": {},
     "output_type": "display_data"
    }
   ],
   "source": [
    "plt.figure(figsize=[15, 5], facecolor=\"white\")\n",
    "plt.plot(r_seq[0], label=\"r_seq\")\n",
    "plt.plot((d_seq[0] + 1) / 10, label=\"d_seq\")\n",
    "plt.plot(sigmoid_alpha_seq, label=\"sigmoid_alpha_seq\")\n",
    "plt.plot(CQ3_seq.T[0], label=\"sigmoid_alpha_beta_seq\")\n",
    "plt.plot(((prev_alpha - gamma_seq) / 10), label=\"alpha - gamma\")\n",
    "plt.grid()\n",
    "plt.ylim(-0.1, 1.1)\n",
    "plt.legend()\n",
    "plt.show()"
   ]
  },
  {
   "cell_type": "code",
   "execution_count": 62,
   "id": "e27447aa",
   "metadata": {},
   "outputs": [
    {
     "data": {
      "text/plain": [
       "array([0.56176084, 0.56176084, 0.56176084], dtype=float32)"
      ]
     },
     "execution_count": 62,
     "metadata": {},
     "output_type": "execute_result"
    }
   ],
   "source": [
    "sigmoid_alpha_seq"
   ]
  },
  {
   "cell_type": "code",
   "execution_count": 10,
   "id": "7a40e138",
   "metadata": {},
   "outputs": [
    {
     "data": {
      "text/plain": [
       "(78, 7)"
      ]
     },
     "execution_count": 10,
     "metadata": {},
     "output_type": "execute_result"
    }
   ],
   "source": [
    "CQ3_seq.T.shape"
   ]
  },
  {
   "cell_type": "code",
   "execution_count": 11,
   "id": "e336e1de",
   "metadata": {},
   "outputs": [
    {
     "data": {
      "image/png": "[encoded data removed]",
      "text/plain": [
       "<Figure size 1440x504 with 2 Axes>"
      ]
     },
     "metadata": {},
     "output_type": "display_data"
    }
   ],
   "source": [
    "plt.figure(figsize=[20, 7], facecolor=\"white\")\n",
    "temp = np.concatenate([CQ3_seq.T, r_seq], axis=0)\n",
    "plt.pcolormesh(temp)\n",
    "plt.colorbar()\n",
    "plt.show()\n",
    "\n",
    "# plt.figure(figsize=[15, 0.5], facecolor=\"white\")\n",
    "# plt.pcolormesh(r_seq)\n",
    "# plt.show()"
   ]
  },
  {
   "cell_type": "code",
   "execution_count": 12,
   "id": "c005f432",
   "metadata": {
    "scrolled": true
   },
   "outputs": [
    {
     "data": {
      "text/plain": [
       "(array([0.5867983], dtype=float32),\n",
       " array([0.39482906], dtype=float32),\n",
       " array([0]),\n",
       " array([[0, 0, 0, 0, 0, 0, 0]]),\n",
       " array([[0, 1, 2, 3, 4, 5, 6]]))"
      ]
     },
     "execution_count": 12,
     "metadata": {},
     "output_type": "execute_result"
    }
   ],
   "source": [
    "CQ3_seq[0][np.unique(c3_seq)], CQ3_seq[-1][np.unique(c3_seq)], np.unique(c3_seq), c3_seq, d_seq"
   ]
  },
  {
   "cell_type": "code",
   "execution_count": 13,
   "id": "269dfcbd",
   "metadata": {},
   "outputs": [],
   "source": [
    "from models.utils_02 import collate_fn\n",
    "\n",
    "train_loader = DataLoader(\n",
    "    train_dataset, batch_size=batch_size, shuffle=True,\n",
    "    collate_fn=collate_fn\n",
    ")\n",
    "test_loader = DataLoader(\n",
    "    test_dataset, batch_size=test_size, shuffle=True,\n",
    "    collate_fn=collate_fn\n",
    ")\n",
    "\n",
    "alphas = []\n",
    "sigmoid_alphas = []\n",
    "\n",
    "logits = []\n",
    "preds = []\n",
    "tgts = []\n",
    "\n",
    "for data in train_loader:\n",
    "    c3_seq, d_seq, r_seq, \\\n",
    "        c3shft_seq, dshft_seq, rshft_seq, \\\n",
    "        m_seq = data\n",
    "\n",
    "    batch_size = c3_seq.shape[0]\n",
    "    seq_len = c3_seq.shape[1]\n",
    "\n",
    "    # rshft_seq: [batch_size, seq_len]\n",
    "    # m_seq: [batch_size, seq_len]\n",
    "\n",
    "    alpha_seq, h_seq, C3_seq = \\\n",
    "        model(c3_seq, d_seq, r_seq)\n",
    "\n",
    "    # alpha_seq: [batch_size, seq_len]\n",
    "\n",
    "    # beta3_shft_seq: [batch_size, seq_len]\n",
    "    beta3_shft_seq = torch.gather(\n",
    "        C3_seq, dim=-1, index=c3shft_seq.unsqueeze(-1)\n",
    "    ).reshape([batch_size, seq_len])\n",
    "\n",
    "    # gamma_shft_seq: [batch_size, seq_len]\n",
    "    gamma_shft_seq = model.D(dshft_seq).squeeze()\n",
    "    \n",
    "    alphas.append(\n",
    "        torch.masked_select(\n",
    "            alpha_seq, m_seq\n",
    "        )\n",
    "    )\n",
    "    sigmoid_alphas.append(\n",
    "        torch.sigmoid(torch.masked_select(\n",
    "            alpha_seq, m_seq\n",
    "        ))\n",
    "    )\n",
    "    \n",
    "    c3_logits = \\\n",
    "        alpha_seq + \\\n",
    "        beta3_shft_seq - \\\n",
    "        gamma_shft_seq\n",
    "    pred = torch.sigmoid(c3_logits)\n",
    "    \n",
    "    tgt = torch.masked_select(\n",
    "        r_seq, m_seq\n",
    "    )\n",
    "    \n",
    "    logits.append(c3_logits)\n",
    "    preds.append(pred)\n",
    "    tgts.append(tgt)\n",
    "\n",
    "alphas = torch.cat(alphas, dim=0).detach().cpu().numpy()\n",
    "sigmoid_alphas = torch.cat(sigmoid_alphas, dim=0).detach().cpu().numpy()\n",
    "\n",
    "logits = torch.cat(logits, dim=0).detach().cpu().numpy()\n",
    "preds = torch.cat(preds, dim=0).detach().cpu().numpy()\n",
    "tgts = torch.cat(tgts, dim=0).detach().cpu().numpy()"
   ]
  },
  {
   "cell_type": "code",
   "execution_count": 21,
   "id": "4e06d62f",
   "metadata": {},
   "outputs": [
    {
     "data": {
      "image/png": "[encoded data removed]",
      "text/plain": [
       "<Figure size 1080x360 with 1 Axes>"
      ]
     },
     "metadata": {},
     "output_type": "display_data"
    }
   ],
   "source": [
    "plt.figure(figsize=[15, 5], facecolor=\"white\")\n",
    "plt.hist(sigmoid_alphas, bins=200)\n",
    "plt.show()"
   ]
  },
  {
   "cell_type": "code",
   "execution_count": 83,
   "id": "a5ad2a74",
   "metadata": {},
   "outputs": [
    {
     "data": {
      "text/plain": [
       "array([0.55354136, 0.55354136, 0.55354136, ..., 0.47416502, 0.481071  ,\n",
       "       0.481071  ], dtype=float32)"
      ]
     },
     "execution_count": 83,
     "metadata": {},
     "output_type": "execute_result"
    }
   ],
   "source": [
    "def get_percentile_estimation()"
   ]
  },
  {
   "cell_type": "code",
   "execution_count": 69,
   "id": "7b2cd8cd",
   "metadata": {},
   "outputs": [
    {
     "name": "stdout",
     "output_type": "stream",
     "text": [
      "0.6984632611274719, 0.9919648370218712, 0.7010719180107117, 0.9922248220727308\n",
      "0.5714671015739441, 0.8423434402521854, 0.5747274160385132, 0.8548470962919632\n",
      "0.5832164883613586, 0.8746343960222287, 0.5958849787712097, 0.9049754639108252\n",
      "0.5617608428001404, 0.7999252542978779, 0.5475240349769592, 0.7136752136752137\n",
      "0.553541362285614, 0.7227259432582627, 0.5854774117469788, 0.8778110883624192\n",
      "0.39125826954841614, 0.2946727438172305, 0.36387863755226135, 0.25590653537421604\n",
      "0.3102284073829651, 0.15767280881349321, 0.32353371381759644, 0.19163741834844494\n",
      "0.2297893911600113, 0.01680153391180006, 0.1916140764951706, 3.249813135741686e-05\n"
     ]
    }
   ],
   "source": [
    "num_rep = 4\n",
    "\n",
    "for c3_seq, d_seq, r_seq in [\n",
    "    (\n",
    "        np.array([[0] * 3 * num_rep]),\n",
    "        np.array([[4, 6, 7] * num_rep]) - 1,\n",
    "        np.array([[1, 1, 1] * num_rep]),\n",
    "    ),\n",
    "    (\n",
    "        np.array([[0] * 3 * num_rep]),\n",
    "        np.array([[4, 6, 7] * num_rep]) - 1,\n",
    "        np.array([[1, 1, 0] * num_rep]),\n",
    "    ),\n",
    "    (\n",
    "        np.array([[0] * 3 * num_rep]),\n",
    "        np.array([[4, 6, 5] * num_rep]) - 1,\n",
    "        np.array([[1, 0, 1] * num_rep]),\n",
    "    ),\n",
    "    (\n",
    "        np.array([[0] * 3 * num_rep]),\n",
    "        np.array([[4, 6, 5] * num_rep]) - 1,\n",
    "        np.array([[1, 0, 0] * num_rep]),\n",
    "    ),\n",
    "    (\n",
    "        np.array([[0] * 3 * num_rep]),\n",
    "        np.array([[4, 2, 3] * num_rep]) - 1,\n",
    "        np.array([[0, 1, 1] * num_rep]),\n",
    "    ),\n",
    "    (\n",
    "        np.array([[0] * 3 * num_rep]),\n",
    "        np.array([[4, 2, 3] * num_rep]) - 1,\n",
    "        np.array([[0, 1, 0] * num_rep]),\n",
    "    ),\n",
    "    (\n",
    "        np.array([[0] * 3 * num_rep]),\n",
    "        np.array([[4, 2, 1] * num_rep]) - 1,\n",
    "        np.array([[0, 0, 1] * num_rep]),\n",
    "    ),\n",
    "    (\n",
    "        np.array([[0] * 3 * num_rep]),\n",
    "        np.array([[4, 2, 1] * num_rep]) - 1,\n",
    "        np.array([[0, 0, 0] * num_rep]),\n",
    "    ),\n",
    "]:\n",
    "    alpha_seq, h_seq, C3_seq = model(\n",
    "        LongTensor(c3_seq),\n",
    "        LongTensor(d_seq),\n",
    "        LongTensor(r_seq),\n",
    "    )\n",
    "    \n",
    "    sigmoid_alpha_seq = torch.sigmoid(alpha_seq).detach().cpu().numpy()[0]\n",
    "\n",
    "    CQ3_seq = alpha_seq.unsqueeze(-1) + C3_seq.squeeze()\n",
    "    CQ3_seq = torch.sigmoid(CQ3_seq).detach().cpu().numpy()[0]\n",
    "    \n",
    "    sigmoid_alpha = sigmoid_alpha_seq[-1]\n",
    "    sigmoid_alpha_beta = CQ3_seq[-1][0]\n",
    "    \n",
    "    print(\n",
    "        \"{}, {}, {}, {}\".format(\n",
    "            sigmoid_alpha,\n",
    "            1 - np.mean(sigmoid_alphas >= sigmoid_alpha),\n",
    "            sigmoid_alpha_beta,\n",
    "            1 - np.mean(sigmoid_alphas >= sigmoid_alpha_beta)\n",
    "        )\n",
    "    )"
   ]
  },
  {
   "cell_type": "code",
   "execution_count": 73,
   "id": "3e0cb122",
   "metadata": {},
   "outputs": [
    {
     "name": "stdout",
     "output_type": "stream",
     "text": [
      "0.7216244339942932, 0.9960636638393292, 0.7241336107254028, 0.9961408469013032\n",
      "0.6654582619667053, 0.9749195671248904, 0.6684331297874451, 0.9761057489194371\n",
      "0.6274842023849487, 0.9447450521595009, 0.6303368806838989, 0.9461546586071301\n",
      "0.6092215180397034, 0.9279028955835039, 0.6121276021003723, 0.9292881284326151\n",
      "0.553541362285614, 0.7227259432582627, 0.5565601587295532, 0.7881162458158656\n",
      "0.45409128069877625, 0.49414221182282014, 0.4571230411529541, 0.5043913099996751\n",
      "0.3665081560611725, 0.2586323161418218, 0.369350790977478, 0.2615165252997953\n",
      "0.21940375864505768, 0.0020880049397159484, 0.22150442004203796, 0.002916707289330911\n"
     ]
    }
   ],
   "source": [
    "num_rep = 3\n",
    "\n",
    "for c3_seq, d_seq, r_seq in [\n",
    "    (\n",
    "        np.array([[0] * 7 * num_rep]),\n",
    "        np.array([[1, 2, 3, 4, 5, 6, 7] * num_rep]) - 1,\n",
    "        np.array([[1, 1, 1, 1, 1, 1, 1] * num_rep]),\n",
    "    ),\n",
    "    (\n",
    "        np.array([[0] * 7 * num_rep]),\n",
    "        np.array([[1, 2, 3, 4, 5, 6, 7] * num_rep]) - 1,\n",
    "        np.array([[1, 1, 1, 1, 1, 1, 0] * num_rep]),\n",
    "    ),\n",
    "    (\n",
    "        np.array([[0] * 7 * num_rep]),\n",
    "        np.array([[1, 2, 3, 4, 5, 6, 7] * num_rep]) - 1,\n",
    "        np.array([[1, 1, 1, 1, 1, 0, 0] * num_rep]),\n",
    "    ),\n",
    "    (\n",
    "        np.array([[0] * 7 * num_rep]),\n",
    "        np.array([[1, 2, 3, 4, 5, 6, 7] * num_rep]) - 1,\n",
    "        np.array([[1, 1, 1, 1, 0, 0, 0] * num_rep]),\n",
    "    ),\n",
    "    (\n",
    "        np.array([[0] * 7 * num_rep]),\n",
    "        np.array([[1, 2, 3, 4, 5, 6, 7] * num_rep]) - 1,\n",
    "        np.array([[1, 1, 1, 0, 0, 0, 0] * num_rep]),\n",
    "    ),\n",
    "    (\n",
    "        np.array([[0] * 7 * num_rep]),\n",
    "        np.array([[1, 2, 3, 4, 5, 6, 7] * num_rep]) - 1,\n",
    "        np.array([[1, 1, 0, 0, 0, 0, 0] * num_rep]),\n",
    "    ),\n",
    "    (\n",
    "        np.array([[0] * 7 * num_rep]),\n",
    "        np.array([[1, 2, 3, 4, 5, 6, 7] * num_rep]) - 1,\n",
    "        np.array([[1, 0, 0, 0, 0, 0, 0] * num_rep]),\n",
    "    ),\n",
    "    (\n",
    "        np.array([[0] * 7 * num_rep]),\n",
    "        np.array([[1, 2, 3, 4, 5, 6, 7] * num_rep]) - 1,\n",
    "        np.array([[0, 0, 0, 0, 0, 0, 0] * num_rep]),\n",
    "    ),\n",
    "]:\n",
    "    alpha_seq, h_seq, C3_seq = model(\n",
    "        LongTensor(c3_seq),\n",
    "        LongTensor(d_seq),\n",
    "        LongTensor(r_seq),\n",
    "    )\n",
    "    \n",
    "    sigmoid_alpha_seq = torch.sigmoid(alpha_seq).detach().cpu().numpy()[0]\n",
    "\n",
    "    CQ3_seq = alpha_seq.unsqueeze(-1) + C3_seq.squeeze()\n",
    "    CQ3_seq = torch.sigmoid(CQ3_seq).detach().cpu().numpy()[0]\n",
    "    \n",
    "    sigmoid_alpha = sigmoid_alpha_seq[-1]\n",
    "    sigmoid_alpha_beta = CQ3_seq[-1][0]\n",
    "    \n",
    "    print(\n",
    "        \"{}, {}, {}, {}\".format(\n",
    "            sigmoid_alpha,\n",
    "            1 - np.mean(sigmoid_alphas >= sigmoid_alpha),\n",
    "            sigmoid_alpha_beta,\n",
    "            1 - np.mean(sigmoid_alphas >= sigmoid_alpha_beta)\n",
    "        )\n",
    "    )"
   ]
  },
  {
   "cell_type": "code",
   "execution_count": 81,
   "id": "1764750e",
   "metadata": {},
   "outputs": [
    {
     "data": {
      "text/plain": [
       "tensor([[0.2335],\n",
       "        [0.3000],\n",
       "        [0.3972],\n",
       "        [0.5605],\n",
       "        [0.6645],\n",
       "        [0.7309],\n",
       "        [0.9059]], grad_fn=<SigmoidBackward>)"
      ]
     },
     "execution_count": 81,
     "metadata": {},
     "output_type": "execute_result"
    }
   ],
   "source": [
    "torch.sigmoid(model.D.weight)"
   ]
  },
  {
   "cell_type": "code",
   "execution_count": 82,
   "id": "747061be",
   "metadata": {},
   "outputs": [
    {
     "name": "stdout",
     "output_type": "stream",
     "text": [
      "[0.23345503], 0.03747034545513628\n",
      "[0.29999962], 0.12952536479152443\n",
      "[0.3972151], 0.30837476845081413\n",
      "[0.5605429], 0.7959686068051087\n",
      "[0.66447735], 0.9735587078742972\n",
      "[0.7309381], 0.9963480224887069\n",
      "[0.9058743], 1.0\n"
     ]
    }
   ],
   "source": [
    "for sigmoid_alpha in torch.sigmoid(model.D.weight).detach().cpu().numpy():\n",
    "    print(\n",
    "        \"{}, {}\".format(\n",
    "            sigmoid_alpha,\n",
    "            1 - np.mean(sigmoid_alphas >= sigmoid_alpha)\n",
    "        )\n",
    "    )"
   ]
  },
  {
   "cell_type": "code",
   "execution_count": 17,
   "id": "db5d985c",
   "metadata": {},
   "outputs": [
    {
     "data": {
      "text/plain": [
       "Parameter containing:\n",
       "tensor([[-1.1889],\n",
       "        [-0.8473],\n",
       "        [-0.4171],\n",
       "        [ 0.2434],\n",
       "        [ 0.6833],\n",
       "        [ 0.9994],\n",
       "        [ 2.2643]], requires_grad=True)"
      ]
     },
     "execution_count": 17,
     "metadata": {},
     "output_type": "execute_result"
    }
   ],
   "source": [
    "model.D.weight"
   ]
  },
  {
   "cell_type": "code",
   "execution_count": 18,
   "id": "1751e05f",
   "metadata": {},
   "outputs": [
    {
     "name": "stdout",
     "output_type": "stream",
     "text": [
      "70\n",
      "38.5\n",
      "30.625\n",
      "20.499999999999996\n"
     ]
    }
   ],
   "source": [
    "down = 30\n",
    "print(70)\n",
    "print(70 * (1 - down * 1.5 * 1 / 100))\n",
    "print(35 * (1 - down * 1.5 * 2 / 100) + 35 * (1 - down * 0.75 / 100))\n",
    "print(30 * (1 - down * 1.5 * 3 / 100) + 40 * (1 - down * 0.75 / 100))"
   ]
  },
  {
   "cell_type": "code",
   "execution_count": 19,
   "id": "acea9eba",
   "metadata": {},
   "outputs": [
    {
     "name": "stdout",
     "output_type": "stream",
     "text": [
      "70\n",
      "101.5\n",
      "109.375\n",
      "119.5\n"
     ]
    }
   ],
   "source": [
    "up = 30\n",
    "print(70)\n",
    "print(70 * (1 + up * 1.5 * 1 / 100))\n",
    "print(35 * (1 + up * 1.5 * 2 / 100) + 35 * (1 + up * 0.75 / 100))\n",
    "print(30 * (1 + up * 1.5 * 3 / 100) + 40 * (1 + up * 0.75 / 100))"
   ]
  }
 ],
 "metadata": {
  "kernelspec": {
   "display_name": "Python 3",
   "language": "python",
   "name": "python3"
  },
  "language_info": {
   "codemirror_mode": {
    "name": "ipython",
    "version": 3
   },
   "file_extension": ".py",
   "mimetype": "text/x-python",
   "name": "python",
   "nbconvert_exporter": "python",
   "pygments_lexer": "ipython3",
   "version": "3.9.5"
  }
 },
 "nbformat": 4,
 "nbformat_minor": 5
}
