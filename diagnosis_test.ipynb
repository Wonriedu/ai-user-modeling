{
 "cells": [
  {
   "cell_type": "code",
   "execution_count": 1,
   "id": "b93e5091",
   "metadata": {},
   "outputs": [],
   "source": [
    "import os\n",
    "import pickle\n",
    "\n",
    "import numpy as np\n",
    "import torch\n",
    "\n",
    "import matplotlib.pyplot as plt\n",
    "\n",
    "from torch.utils.data import DataLoader, random_split\n",
    "from torch.nn.functional import one_hot\n",
    "\n",
    "from data_loaders.pulja_data_loader import PuljaDataLoader\n",
    "from models._20220530_00 import UserModel\n",
    "from models.utils import collate_fn\n",
    "\n",
    "if torch.cuda.is_available():\n",
    "    from torch.cuda import FloatTensor, LongTensor\n",
    "    torch.set_default_tensor_type(torch.cuda.FloatTensor)\n",
    "else:\n",
    "    from torch import FloatTensor, LongTensor"
   ]
  },
  {
   "cell_type": "code",
   "execution_count": 2,
   "id": "97c1e541",
   "metadata": {},
   "outputs": [],
   "source": [
    "ckpt_path = \"ckpts\"\n",
    "if not os.path.isdir(ckpt_path):\n",
    "    os.mkdir(ckpt_path)\n",
    "\n",
    "batch_size = 256\n",
    "num_epochs = 100\n",
    "train_ratio = 0.9\n",
    "\n",
    "seq_len = 100\n",
    "\n",
    "dim_v = 20\n",
    "\n",
    "dataset = PuljaDataLoader(seq_len)\n",
    "\n",
    "if torch.cuda.is_available():\n",
    "    device = \"cuda\"\n",
    "else:\n",
    "    device = \"cpu\"\n",
    "\n",
    "model = UserModel(dataset.num_c, dataset.num_d, dim_v).to(device)\n",
    "\n",
    "train_size = int(len(dataset) * train_ratio)\n",
    "test_size = len(dataset) - train_size\n",
    "\n",
    "train_dataset, test_dataset = random_split(\n",
    "    dataset, [train_size, test_size]\n",
    ")\n",
    "\n",
    "if os.path.exists(os.path.join(dataset.dataset_dir, \"indices.pkl\")):\n",
    "    with open(os.path.join(dataset.dataset_dir, \"indices.pkl\"), \"rb\") as f:\n",
    "        indices = pickle.load(f)\n",
    "    train_dataset.indices = indices[0]\n",
    "    test_dataset.indices = indices[1]\n",
    "else:\n",
    "    with open(os.path.join(dataset.dataset_dir, \"indices.pkl\"), \"wb\") as f:\n",
    "        pickle.dump((train_dataset.indices, test_dataset.indices), f)\n"
   ]
  },
  {
   "cell_type": "code",
   "execution_count": 3,
   "id": "23885927",
   "metadata": {},
   "outputs": [
    {
     "name": "stdout",
     "output_type": "stream",
     "text": [
      "0.7915178629828761\n",
      "0.7644189259195303\n",
      "0.7025539179819519\n",
      "0.6257541291662546\n",
      "0.5188984881209503\n",
      "0.4143646408839779\n",
      "0.1\n"
     ]
    }
   ],
   "source": [
    "for d in [1.0, 2.0, 3.0, 4.0, 5.0, 6.0, 7.0]:\n",
    "    print(np.mean(\n",
    "        (dataset.df[dataset.df[\"difficulty_cd\"] == d][\"isCorrect\"] == \"Y\")\n",
    "    ))"
   ]
  },
  {
   "cell_type": "code",
   "execution_count": 4,
   "id": "b75ee4fc",
   "metadata": {},
   "outputs": [
    {
     "name": "stdout",
     "output_type": "stream",
     "text": [
      "0.6583205787318656\n",
      "0.6361595579347263\n",
      "0.5688187403458649\n",
      "0.47374146968648007\n",
      "0.35295176385889127\n",
      "0.26933701657458564\n",
      "0.1\n"
     ]
    }
   ],
   "source": [
    "for d in [1.0, 2.0, 3.0, 4.0, 5.0, 6.0, 7.0]:\n",
    "    print(np.mean(\n",
    "        (dataset.df[dataset.df[\"difficulty_cd\"] == d][\"isCorrect\"] == \"Y\") & \\\n",
    "        (dataset.df[dataset.df[\"difficulty_cd\"] == d][\"duration\"] <= dataset.difficulty2duration[d])\n",
    "    ))"
   ]
  },
  {
   "cell_type": "code",
   "execution_count": 5,
   "id": "10144252",
   "metadata": {},
   "outputs": [
    {
     "name": "stdout",
     "output_type": "stream",
     "text": [
      "0.6583205787318656\n",
      "0.6361595579347263\n",
      "0.5688187403458649\n",
      "0.47374146968648007\n",
      "0.35295176385889127\n",
      "0.26933701657458564\n",
      "0.1\n"
     ]
    }
   ],
   "source": [
    "difficulty2duration = {\n",
    "    1.0: 1.5,\n",
    "    2.0: 2.0,\n",
    "    3.0: 2.5,\n",
    "    4.0: 2.5,\n",
    "    5.0: 2.5,\n",
    "    6.0: 3.0,\n",
    "    7.0: 7.0,\n",
    "}\n",
    "for d in [1.0, 2.0, 3.0, 4.0, 5.0, 6.0, 7.0]:\n",
    "    print(np.mean(\n",
    "        (dataset.df[dataset.df[\"difficulty_cd\"] == d][\"isCorrect\"] == \"Y\") & \\\n",
    "        (dataset.df[dataset.df[\"difficulty_cd\"] == d][\"duration\"] <= difficulty2duration[d] * 60)\n",
    "    ))"
   ]
  },
  {
   "cell_type": "code",
   "execution_count": 6,
   "id": "4b425db4",
   "metadata": {
    "scrolled": true
   },
   "outputs": [
    {
     "data": {
      "text/plain": [
       "UserModel(\n",
       "  (D): Embedding(7, 1)\n",
       "  (gru): GRU(40, 20, batch_first=True)\n",
       "  (linear_1): Sequential(\n",
       "    (0): Linear(in_features=20, out_features=20, bias=True)\n",
       "    (1): ReLU()\n",
       "    (2): Dropout(p=0.5, inplace=False)\n",
       "    (3): Linear(in_features=20, out_features=1, bias=True)\n",
       "    (4): Dropout(p=0.5, inplace=False)\n",
       "  )\n",
       "  (linear_2): Sequential(\n",
       "    (0): Linear(in_features=60, out_features=20, bias=True)\n",
       "    (1): ReLU()\n",
       "    (2): Dropout(p=0.5, inplace=False)\n",
       "    (3): Linear(in_features=20, out_features=1, bias=True)\n",
       "    (4): Dropout(p=0.5, inplace=False)\n",
       "  )\n",
       ")"
      ]
     },
     "execution_count": 6,
     "metadata": {},
     "output_type": "execute_result"
    }
   ],
   "source": [
    "model.load_state_dict(\n",
    "    torch.load(\n",
    "        os.path.join(\n",
    "            os.path.join(\n",
    "                ckpt_path, \"_20220530_00\"\n",
    "            ),\n",
    "            \"model.ckpt\"\n",
    "        ),\n",
    "        map_location=device\n",
    "    )\n",
    ")\n",
    "model.eval()"
   ]
  },
  {
   "cell_type": "code",
   "execution_count": 7,
   "id": "b191e9db",
   "metadata": {},
   "outputs": [],
   "source": [
    "####################################################################\n",
    "\n",
    "# c_seq = np.array([[0, 0, 0] * 10])\n",
    "# d_seq = np.array([[4, 6, 7] * 10]) - 1\n",
    "# r_seq = np.array([[1, 1, 1] * 10])\n",
    "\n",
    "# c_seq = np.array([[0] * 5])\n",
    "# d_seq = np.array([[7] * 5]) - 1\n",
    "# r_seq = np.array([[1] * 5])\n",
    "\n",
    "##################################################\n",
    "\n",
    "# c_seq = np.array([[0, 0, 0] * 10])\n",
    "# d_seq = np.array([[4, 6, 7] * 10]) - 1\n",
    "# r_seq = np.array([[1, 1, 0] * 10])\n",
    "\n",
    "# c_seq = np.array([[0, 0] * 10])\n",
    "# d_seq = np.array([[6, 7] * 10]) - 1\n",
    "# r_seq = np.array([[1, 0] * 10])\n",
    "\n",
    "##################################################\n",
    "\n",
    "# c_seq = np.array([[0, 0, 0] * 10])\n",
    "# d_seq = np.array([[4, 6, 5] * 10]) - 1\n",
    "# r_seq = np.array([[1, 0, 1] * 10])\n",
    "\n",
    "# c_seq = np.array([[0, 0] * 10])\n",
    "# d_seq = np.array([[5, 6] * 10]) - 1\n",
    "# r_seq = np.array([[1, 0] * 10])\n",
    "\n",
    "##################################################\n",
    "\n",
    "# c_seq = np.array([[0, 0, 0] * 10])\n",
    "# d_seq = np.array([[4, 6, 5] * 10]) - 1\n",
    "# r_seq = np.array([[1, 0, 0] * 10])\n",
    "\n",
    "# c_seq = np.array([[0, 0] * 10])\n",
    "# d_seq = np.array([[4, 5] * 10]) - 1\n",
    "# r_seq = np.array([[1, 0] * 10])\n",
    "\n",
    "##################################################\n",
    "\n",
    "# c_seq = np.array([[0, 0, 0] * 10])\n",
    "# d_seq = np.array([[4, 2, 3] * 10]) - 1\n",
    "# r_seq = np.array([[0, 1, 1] * 10])\n",
    "\n",
    "# c_seq = np.array([[0, 0] * 10])\n",
    "# d_seq = np.array([[3, 4] * 10]) - 1\n",
    "# r_seq = np.array([[1, 0] * 10])\n",
    "\n",
    "##################################################\n",
    "\n",
    "# c_seq = np.array([[0, 0, 0] * 10])\n",
    "# d_seq = np.array([[4, 2, 3] * 10]) - 1\n",
    "# r_seq = np.array([[0, 1, 0] * 10])\n",
    "\n",
    "# c_seq = np.array([[0, 0] * 10])\n",
    "# d_seq = np.array([[2, 3] * 10]) - 1\n",
    "# r_seq = np.array([[1, 0] * 10])\n",
    "\n",
    "##################################################\n",
    "\n",
    "# c_seq = np.array([[0, 0, 0] * 10])\n",
    "# d_seq = np.array([[4, 2, 1] * 10]) - 1\n",
    "# r_seq = np.array([[0, 0, 1] * 10])\n",
    "\n",
    "# c_seq = np.array([[0, 0] * 10])\n",
    "# d_seq = np.array([[1, 2] * 10]) - 1\n",
    "# r_seq = np.array([[1, 0] * 10])\n",
    "\n",
    "##################################################\n",
    "\n",
    "# c_seq = np.array([[0, 0, 0] * 10])\n",
    "# d_seq = np.array([[4, 2, 1] * 10]) - 1\n",
    "# r_seq = np.array([[0, 0, 0] * 10])\n",
    "\n",
    "# c_seq = np.array([[0] * 5])\n",
    "# d_seq = np.array([[1] * 5]) - 1\n",
    "# r_seq = np.array([[0] * 5])\n",
    "\n",
    "# c_seq = np.array([[0, 0] * 10])\n",
    "# d_seq = np.array([[1, 1] * 10]) - 1\n",
    "# r_seq = np.array([[1, 0] * 10])\n",
    "\n",
    "####################################################################\n",
    "\n",
    "c_seq = np.array([[0] * 7])\n",
    "d_seq = np.array([[1, 2, 3, 4, 5, 6, 7]]) - 1\n",
    "r_seq = np.array([[1, 1, 1, 1, 1, 1, 1]])\n",
    "\n",
    "# c_seq = np.array([[0] * 7])\n",
    "# d_seq = np.array([[1, 2, 3, 4, 5, 6, 7]]) - 1\n",
    "# r_seq = np.array([[1, 1, 1, 1, 1, 1, 0]])\n",
    "\n",
    "# c_seq = np.array([[0] * 7])\n",
    "# d_seq = np.array([[1, 2, 3, 4, 5, 6, 7]]) - 1\n",
    "# r_seq = np.array([[1, 1, 1, 1, 1, 0, 0]])\n",
    "\n",
    "# c_seq = np.array([[0] * 7])\n",
    "# d_seq = np.array([[1, 2, 3, 4, 5, 6, 7]]) - 1\n",
    "# r_seq = np.array([[1, 1, 1, 1, 0, 0, 0]])\n",
    "\n",
    "# c_seq = np.array([[0] * 7])\n",
    "# d_seq = np.array([[1, 2, 3, 4, 5, 6, 7]]) - 1\n",
    "# r_seq = np.array([[1, 1, 1, 0, 0, 0, 0]])\n",
    "\n",
    "# c_seq = np.array([[0] * 7])\n",
    "# d_seq = np.array([[1, 2, 3, 4, 5, 6, 7]]) - 1\n",
    "# r_seq = np.array([[1, 1, 0, 0, 0, 0, 0]])\n",
    "\n",
    "# c_seq = np.array([[0] * 7])\n",
    "# d_seq = np.array([[1, 2, 3, 4, 5, 6, 7]]) - 1\n",
    "# r_seq = np.array([[1, 0, 0, 0, 0, 0, 0]])\n",
    "\n",
    "# c_seq = np.array([[0] * 7])\n",
    "# d_seq = np.array([[1, 2, 3, 4, 5, 6, 7]]) - 1\n",
    "# r_seq = np.array([[0, 0, 0, 0, 0, 0, 0]])\n",
    "\n",
    "####################################################################\n",
    "\n",
    "# c_seq = np.array([[0] * 10])\n",
    "# d_seq = np.array([[7] * 10]) - 1\n",
    "# r_seq = np.array([[1] * 10])\n",
    "\n",
    "alpha_seq, h_seq, C_seq = model(\n",
    "    LongTensor(c_seq),\n",
    "    LongTensor(d_seq),\n",
    "    FloatTensor(r_seq),\n",
    ")\n",
    "\n",
    "sigmoid_alpha_seq = torch.sigmoid(alpha_seq).detach().cpu().numpy()\n",
    "\n",
    "CQ_seq = torch.sigmoid(C_seq.squeeze() + alpha_seq.unsqueeze(-1)).detach().cpu().numpy()\n",
    "C_seq = C_seq.squeeze().detach().cpu().numpy()"
   ]
  },
  {
   "cell_type": "code",
   "execution_count": 8,
   "id": "518a0f84",
   "metadata": {
    "scrolled": true
   },
   "outputs": [
    {
     "data": {
      "image/png": "[encoded data removed]",
      "text/plain": [
       "<Figure size 1080x360 with 1 Axes>"
      ]
     },
     "metadata": {},
     "output_type": "display_data"
    }
   ],
   "source": [
    "plt.figure(figsize=[15, 5], facecolor=\"white\")\n",
    "plt.plot(r_seq[0], label=\"r_seq\")\n",
    "plt.plot((d_seq[0] + 1) / 10, label=\"d_seq\")\n",
    "plt.plot(sigmoid_alpha_seq, label=\"sigmoid_alpha_seq\")\n",
    "plt.plot(CQ_seq.T[0], label=\"sigmoid_alpha_beta_seq\")\n",
    "# plt.plot(sigmoid_alpha_beta_gamma_seq, label=\"sigmoid_alpha_beta_gamma_seq\")\n",
    "# plt.plot(r_seq_ma, label=\"r_seq_ma\")\n",
    "plt.grid()\n",
    "plt.ylim(0, 1.2)\n",
    "plt.legend()\n",
    "plt.show()"
   ]
  },
  {
   "cell_type": "code",
   "execution_count": 9,
   "id": "e336e1de",
   "metadata": {},
   "outputs": [
    {
     "data": {
      "image/png": "[encoded data removed]",
      "text/plain": [
       "<Figure size 1440x504 with 2 Axes>"
      ]
     },
     "metadata": {},
     "output_type": "display_data"
    }
   ],
   "source": [
    "plt.figure(figsize=[20, 7], facecolor=\"white\")\n",
    "temp = np.concatenate([CQ_seq.T, r_seq], axis=0)\n",
    "plt.pcolormesh(temp)\n",
    "plt.colorbar()\n",
    "plt.show()\n",
    "\n",
    "# plt.figure(figsize=[15, 0.5], facecolor=\"white\")\n",
    "# plt.pcolormesh(r_seq)\n",
    "# plt.show()"
   ]
  },
  {
   "cell_type": "code",
   "execution_count": 10,
   "id": "c005f432",
   "metadata": {},
   "outputs": [
    {
     "data": {
      "text/plain": [
       "(array([0.5728043 , 0.53983444, 0.53983444, 0.53983444, 0.53983444,\n",
       "        0.53983444, 0.53983444, 0.53983444, 0.53983444, 0.53983444,\n",
       "        0.53983444, 0.53983444, 0.53983444, 0.53983444, 0.53983444,\n",
       "        0.53983444, 0.53983444, 0.53983444, 0.53983444, 0.53983444,\n",
       "        0.53983444, 0.53983444, 0.53983444, 0.53983444, 0.53983444,\n",
       "        0.53983444, 0.53983444, 0.53983444, 0.53983444, 0.53983444,\n",
       "        0.53983444, 0.53983444, 0.53983444, 0.53983444, 0.53983444,\n",
       "        0.53983444, 0.53983444], dtype=float32),\n",
       " array([0.7364541, 0.6676918, 0.6676918, 0.6676918, 0.6676918, 0.6676918,\n",
       "        0.6676918, 0.6676918, 0.6676918, 0.6676918, 0.6676918, 0.6676918,\n",
       "        0.6676918, 0.6676918, 0.6676918, 0.6676918, 0.6676918, 0.6676918,\n",
       "        0.6676918, 0.6676918, 0.6676918, 0.6676918, 0.6676918, 0.6676918,\n",
       "        0.6676918, 0.6676918, 0.6676918, 0.6676918, 0.6676918, 0.6676918,\n",
       "        0.6676918, 0.6676918, 0.6676918, 0.6676918, 0.6676918, 0.6676918,\n",
       "        0.6676918], dtype=float32),\n",
       " array([[0, 0, 0, 0, 0, 0, 0]]),\n",
       " array([[0, 1, 2, 3, 4, 5, 6]]))"
      ]
     },
     "execution_count": 10,
     "metadata": {},
     "output_type": "execute_result"
    }
   ],
   "source": [
    "CQ_seq[0], CQ_seq[-1], c_seq, d_seq"
   ]
  },
  {
   "cell_type": "code",
   "execution_count": 11,
   "id": "02d00e7d",
   "metadata": {},
   "outputs": [
    {
     "data": {
      "text/plain": [
       "Parameter containing:\n",
       "tensor([[-0.7354],\n",
       "        [-0.5433],\n",
       "        [-0.2500],\n",
       "        [ 0.2259],\n",
       "        [ 0.8020],\n",
       "        [ 1.2470],\n",
       "        [ 2.4088]], requires_grad=True)"
      ]
     },
     "execution_count": 11,
     "metadata": {},
     "output_type": "execute_result"
    }
   ],
   "source": [
    "model.D.weight"
   ]
  }
 ],
 "metadata": {
  "kernelspec": {
   "display_name": "Python 3",
   "language": "python",
   "name": "python3"
  },
  "language_info": {
   "codemirror_mode": {
    "name": "ipython",
    "version": 3
   },
   "file_extension": ".py",
   "mimetype": "text/x-python",
   "name": "python",
   "nbconvert_exporter": "python",
   "pygments_lexer": "ipython3",
   "version": "3.9.5"
  }
 },
 "nbformat": 4,
 "nbformat_minor": 5
}
