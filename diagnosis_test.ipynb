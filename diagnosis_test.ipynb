{
 "cells": [
  {
   "cell_type": "code",
   "execution_count": 1,
   "id": "b93e5091",
   "metadata": {},
   "outputs": [],
   "source": [
    "import os\n",
    "import pickle\n",
    "\n",
    "import numpy as np\n",
    "import torch\n",
    "\n",
    "import matplotlib.pyplot as plt\n",
    "\n",
    "from torch.utils.data import DataLoader, random_split\n",
    "from torch.nn.functional import one_hot\n",
    "\n",
    "from data_loaders.pulja_data_loader import PuljaDataLoader\n",
    "from models._20220530_00 import UserModel\n",
    "from models.utils import collate_fn\n",
    "\n",
    "if torch.cuda.is_available():\n",
    "    from torch.cuda import FloatTensor, LongTensor\n",
    "    torch.set_default_tensor_type(torch.cuda.FloatTensor)\n",
    "else:\n",
    "    from torch import FloatTensor, LongTensor"
   ]
  },
  {
   "cell_type": "code",
   "execution_count": 2,
   "id": "97c1e541",
   "metadata": {},
   "outputs": [],
   "source": [
    "ckpt_path = \"ckpts\"\n",
    "if not os.path.isdir(ckpt_path):\n",
    "    os.mkdir(ckpt_path)\n",
    "\n",
    "batch_size = 256\n",
    "num_epochs = 100\n",
    "train_ratio = 0.9\n",
    "\n",
    "seq_len = 100\n",
    "\n",
    "dim_v = 20\n",
    "\n",
    "dataset = PuljaDataLoader(seq_len)\n",
    "\n",
    "if torch.cuda.is_available():\n",
    "    device = \"cuda\"\n",
    "else:\n",
    "    device = \"cpu\"\n",
    "\n",
    "model = UserModel(dataset.num_c, dataset.num_d, dim_v).to(device)\n",
    "\n",
    "train_size = int(len(dataset) * train_ratio)\n",
    "test_size = len(dataset) - train_size\n",
    "\n",
    "train_dataset, test_dataset = random_split(\n",
    "    dataset, [train_size, test_size]\n",
    ")\n",
    "\n",
    "if os.path.exists(os.path.join(dataset.dataset_dir, \"indices.pkl\")):\n",
    "    with open(os.path.join(dataset.dataset_dir, \"indices.pkl\"), \"rb\") as f:\n",
    "        indices = pickle.load(f)\n",
    "    train_dataset.indices = indices[0]\n",
    "    test_dataset.indices = indices[1]\n",
    "else:\n",
    "    with open(os.path.join(dataset.dataset_dir, \"indices.pkl\"), \"wb\") as f:\n",
    "        pickle.dump((train_dataset.indices, test_dataset.indices), f)\n"
   ]
  },
  {
   "cell_type": "code",
   "execution_count": 3,
   "id": "b16e5509",
   "metadata": {},
   "outputs": [
    {
     "name": "stdout",
     "output_type": "stream",
     "text": [
      "0.7915178629828761\n",
      "0.7644189259195303\n",
      "0.7025539179819519\n",
      "0.6257541291662546\n",
      "0.5188984881209503\n",
      "0.4143646408839779\n",
      "0.1\n"
     ]
    }
   ],
   "source": [
    "for d in [1.0, 2.0, 3.0, 4.0, 5.0, 6.0, 7.0]:\n",
    "    print(np.mean(\n",
    "        (dataset.df[dataset.df[\"difficulty_cd\"] == d][\"isCorrect\"] == \"Y\")\n",
    "    ))"
   ]
  },
  {
   "cell_type": "code",
   "execution_count": 4,
   "id": "c309b467",
   "metadata": {},
   "outputs": [
    {
     "name": "stdout",
     "output_type": "stream",
     "text": [
      "0.6583205787318656\n",
      "0.6361595579347263\n",
      "0.5688187403458649\n",
      "0.47374146968648007\n",
      "0.3943484521238301\n",
      "0.35911602209944754\n",
      "0.1\n"
     ]
    }
   ],
   "source": [
    "for d in [1.0, 2.0, 3.0, 4.0, 5.0, 6.0, 7.0]:\n",
    "    print(np.mean(\n",
    "        (dataset.df[dataset.df[\"difficulty_cd\"] == d][\"isCorrect\"] == \"Y\") & \\\n",
    "        (dataset.df[dataset.df[\"difficulty_cd\"] == d][\"duration\"] <= dataset.difficulty2duration[d])\n",
    "    ))"
   ]
  },
  {
   "cell_type": "code",
   "execution_count": 5,
   "id": "9a212161",
   "metadata": {},
   "outputs": [
    {
     "name": "stdout",
     "output_type": "stream",
     "text": [
      "0.6583205787318656\n",
      "0.6361595579347263\n",
      "0.5688187403458649\n",
      "0.47374146968648007\n",
      "0.3943484521238301\n",
      "0.35911602209944754\n",
      "0.1\n"
     ]
    }
   ],
   "source": [
    "difficulty2duration = {\n",
    "    1.0: 1.5,\n",
    "    2.0: 2.0,\n",
    "    3.0: 2.5,\n",
    "    4.0: 2.5,\n",
    "    5.0: 3.0,\n",
    "    6.0: 5.0,\n",
    "    7.0: 7.0,\n",
    "}\n",
    "for d in [1.0, 2.0, 3.0, 4.0, 5.0, 6.0, 7.0]:\n",
    "    print(np.mean(\n",
    "        (dataset.df[dataset.df[\"difficulty_cd\"] == d][\"isCorrect\"] == \"Y\") & \\\n",
    "        (dataset.df[dataset.df[\"difficulty_cd\"] == d][\"duration\"] <= difficulty2duration[d] * 60)\n",
    "    ))"
   ]
  },
  {
   "cell_type": "code",
   "execution_count": 6,
   "id": "4b425db4",
   "metadata": {
    "scrolled": true
   },
   "outputs": [
    {
     "data": {
      "text/plain": [
       "UserModel(\n",
       "  (D): Embedding(7, 1)\n",
       "  (gru): GRU(40, 20, batch_first=True)\n",
       "  (linear_1): Sequential(\n",
       "    (0): Linear(in_features=20, out_features=20, bias=True)\n",
       "    (1): ReLU()\n",
       "    (2): Dropout(p=0.5, inplace=False)\n",
       "    (3): Linear(in_features=20, out_features=1, bias=True)\n",
       "    (4): Dropout(p=0.5, inplace=False)\n",
       "  )\n",
       "  (linear_2): Sequential(\n",
       "    (0): Linear(in_features=60, out_features=20, bias=True)\n",
       "    (1): ReLU()\n",
       "    (2): Dropout(p=0.5, inplace=False)\n",
       "    (3): Linear(in_features=20, out_features=1, bias=True)\n",
       "    (4): Dropout(p=0.5, inplace=False)\n",
       "  )\n",
       ")"
      ]
     },
     "execution_count": 6,
     "metadata": {},
     "output_type": "execute_result"
    }
   ],
   "source": [
    "model.load_state_dict(\n",
    "    torch.load(\n",
    "        os.path.join(\n",
    "            os.path.join(\n",
    "                ckpt_path, \"_20220530_00\"\n",
    "            ),\n",
    "            \"model_fin.ckpt\"\n",
    "        ),\n",
    "        map_location=device\n",
    "    )\n",
    ")\n",
    "model.eval()"
   ]
  },
  {
   "cell_type": "code",
   "execution_count": 7,
   "id": "398c134a",
   "metadata": {},
   "outputs": [],
   "source": [
    "####################################################################\n",
    "\n",
    "c_seq = np.array([[0] * 7])\n",
    "d_seq = np.array([[1, 2, 3, 4, 5, 6, 7]]) - 1\n",
    "r_seq = np.array([[1, 1, 1, 1, 1, 1, 1]])\n",
    "\n",
    "# c_seq = np.array([[0] * 7])\n",
    "# d_seq = np.array([[1, 2, 3, 4, 5, 6, 7]]) - 1\n",
    "# r_seq = np.array([[1, 1, 1, 1, 1, 1, 0]])\n",
    "\n",
    "# c_seq = np.array([[0] * 7])\n",
    "# d_seq = np.array([[1, 2, 3, 4, 5, 6, 7]]) - 1\n",
    "# r_seq = np.array([[1, 1, 1, 1, 1, 0, 0]])\n",
    "\n",
    "# c_seq = np.array([[0] * 7])\n",
    "# d_seq = np.array([[1, 2, 3, 4, 5, 6, 7]]) - 1\n",
    "# r_seq = np.array([[1, 1, 1, 1, 0, 0, 0]])\n",
    "\n",
    "# c_seq = np.array([[0] * 7])\n",
    "# d_seq = np.array([[1, 2, 3, 4, 5, 6, 7]]) - 1\n",
    "# r_seq = np.array([[1, 1, 1, 0, 0, 0, 0]])\n",
    "\n",
    "# c_seq = np.array([[0] * 7])\n",
    "# d_seq = np.array([[1, 2, 3, 4, 5, 6, 7]]) - 1\n",
    "# r_seq = np.array([[1, 1, 0, 0, 0, 0, 0]])\n",
    "\n",
    "# c_seq = np.array([[0] * 7])\n",
    "# d_seq = np.array([[1, 2, 3, 4, 5, 6, 7]]) - 1\n",
    "# r_seq = np.array([[1, 0, 0, 0, 0, 0, 0]])\n",
    "\n",
    "# c_seq = np.array([[0] * 7])\n",
    "# d_seq = np.array([[1, 2, 3, 4, 5, 6, 7]]) - 1\n",
    "# r_seq = np.array([[0, 0, 0, 0, 0, 0, 0]])\n",
    "\n",
    "####################################################################\n",
    "\n",
    "# c_seq = np.array([[0] * 10])\n",
    "# d_seq = np.array([[7] * 10]) - 1\n",
    "# r_seq = np.array([[1] * 10])\n",
    "\n",
    "alpha_seq, h_seq, C_seq = model(\n",
    "    LongTensor(c_seq),\n",
    "    LongTensor(d_seq),\n",
    "    FloatTensor(r_seq),\n",
    ")\n",
    "\n",
    "sigmoid_alpha_seq = torch.sigmoid(alpha_seq).detach().cpu().numpy()\n",
    "\n",
    "CQ_seq = torch.sigmoid(C_seq.squeeze() + alpha_seq.unsqueeze(-1)).detach().cpu().numpy()\n",
    "C_seq = C_seq.squeeze().detach().cpu().numpy()"
   ]
  },
  {
   "cell_type": "code",
   "execution_count": 8,
   "id": "518a0f84",
   "metadata": {
    "scrolled": true
   },
   "outputs": [
    {
     "data": {
      "image/png": "[encoded data removed]",
      "text/plain": [
       "<Figure size 1080x360 with 1 Axes>"
      ]
     },
     "metadata": {},
     "output_type": "display_data"
    }
   ],
   "source": [
    "plt.figure(figsize=[15, 5], facecolor=\"white\")\n",
    "plt.plot(r_seq[0], label=\"r_seq\")\n",
    "plt.plot((d_seq[0] + 1) / 10, label=\"d_seq\")\n",
    "plt.plot(sigmoid_alpha_seq, label=\"sigmoid_alpha_seq\")\n",
    "plt.plot(CQ_seq.T[0], label=\"sigmoid_alpha_beta_seq\")\n",
    "# plt.plot(sigmoid_alpha_beta_gamma_seq, label=\"sigmoid_alpha_beta_gamma_seq\")\n",
    "# plt.plot(r_seq_ma, label=\"r_seq_ma\")\n",
    "plt.grid()\n",
    "plt.ylim(0, 1.2)\n",
    "plt.legend()\n",
    "plt.show()"
   ]
  },
  {
   "cell_type": "code",
   "execution_count": 9,
   "id": "e336e1de",
   "metadata": {},
   "outputs": [
    {
     "data": {
      "image/png": "[encoded data removed]",
      "text/plain": [
       "<Figure size 1440x504 with 2 Axes>"
      ]
     },
     "metadata": {},
     "output_type": "display_data"
    }
   ],
   "source": [
    "plt.figure(figsize=[20, 7], facecolor=\"white\")\n",
    "temp = np.concatenate([CQ_seq.T, r_seq], axis=0)\n",
    "plt.pcolormesh(temp)\n",
    "plt.colorbar()\n",
    "plt.show()\n",
    "\n",
    "# plt.figure(figsize=[15, 0.5], facecolor=\"white\")\n",
    "# plt.pcolormesh(r_seq)\n",
    "# plt.show()"
   ]
  },
  {
   "cell_type": "code",
   "execution_count": 10,
   "id": "c005f432",
   "metadata": {
    "scrolled": true
   },
   "outputs": [
    {
     "data": {
      "text/plain": [
       "(array([0.5594529, 0.5281791, 0.5281791, 0.5281791, 0.5281791, 0.5281791,\n",
       "        0.5281791, 0.5281791, 0.5281791, 0.5281791, 0.5281791, 0.5281791,\n",
       "        0.5281791, 0.5281791, 0.5281791, 0.5281791, 0.5281791, 0.5281791,\n",
       "        0.5281791, 0.5281791, 0.5281791, 0.5281791, 0.5281791, 0.5281791,\n",
       "        0.5281791, 0.5281791, 0.5281791, 0.5281791, 0.5281791, 0.5281791,\n",
       "        0.5281791, 0.5281791, 0.5281791, 0.5281791, 0.5281791, 0.5281791,\n",
       "        0.5281791], dtype=float32),\n",
       " array([0.6769659 , 0.60940737, 0.60940737, 0.60940737, 0.60940737,\n",
       "        0.60940737, 0.60940737, 0.60940737, 0.60940737, 0.60940737,\n",
       "        0.60940737, 0.60940737, 0.60940737, 0.60940737, 0.60940737,\n",
       "        0.60940737, 0.60940737, 0.60940737, 0.60940737, 0.60940737,\n",
       "        0.60940737, 0.60940737, 0.60940737, 0.60940737, 0.60940737,\n",
       "        0.60940737, 0.60940737, 0.60940737, 0.60940737, 0.60940737,\n",
       "        0.60940737, 0.60940737, 0.60940737, 0.60940737, 0.60940737,\n",
       "        0.60940737, 0.60940737], dtype=float32),\n",
       " array([[0, 0, 0, 0, 0, 0, 0]]),\n",
       " array([[0, 1, 2, 3, 4, 5, 6]]))"
      ]
     },
     "execution_count": 10,
     "metadata": {},
     "output_type": "execute_result"
    }
   ],
   "source": [
    "CQ_seq[0], CQ_seq[-1], c_seq, d_seq"
   ]
  },
  {
   "cell_type": "code",
   "execution_count": 11,
   "id": "269dfcbd",
   "metadata": {},
   "outputs": [],
   "source": [
    "from models.utils import collate_fn\n",
    "\n",
    "train_loader = DataLoader(\n",
    "    train_dataset, batch_size=batch_size, shuffle=True,\n",
    "    collate_fn=collate_fn\n",
    ")\n",
    "test_loader = DataLoader(\n",
    "    test_dataset, batch_size=test_size, shuffle=True,\n",
    "    collate_fn=collate_fn\n",
    ")\n",
    "\n",
    "alphas = []\n",
    "sigmoid_alphas = []\n",
    "\n",
    "logits = []\n",
    "preds = []\n",
    "tgts = []\n",
    "\n",
    "for data in train_loader:\n",
    "    c_seq, d_seq, r_seq, \\\n",
    "        cshft_seq, dshft_seq, rshft_seq, m_seq = data\n",
    "\n",
    "    batch_size = c_seq.shape[0]\n",
    "    seq_len = c_seq.shape[1]\n",
    "\n",
    "    # rshft_seq: [batch_size, seq_len]\n",
    "    # m_seq: [batch_size, seq_len]\n",
    "\n",
    "    alpha_seq, h_seq, C_seq = \\\n",
    "        model(c_seq, d_seq, r_seq)\n",
    "\n",
    "    # alpha_seq: [batch_size, seq_len]\n",
    "\n",
    "    # cshft_one_hot_seq: [batch_size, seq_len, 1, num_c]\n",
    "    cshft_one_hot_seq = one_hot(cshft_seq, model.num_c).float()\n",
    "    cshft_one_hot_seq = torch.reshape(\n",
    "        cshft_one_hot_seq,\n",
    "        shape=[\n",
    "            -1,\n",
    "            cshft_one_hot_seq.shape[1],\n",
    "            cshft_one_hot_seq.shape[2]\n",
    "        ]\n",
    "    ).unsqueeze(-2)\n",
    "\n",
    "    # beta_shft_seq: [batch_size, seq_len]\n",
    "    beta_shft_seq = torch.bmm(\n",
    "        torch.reshape(\n",
    "            cshft_one_hot_seq,\n",
    "            shape=[\n",
    "                -1,\n",
    "                cshft_one_hot_seq.shape[2],\n",
    "                cshft_one_hot_seq.shape[3]\n",
    "            ]\n",
    "        ),\n",
    "        torch.reshape(\n",
    "            C_seq, shape=[-1, C_seq.shape[2], C_seq.shape[3]]\n",
    "        )\n",
    "    )\n",
    "    beta_shft_seq = torch.reshape(\n",
    "        beta_shft_seq, shape=[batch_size, seq_len]\n",
    "    )\n",
    "\n",
    "    # gamma_shft_seq: [batch_size, seq_len]\n",
    "    gamma_shft_seq = model.D(dshft_seq).squeeze()\n",
    "    \n",
    "    alphas.append(\n",
    "        torch.masked_select(\n",
    "            alpha_seq, m_seq\n",
    "        )\n",
    "    )\n",
    "    sigmoid_alphas.append(\n",
    "        torch.sigmoid(torch.masked_select(\n",
    "            alpha_seq, m_seq\n",
    "        ))\n",
    "    )\n",
    "    \n",
    "    logit = torch.masked_select(\n",
    "        alpha_seq +\n",
    "        beta_shft_seq -\n",
    "        gamma_shft_seq, m_seq\n",
    "    )\n",
    "    pred = torch.sigmoid(logit)\n",
    "    \n",
    "    tgt = torch.masked_select(\n",
    "        r_seq, m_seq\n",
    "    )\n",
    "    \n",
    "    logits.append(logit)\n",
    "    preds.append(pred)\n",
    "    tgts.append(tgt)\n",
    "\n",
    "alphas = torch.cat(alphas, dim=0).detach().cpu().numpy()\n",
    "sigmoid_alphas = torch.cat(sigmoid_alphas, dim=0).detach().cpu().numpy()\n",
    "\n",
    "logits = torch.cat(logits, dim=0).detach().cpu().numpy()\n",
    "preds = torch.cat(preds, dim=0).detach().cpu().numpy()\n",
    "tgts = torch.cat(tgts, dim=0).detach().cpu().numpy()"
   ]
  },
  {
   "cell_type": "code",
   "execution_count": 12,
   "id": "99db3e92",
   "metadata": {},
   "outputs": [
    {
     "data": {
      "image/png": "[encoded data removed]",
      "text/plain": [
       "<Figure size 1080x360 with 1 Axes>"
      ]
     },
     "metadata": {},
     "output_type": "display_data"
    }
   ],
   "source": [
    "plt.figure(figsize=[15, 5], facecolor=\"white\")\n",
    "plt.hist(sigmoid_alphas, bins=1000)\n",
    "plt.show()"
   ]
  },
  {
   "cell_type": "code",
   "execution_count": 18,
   "id": "3e0cb122",
   "metadata": {},
   "outputs": [
    {
     "name": "stdout",
     "output_type": "stream",
     "text": [
      "0.6630071997642517, 0.9695817127129901, 0.7254777550697327, 0.9964832140365631\n",
      "0.5916022658348083, 0.8144035320763372, 0.5981521010398865, 0.8358004988484438\n",
      "0.5466192960739136, 0.6404420829311647, 0.5445982217788696, 0.632347741325102\n",
      "0.510159969329834, 0.48498676427021914, 0.5069848895072937, 0.4720807331734215\n",
      "0.4594867527484894, 0.28582964612341244, 0.4562174081802368, 0.2729666192027982\n",
      "0.41697749495506287, 0.16872449613440244, 0.4136946201324463, 0.15940692462801387\n",
      "0.3347896337509155, 0.04717558127311472, 0.33175110816955566, 0.044604887185711095\n",
      "0.28904277086257935, 0.016996206076012266, 0.2862342298030853, 0.01582553683546606\n"
     ]
    }
   ],
   "source": [
    "num_rep = 3\n",
    "\n",
    "for c_seq, d_seq, r_seq in [\n",
    "    (\n",
    "        np.array([[0] * 7 * num_rep]),\n",
    "        np.array([[1, 2, 3, 4, 5, 6, 7] * num_rep]) - 1,\n",
    "        np.array([[1, 1, 1, 1, 1, 1, 1] * num_rep]),\n",
    "    ),\n",
    "    (\n",
    "        np.array([[0] * 7 * num_rep]),\n",
    "        np.array([[1, 2, 3, 4, 5, 6, 7] * num_rep]) - 1,\n",
    "        np.array([[1, 1, 1, 1, 1, 1, 0] * num_rep]),\n",
    "    ),\n",
    "    (\n",
    "        np.array([[0] * 7 * num_rep]),\n",
    "        np.array([[1, 2, 3, 4, 5, 6, 7] * num_rep]) - 1,\n",
    "        np.array([[1, 1, 1, 1, 1, 0, 0] * num_rep]),\n",
    "    ),\n",
    "    (\n",
    "        np.array([[0] * 7 * num_rep]),\n",
    "        np.array([[1, 2, 3, 4, 5, 6, 7] * num_rep]) - 1,\n",
    "        np.array([[1, 1, 1, 1, 0, 0, 0] * num_rep]),\n",
    "    ),\n",
    "    (\n",
    "        np.array([[0] * 7 * num_rep]),\n",
    "        np.array([[1, 2, 3, 4, 5, 6, 7] * num_rep]) - 1,\n",
    "        np.array([[1, 1, 1, 0, 0, 0, 0] * num_rep]),\n",
    "    ),\n",
    "    (\n",
    "        np.array([[0] * 7 * num_rep]),\n",
    "        np.array([[1, 2, 3, 4, 5, 6, 7] * num_rep]) - 1,\n",
    "        np.array([[1, 1, 0, 0, 0, 0, 0] * num_rep]),\n",
    "    ),\n",
    "    (\n",
    "        np.array([[0] * 7 * num_rep]),\n",
    "        np.array([[1, 2, 3, 4, 5, 6, 7] * num_rep]) - 1,\n",
    "        np.array([[1, 0, 0, 0, 0, 0, 0] * num_rep]),\n",
    "    ),\n",
    "    (\n",
    "        np.array([[0] * 7 * num_rep]),\n",
    "        np.array([[1, 2, 3, 4, 5, 6, 7] * num_rep]) - 1,\n",
    "        np.array([[0, 0, 0, 0, 0, 0, 0] * num_rep]),\n",
    "    ),\n",
    "]:\n",
    "    alpha_seq, h_seq, C_seq = model(\n",
    "        LongTensor(c_seq),\n",
    "        LongTensor(d_seq),\n",
    "        FloatTensor(r_seq),\n",
    "    )\n",
    "\n",
    "    sigmoid_alpha_seq = torch.sigmoid(alpha_seq).detach().cpu().numpy()\n",
    "\n",
    "    CQ_seq = torch.sigmoid(C_seq.squeeze() + alpha_seq.unsqueeze(-1)).detach().cpu().numpy()\n",
    "    C_seq = C_seq.squeeze().detach().cpu().numpy()\n",
    "    \n",
    "    sigmoid_alpha = CQ_seq[-1][1]\n",
    "    sigmoid_alpha_beta = CQ_seq[-1][0]\n",
    "    \n",
    "    print(\n",
    "        \"{}, {}, {}, {}\".format(\n",
    "            sigmoid_alpha,\n",
    "            1 - np.mean(sigmoid_alphas >= sigmoid_alpha),\n",
    "            sigmoid_alpha_beta,\n",
    "            1 - np.mean(sigmoid_alphas >= sigmoid_alpha_beta)\n",
    "        )\n",
    "    )"
   ]
  },
  {
   "cell_type": "code",
   "execution_count": 14,
   "id": "db5d985c",
   "metadata": {},
   "outputs": [
    {
     "data": {
      "text/plain": [
       "Parameter containing:\n",
       "tensor([[-0.7554],\n",
       "        [-0.5619],\n",
       "        [-0.2448],\n",
       "        [ 0.2410],\n",
       "        [ 0.6294],\n",
       "        [ 0.7922],\n",
       "        [ 1.7171]], requires_grad=True)"
      ]
     },
     "execution_count": 14,
     "metadata": {},
     "output_type": "execute_result"
    }
   ],
   "source": [
    "model.D.weight"
   ]
  },
  {
   "cell_type": "code",
   "execution_count": 15,
   "id": "1751e05f",
   "metadata": {},
   "outputs": [
    {
     "name": "stdout",
     "output_type": "stream",
     "text": [
      "70\n",
      "38.5\n",
      "30.625\n",
      "20.499999999999996\n"
     ]
    }
   ],
   "source": [
    "down = 30\n",
    "print(70)\n",
    "print(70 * (1 - down * 1.5 * 1 / 100))\n",
    "print(35 * (1 - down * 1.5 * 2 / 100) + 35 * (1 - down * 0.75 / 100))\n",
    "print(30 * (1 - down * 1.5 * 3 / 100) + 40 * (1 - down * 0.75 / 100))"
   ]
  },
  {
   "cell_type": "code",
   "execution_count": 16,
   "id": "acea9eba",
   "metadata": {},
   "outputs": [
    {
     "name": "stdout",
     "output_type": "stream",
     "text": [
      "70\n",
      "101.5\n",
      "109.375\n",
      "119.5\n"
     ]
    }
   ],
   "source": [
    "up = 30\n",
    "print(70)\n",
    "print(70 * (1 + up * 1.5 * 1 / 100))\n",
    "print(35 * (1 + up * 1.5 * 2 / 100) + 35 * (1 + up * 0.75 / 100))\n",
    "print(30 * (1 + up * 1.5 * 3 / 100) + 40 * (1 + up * 0.75 / 100))"
   ]
  }
 ],
 "metadata": {
  "kernelspec": {
   "display_name": "Python 3",
   "language": "python",
   "name": "python3"
  },
  "language_info": {
   "codemirror_mode": {
    "name": "ipython",
    "version": 3
   },
   "file_extension": ".py",
   "mimetype": "text/x-python",
   "name": "python",
   "nbconvert_exporter": "python",
   "pygments_lexer": "ipython3",
   "version": "3.9.5"
  }
 },
 "nbformat": 4,
 "nbformat_minor": 5
}
