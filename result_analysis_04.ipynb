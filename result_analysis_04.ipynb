{
 "cells": [
  {
   "cell_type": "code",
   "execution_count": 1,
   "id": "b93e5091",
   "metadata": {},
   "outputs": [],
   "source": [
    "import os\n",
    "import pickle\n",
    "\n",
    "import numpy as np\n",
    "import torch\n",
    "\n",
    "import matplotlib.pyplot as plt\n",
    "\n",
    "from torch.utils.data import DataLoader, random_split\n",
    "from torch.nn.functional import one_hot\n",
    "\n",
    "from data_loaders.pulja_data_loader import PuljaDataLoader\n",
    "from models._dkt import UserModel\n",
    "from models.utils import collate_fn\n",
    "\n",
    "if torch.cuda.is_available():\n",
    "    from torch.cuda import FloatTensor, LongTensor\n",
    "    torch.set_default_tensor_type(torch.cuda.FloatTensor)\n",
    "else:\n",
    "    from torch import FloatTensor, LongTensor"
   ]
  },
  {
   "cell_type": "code",
   "execution_count": 2,
   "id": "97c1e541",
   "metadata": {},
   "outputs": [],
   "source": [
    "ckpt_path = \"ckpts\"\n",
    "if not os.path.isdir(ckpt_path):\n",
    "    os.mkdir(ckpt_path)\n",
    "\n",
    "batch_size = 256\n",
    "num_epochs = 100\n",
    "train_ratio = 0.9\n",
    "\n",
    "seq_len = 100\n",
    "\n",
    "dim_v = 20\n",
    "\n",
    "dataset = PuljaDataLoader(seq_len)\n",
    "\n",
    "if torch.cuda.is_available():\n",
    "    device = \"cuda\"\n",
    "else:\n",
    "    device = \"cpu\"\n",
    "\n",
    "model = UserModel(dataset.num_c, dataset.num_d, dim_v).to(device)\n",
    "\n",
    "train_size = int(len(dataset) * train_ratio)\n",
    "test_size = len(dataset) - train_size\n",
    "\n",
    "train_dataset, test_dataset = random_split(\n",
    "    dataset, [train_size, test_size]\n",
    ")\n",
    "\n",
    "if os.path.exists(os.path.join(dataset.dataset_dir, \"indices.pkl\")):\n",
    "    with open(os.path.join(dataset.dataset_dir, \"indices.pkl\"), \"rb\") as f:\n",
    "        indices = pickle.load(f)\n",
    "    train_dataset.indices = indices[0]\n",
    "    test_dataset.indices = indices[1]\n",
    "else:\n",
    "    with open(os.path.join(dataset.dataset_dir, \"indices.pkl\"), \"wb\") as f:\n",
    "        pickle.dump((train_dataset.indices, test_dataset.indices), f)\n"
   ]
  },
  {
   "cell_type": "code",
   "execution_count": 3,
   "id": "4b425db4",
   "metadata": {},
   "outputs": [
    {
     "data": {
      "text/plain": [
       "UserModel(\n",
       "  (X): Embedding(259, 20)\n",
       "  (gru): GRU(40, 20, batch_first=True)\n",
       "  (out_layer): Linear(in_features=20, out_features=259, bias=True)\n",
       "  (dropout_layer): Dropout(p=0.5, inplace=False)\n",
       ")"
      ]
     },
     "execution_count": 3,
     "metadata": {},
     "output_type": "execute_result"
    }
   ],
   "source": [
    "model.load_state_dict(\n",
    "    torch.load(\n",
    "        os.path.join(\n",
    "            os.path.join(\n",
    "                ckpt_path, \"_dkt\"\n",
    "            ),\n",
    "            \"model.ckpt\"\n",
    "        ),\n",
    "        map_location=device\n",
    "    )\n",
    ")\n",
    "model.eval()"
   ]
  },
  {
   "cell_type": "code",
   "execution_count": 4,
   "id": "8059a8da",
   "metadata": {},
   "outputs": [],
   "source": [
    "aucs_list = []\n",
    "max_aucs = []\n",
    "\n",
    "dir_list = [\"01\", \"02\", \"03\", \"04\", \"05\", \"06\", \"07\", \"08\"]\n",
    "\n",
    "for i in dir_list:\n",
    "    with open(\n",
    "        os.path.join(\n",
    "            os.path.join(\n",
    "                ckpt_path,\n",
    "                os.path.join(\"_dkt\", i)\n",
    "            ),\n",
    "            \"aucs.pkl\"\n",
    "        ),\n",
    "        \"rb\"\n",
    "    ) as f:\n",
    "        aucs = pickle.load(f)\n",
    "    \n",
    "    max_auc = np.max(aucs)\n",
    "\n",
    "    aucs_list.append(aucs)\n",
    "    max_aucs.append(max_auc)"
   ]
  },
  {
   "cell_type": "code",
   "execution_count": 5,
   "id": "14b034f7",
   "metadata": {},
   "outputs": [
    {
     "name": "stdout",
     "output_type": "stream",
     "text": [
      "max_auc_mean: 0.8017582660019267, max_auc_std: 0.0013933174430204582\n"
     ]
    }
   ],
   "source": [
    "print(\"max_auc_mean: {}, max_auc_std: {}\".format(np.mean(max_aucs), np.std(max_aucs)))"
   ]
  },
  {
   "cell_type": "code",
   "execution_count": 6,
   "id": "aad79649",
   "metadata": {},
   "outputs": [
    {
     "data": {
      "text/plain": [
       "(array([12, 12, 12, 12, 12, 12, 12, 12, 12, 12, 12, 12, 12, 12, 12, 12, 12,\n",
       "        12, 12, 12, 12, 12, 12, 12, 12, 12, 12, 12, 12, 12, 12, 12, 12, 12,\n",
       "        12, 12, 12, 12, 12, 12, 12, 12, 12, 12, 12, 12, 12, 12, 12, 12, 12,\n",
       "        12, 12, 12, 12, 12, 12, 12, 12, 12, 12, 12, 12, 12, 12, 12, 12, 12,\n",
       "        12, 12, 12, 12, 12, 12, 12, 12, 12, 12, 12, 12, 12, 12, 12, 12, 12,\n",
       "        12, 12, 12, 12, 12, 12, 12, 12, 12, 12, 12, 12, 12, 12, 12, 12]),\n",
       " array([0, 0, 0, 0, 0, 0, 0, 0, 0, 0, 0, 0, 0, 0, 1, 1, 1, 1, 1, 1, 0, 0,\n",
       "        0, 0, 0, 0, 0, 0, 0, 0, 0, 0, 1, 1, 1, 1, 1, 1, 0, 0, 0, 0, 0, 0,\n",
       "        0, 0, 0, 0, 0, 0, 0, 0, 0, 0, 0, 0, 0, 0, 0, 0, 0, 0, 1, 1, 1, 1,\n",
       "        1, 1, 1, 1, 1, 1, 1, 1, 0, 0, 0, 0, 0, 0, 0, 0, 0, 0, 0, 0, 0, 0,\n",
       "        0, 0, 0, 0, 0, 0, 0, 0, 1, 1, 1, 1, 1]),\n",
       " array([0., 0., 0., 0., 0., 0., 0., 1., 1., 0., 0., 0., 0., 1., 0., 0., 0.,\n",
       "        0., 0., 0., 0., 0., 0., 1., 1., 0., 0., 1., 0., 1., 0., 0., 0., 0.,\n",
       "        0., 0., 1., 0., 0., 0., 0., 0., 0., 0., 0., 0., 0., 0., 0., 0., 0.,\n",
       "        0., 0., 0., 0., 0., 0., 1., 0., 0., 0., 1., 0., 0., 0., 0., 0., 0.,\n",
       "        0., 0., 0., 0., 0., 0., 0., 0., 0., 0., 0., 0., 0., 0., 0., 0., 0.,\n",
       "        1., 0., 0., 0., 0., 0., 0., 1., 0., 0., 1., 0., 1., 0., 0., 0.]))"
      ]
     },
     "execution_count": 6,
     "metadata": {},
     "output_type": "execute_result"
    }
   ],
   "source": [
    "test_dataset[100]"
   ]
  },
  {
   "cell_type": "code",
   "execution_count": 41,
   "id": "25a39e72",
   "metadata": {},
   "outputs": [],
   "source": [
    "# 3등급 전처리: 0, 2, 3, 4, 5, 7, 8, 9, 10, 13, 19, 21, 100, 101\n",
    "# 임의 전처리: 1, 2, 3, 4\n",
    "# basis = 1.0: 0, 2, 4, 6, 7\n",
    "# basis = 0.5: 0, 2, 3, 7\n",
    "# discrete: 0, 2, 100\n",
    "c_seq, d_seq, r_seq = test_dataset[2]\n",
    "\n",
    "c_seq, cshft_seq, d_seq, dshft_seq, r_seq, rshft_seq = \\\n",
    "[c_seq[:-1]], [c_seq[1:]], [d_seq[:-1]], [d_seq[1:]], [r_seq[:-1]], [r_seq[1:]]\n",
    "\n",
    "# r_seq = np.zeros_like(r_seq)\n",
    "r_seq = np.ones_like(r_seq)\n",
    "\n",
    "d_seq = np.ones_like(d_seq) * 0\n",
    "\n",
    "###########################################\n",
    "# alpha_seq, beta_seq, beta_shft_seq, gamma_seq, gamma_shft_seq, h_seq, C_seq = model(\n",
    "#     LongTensor(c_seq),\n",
    "#     LongTensor(cshft_seq),\n",
    "#     LongTensor(d_seq),\n",
    "#     LongTensor(dshft_seq),\n",
    "#     FloatTensor(r_seq),\n",
    "# )\n",
    "###########################################\n",
    "# alpha_seq, h_seq, C_seq = model(\n",
    "#     LongTensor(c_seq),\n",
    "#     LongTensor(d_seq),\n",
    "#     FloatTensor(r_seq),\n",
    "# )\n",
    "\n",
    "# # c_one_hot_seq: [batch_size, seq_len, 1, num_c]\n",
    "# c_one_hot_seq = one_hot(LongTensor(c_seq), model.num_c).float()\n",
    "# c_one_hot_seq = torch.reshape(\n",
    "#     c_one_hot_seq,\n",
    "#     shape=[\n",
    "#         -1,\n",
    "#         c_one_hot_seq.shape[1],\n",
    "#         c_one_hot_seq.shape[2]\n",
    "#     ]\n",
    "# ).unsqueeze(-2)\n",
    "# beta_seq = torch.bmm(\n",
    "#     torch.reshape(\n",
    "#         c_one_hot_seq,\n",
    "#         shape=[\n",
    "#             -1,\n",
    "#             c_one_hot_seq.shape[2],\n",
    "#             c_one_hot_seq.shape[3]\n",
    "#         ]\n",
    "#     ),\n",
    "#     torch.reshape(\n",
    "#         C_seq, shape=[-1, C_seq.shape[2], C_seq.shape[3]]\n",
    "#     )\n",
    "# )\n",
    "# beta_seq = torch.reshape(\n",
    "#     beta_seq, shape=[1, seq_len]\n",
    "# )\n",
    "\n",
    "# gamma_seq = model.D1(LongTensor(d_seq)).squeeze()\n",
    "###########################################\n",
    "alpha_seq, h_seq = model(\n",
    "    LongTensor(c_seq),\n",
    "    LongTensor(d_seq),\n",
    "    FloatTensor(r_seq),\n",
    ")\n",
    "alpha_seq = alpha_seq.squeeze()\n",
    "\n",
    "C_seq = alpha_seq.mean(-1)\n",
    "alpha_seq = C_seq.mean(-1)\n",
    "###########################################\n",
    "\n",
    "sigmoid_alpha_seq = torch.sigmoid(alpha_seq).detach().cpu().numpy()\n",
    "\n",
    "# sigmoid_alpha_beta_seq = torch.sigmoid(alpha_seq + beta_seq).detach().cpu().numpy()[0]\n",
    "\n",
    "# sigmoid_alpha_beta_gamma_seq = torch.sigmoid(alpha_seq + beta_seq - gamma_seq).detach().cpu().numpy()[0]\n",
    "\n",
    "r_seq_ma = np.cumsum(r_seq[0]) / np.arange(1, r_seq[0].shape[0] + 1)\n",
    "\n",
    "CQ_seq = torch.sigmoid(C_seq.squeeze() + alpha_seq.unsqueeze(-1)).detach().cpu().numpy()\n",
    "C_seq = C_seq.squeeze().detach().cpu().numpy()\n",
    "\n",
    "# alpha_seq = alpha_seq.detach().cpu().numpy()"
   ]
  },
  {
   "cell_type": "code",
   "execution_count": 42,
   "id": "518a0f84",
   "metadata": {
    "scrolled": true
   },
   "outputs": [
    {
     "data": {
      "image/png": "[encoded data removed]",
      "text/plain": [
       "<Figure size 1080x360 with 1 Axes>"
      ]
     },
     "metadata": {},
     "output_type": "display_data"
    }
   ],
   "source": [
    "plt.figure(figsize=[15, 5], facecolor=\"white\")\n",
    "plt.plot(r_seq[0], label=\"r_seq\")\n",
    "plt.plot((d_seq[0] + 1) / 10, label=\"d_seq\")\n",
    "plt.plot(sigmoid_alpha_seq, label=\"sigmoid_alpha_seq\")\n",
    "# plt.plot(sigmoid_alpha_beta_seq, label=\"sigmoid_alpha_beta_seq\")\n",
    "# plt.plot(sigmoid_alpha_beta_gamma_seq, label=\"sigmoid_alpha_beta_gamma_seq\")\n",
    "# plt.plot(r_seq_ma, label=\"r_seq_ma\")\n",
    "plt.grid()\n",
    "plt.ylim(0, 1)\n",
    "plt.legend()\n",
    "plt.show()"
   ]
  },
  {
   "cell_type": "code",
   "execution_count": 40,
   "id": "e336e1de",
   "metadata": {},
   "outputs": [
    {
     "data": {
      "image/png": "[encoded data removed]",
      "text/plain": [
       "<Figure size 1440x504 with 2 Axes>"
      ]
     },
     "metadata": {},
     "output_type": "display_data"
    }
   ],
   "source": [
    "plt.figure(figsize=[20, 7], facecolor=\"white\")\n",
    "temp = np.concatenate([CQ_seq.T, r_seq], axis=0)\n",
    "plt.pcolormesh(temp)\n",
    "plt.colorbar()\n",
    "plt.show()\n",
    "\n",
    "# plt.figure(figsize=[15, 0.5], facecolor=\"white\")\n",
    "# plt.pcolormesh(r_seq)\n",
    "# plt.show()"
   ]
  },
  {
   "cell_type": "code",
   "execution_count": 34,
   "id": "c005f432",
   "metadata": {},
   "outputs": [
    {
     "data": {
      "text/plain": [
       "(array([0.1825023 , 0.175031  , 0.2286346 , 0.13687246, 0.2928865 ,\n",
       "        0.15750766, 0.14216408, 0.2628691 , 0.2573806 , 0.14054294,\n",
       "        0.14001065, 0.18129489, 0.17150985, 0.335623  , 0.21989265,\n",
       "        0.17896205, 0.3402212 , 0.22179125, 0.23378232, 0.2548177 ,\n",
       "        0.15718715, 0.23604338, 0.20540015, 0.1987645 , 0.19900705,\n",
       "        0.2626487 , 0.19086862, 0.32534042, 0.19671315, 0.15854119,\n",
       "        0.15980071, 0.23002483, 0.22890706, 0.15678193, 0.2001126 ,\n",
       "        0.2073643 , 0.1937468 ], dtype=float32),\n",
       " array([0.03317556, 0.06731194, 0.0316131 , 0.01553759, 0.06721847,\n",
       "        0.02381434, 0.01233418, 0.03102453, 0.03892997, 0.01242752,\n",
       "        0.02160409, 0.03677185, 0.02962442, 0.06243796, 0.02375035,\n",
       "        0.05451826, 0.07815977, 0.02016162, 0.02291652, 0.02542602,\n",
       "        0.03465934, 0.0235789 , 0.02884787, 0.03696952, 0.02984326,\n",
       "        0.0393066 , 0.02062715, 0.0513758 , 0.03228909, 0.02834718,\n",
       "        0.01989085, 0.04282549, 0.04009248, 0.01924093, 0.01546083,\n",
       "        0.0271419 , 0.01792504], dtype=float32),\n",
       " [array([ 9,  9,  9,  9,  9,  9,  9,  9,  9,  9,  9,  9,  9,  9,  9,  9,  9,\n",
       "          9,  9,  9,  9,  9,  9,  9,  9,  9,  9,  9,  9,  9,  9,  9,  9,  9,\n",
       "          9,  9,  9,  9,  9,  9,  9,  9,  9,  9,  9,  9, 12, 12, 12, 12, 12,\n",
       "         12, 12, 12, 12, 12, 12, 12, 12, 12, 12, 12, 12, 12, 12, 12, 12, 12,\n",
       "         12, 12, 12, 12, 12, 12, 12, 12, 12, 12, 12, 12, 12, 12, 12, 12, 12,\n",
       "         12, 12, 12, 12, 12, 12, 12, 12, 12, 12, 12, 12, 12, 12, 12])],\n",
       " array([[0, 0, 0, 0, 0, 0, 0, 0, 0, 0, 0, 0, 0, 0, 0, 0, 0, 0, 0, 0, 0, 0,\n",
       "         0, 0, 0, 0, 0, 0, 0, 0, 0, 0, 0, 0, 0, 0, 0, 0, 0, 0, 0, 0, 0, 0,\n",
       "         0, 0, 0, 0, 0, 0, 0, 0, 0, 0, 0, 0, 0, 0, 0, 0, 0, 0, 0, 0, 0, 0,\n",
       "         0, 0, 0, 0, 0, 0, 0, 0, 0, 0, 0, 0, 0, 0, 0, 0, 0, 0, 0, 0, 0, 0,\n",
       "         0, 0, 0, 0, 0, 0, 0, 0, 0, 0, 0, 0]]))"
      ]
     },
     "execution_count": 34,
     "metadata": {},
     "output_type": "execute_result"
    }
   ],
   "source": [
    "CQ_seq[0], CQ_seq[-1], c_seq, d_seq"
   ]
  }
 ],
 "metadata": {
  "kernelspec": {
   "display_name": "Python 3",
   "language": "python",
   "name": "python3"
  },
  "language_info": {
   "codemirror_mode": {
    "name": "ipython",
    "version": 3
   },
   "file_extension": ".py",
   "mimetype": "text/x-python",
   "name": "python",
   "nbconvert_exporter": "python",
   "pygments_lexer": "ipython3",
   "version": "3.9.5"
  }
 },
 "nbformat": 4,
 "nbformat_minor": 5
}
