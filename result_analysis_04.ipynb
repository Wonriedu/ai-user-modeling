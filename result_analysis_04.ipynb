{
 "cells": [
  {
   "cell_type": "code",
   "execution_count": 1,
   "id": "b93e5091",
   "metadata": {},
   "outputs": [],
   "source": [
    "import os\n",
    "import pickle\n",
    "\n",
    "import numpy as np\n",
    "import torch\n",
    "\n",
    "import matplotlib.pyplot as plt\n",
    "\n",
    "from torch.utils.data import DataLoader, random_split\n",
    "from torch.nn.functional import one_hot\n",
    "\n",
    "from data_loaders.pulja_data_loader import PuljaDataLoader\n",
    "from models._dkt import UserModel\n",
    "from models.utils import collate_fn\n",
    "\n",
    "if torch.cuda.is_available():\n",
    "    from torch.cuda import FloatTensor, LongTensor\n",
    "    torch.set_default_tensor_type(torch.cuda.FloatTensor)\n",
    "else:\n",
    "    from torch import FloatTensor, LongTensor"
   ]
  },
  {
   "cell_type": "code",
   "execution_count": 2,
   "id": "97c1e541",
   "metadata": {},
   "outputs": [],
   "source": [
    "ckpt_path = \"ckpts\"\n",
    "if not os.path.isdir(ckpt_path):\n",
    "    os.mkdir(ckpt_path)\n",
    "\n",
    "batch_size = 256\n",
    "num_epochs = 100\n",
    "train_ratio = 0.9\n",
    "\n",
    "seq_len = 100\n",
    "\n",
    "dim_v = 20\n",
    "\n",
    "dataset = PuljaDataLoader(seq_len)\n",
    "\n",
    "if torch.cuda.is_available():\n",
    "    device = \"cuda\"\n",
    "else:\n",
    "    device = \"cpu\"\n",
    "\n",
    "model = UserModel(dataset.num_c, dataset.num_d, dim_v).to(device)\n",
    "\n",
    "train_size = int(len(dataset) * train_ratio)\n",
    "test_size = len(dataset) - train_size\n",
    "\n",
    "train_dataset, test_dataset = random_split(\n",
    "    dataset, [train_size, test_size]\n",
    ")\n",
    "\n",
    "if os.path.exists(os.path.join(dataset.dataset_dir, \"indices.pkl\")):\n",
    "    with open(os.path.join(dataset.dataset_dir, \"indices.pkl\"), \"rb\") as f:\n",
    "        indices = pickle.load(f)\n",
    "    train_dataset.indices = indices[0]\n",
    "    test_dataset.indices = indices[1]\n",
    "else:\n",
    "    with open(os.path.join(dataset.dataset_dir, \"indices.pkl\"), \"wb\") as f:\n",
    "        pickle.dump((train_dataset.indices, test_dataset.indices), f)\n"
   ]
  },
  {
   "cell_type": "code",
   "execution_count": 3,
   "id": "4b425db4",
   "metadata": {},
   "outputs": [
    {
     "data": {
      "text/plain": [
       "UserModel(\n",
       "  (X): Embedding(259, 20)\n",
       "  (gru): GRU(40, 20, batch_first=True)\n",
       "  (out_layer): Linear(in_features=20, out_features=259, bias=True)\n",
       "  (dropout_layer): Dropout(p=0.5, inplace=False)\n",
       ")"
      ]
     },
     "execution_count": 3,
     "metadata": {},
     "output_type": "execute_result"
    }
   ],
   "source": [
    "model.load_state_dict(\n",
    "    torch.load(\n",
    "        os.path.join(\n",
    "            os.path.join(\n",
    "                ckpt_path, \"_dkt\"\n",
    "            ),\n",
    "            \"model.ckpt\"\n",
    "        ),\n",
    "        map_location=device\n",
    "    )\n",
    ")\n",
    "model.eval()"
   ]
  },
  {
   "cell_type": "code",
   "execution_count": 4,
   "id": "01494a4b",
   "metadata": {},
   "outputs": [],
   "source": [
    "aucs_list = []\n",
    "max_aucs = []\n",
    "\n",
    "dir_list = [\"01\", \"02\", \"03\", \"04\", \"05\", \"06\", \"07\", \"08\", \"09\", \"10\"]\n",
    "\n",
    "for i in dir_list:\n",
    "    with open(\n",
    "        os.path.join(\n",
    "            os.path.join(\n",
    "                ckpt_path,\n",
    "                os.path.join(\"_dkt\", i)\n",
    "            ),\n",
    "            \"aucs.pkl\"\n",
    "        ),\n",
    "        \"rb\"\n",
    "    ) as f:\n",
    "        aucs = pickle.load(f)\n",
    "    \n",
    "    max_auc = np.max(aucs)\n",
    "\n",
    "    aucs_list.append(aucs)\n",
    "    max_aucs.append(max_auc)"
   ]
  },
  {
   "cell_type": "code",
   "execution_count": 11,
   "id": "de2211fa",
   "metadata": {},
   "outputs": [
    {
     "name": "stdout",
     "output_type": "stream",
     "text": [
      "max_aucs: [0.8008507612715399, 0.8032445724118046, 0.8003724073914164, 0.8015627479660777, 0.8011168288059481, 0.8011483125642068, 0.8009858410433318, 0.8047846565610883, 0.8032391913963484, 0.8031989509584234]\n",
      "max_auc_mean: 0.8020504270370186, max_auc_std: 0.0013764374464413584\n",
      "max_auc_dir: 08\n"
     ]
    }
   ],
   "source": [
    "print(\"max_aucs: {}\".format(max_aucs))\n",
    "print(\"max_auc_mean: {}, max_auc_std: {}\".format(np.mean(max_aucs), np.std(max_aucs)))\n",
    "print(\"max_auc_dir: {}\".format(dir_list[np.argmax(max_aucs)]))"
   ]
  },
  {
   "cell_type": "code",
   "execution_count": 6,
   "id": "aad79649",
   "metadata": {},
   "outputs": [
    {
     "data": {
      "text/plain": [
       "(array([12, 12, 12, 12, 12, 12, 12, 12, 12, 12, 12, 12, 12, 12, 12, 12, 12,\n",
       "        12, 12, 12, 12, 12, 12, 12, 12, 12, 12, 12, 12, 12, 12, 12, 12, 12,\n",
       "        12, 12, 12, 12, 12, 12, 12, 12, 12, 12, 12, 12, 12, 12, 12, 12, 12,\n",
       "        12, 12, 12, 12, 12, 12, 12, 12, 12, 12, 12, 12, 12, 12, 12, 12, 12,\n",
       "        12, 12, 12, 12, 12, 12, 12, 12, 12, 12, 12, 12, 12, 12, 12, 12, 12,\n",
       "        12, 12, 12, 12, 12, 12, 12, 12, 12, 12, 12, 12, 12, 12, 12, 12]),\n",
       " array([0, 0, 0, 0, 0, 0, 0, 0, 0, 0, 0, 0, 0, 0, 1, 1, 1, 1, 1, 1, 0, 0,\n",
       "        0, 0, 0, 0, 0, 0, 0, 0, 0, 0, 1, 1, 1, 1, 1, 1, 0, 0, 0, 0, 0, 0,\n",
       "        0, 0, 0, 0, 0, 0, 0, 0, 0, 0, 0, 0, 0, 0, 0, 0, 0, 0, 1, 1, 1, 1,\n",
       "        1, 1, 1, 1, 1, 1, 1, 1, 0, 0, 0, 0, 0, 0, 0, 0, 0, 0, 0, 0, 0, 0,\n",
       "        0, 0, 0, 0, 0, 0, 0, 0, 1, 1, 1, 1, 1]),\n",
       " array([0., 0., 0., 0., 0., 0., 0., 1., 1., 0., 0., 0., 0., 1., 0., 0., 0.,\n",
       "        0., 0., 0., 0., 0., 0., 1., 1., 0., 0., 1., 0., 1., 0., 0., 0., 0.,\n",
       "        0., 0., 1., 0., 0., 0., 0., 0., 0., 0., 0., 0., 0., 0., 0., 0., 0.,\n",
       "        0., 0., 0., 0., 0., 0., 1., 0., 0., 0., 1., 0., 0., 0., 0., 0., 0.,\n",
       "        0., 0., 0., 0., 0., 0., 0., 0., 0., 0., 0., 0., 0., 0., 0., 0., 0.,\n",
       "        1., 0., 0., 0., 0., 0., 0., 1., 0., 0., 1., 0., 1., 0., 0., 0.]))"
      ]
     },
     "execution_count": 6,
     "metadata": {},
     "output_type": "execute_result"
    }
   ],
   "source": [
    "test_dataset[100]"
   ]
  },
  {
   "cell_type": "code",
   "execution_count": 7,
   "id": "25a39e72",
   "metadata": {},
   "outputs": [],
   "source": [
    "# 3등급 전처리: 0, 2, 3, 4, 5, 7, 8, 9, 10, 13, 19, 21, 100, 101\n",
    "# 임의 전처리: 1, 2, 3, 4\n",
    "# basis = 1.0: 0, 2, 4, 6, 7\n",
    "# basis = 0.5: 0, 2, 3, 7\n",
    "# discrete: 0, 2, 100\n",
    "c_seq, d_seq, r_seq = test_dataset[2]\n",
    "\n",
    "c_seq, cshft_seq, d_seq, dshft_seq, r_seq, rshft_seq = \\\n",
    "[c_seq[:-1]], [c_seq[1:]], [d_seq[:-1]], [d_seq[1:]], [r_seq[:-1]], [r_seq[1:]]\n",
    "\n",
    "# r_seq = np.zeros_like(r_seq)\n",
    "r_seq = np.ones_like(r_seq)\n",
    "\n",
    "d_seq = np.ones_like(d_seq) * 0\n",
    "\n",
    "###########################################\n",
    "# alpha_seq, beta_seq, beta_shft_seq, gamma_seq, gamma_shft_seq, h_seq, C_seq = model(\n",
    "#     LongTensor(c_seq),\n",
    "#     LongTensor(cshft_seq),\n",
    "#     LongTensor(d_seq),\n",
    "#     LongTensor(dshft_seq),\n",
    "#     FloatTensor(r_seq),\n",
    "# )\n",
    "###########################################\n",
    "# alpha_seq, h_seq, C_seq = model(\n",
    "#     LongTensor(c_seq),\n",
    "#     LongTensor(d_seq),\n",
    "#     FloatTensor(r_seq),\n",
    "# )\n",
    "\n",
    "# # c_one_hot_seq: [batch_size, seq_len, 1, num_c]\n",
    "# c_one_hot_seq = one_hot(LongTensor(c_seq), model.num_c).float()\n",
    "# c_one_hot_seq = torch.reshape(\n",
    "#     c_one_hot_seq,\n",
    "#     shape=[\n",
    "#         -1,\n",
    "#         c_one_hot_seq.shape[1],\n",
    "#         c_one_hot_seq.shape[2]\n",
    "#     ]\n",
    "# ).unsqueeze(-2)\n",
    "# beta_seq = torch.bmm(\n",
    "#     torch.reshape(\n",
    "#         c_one_hot_seq,\n",
    "#         shape=[\n",
    "#             -1,\n",
    "#             c_one_hot_seq.shape[2],\n",
    "#             c_one_hot_seq.shape[3]\n",
    "#         ]\n",
    "#     ),\n",
    "#     torch.reshape(\n",
    "#         C_seq, shape=[-1, C_seq.shape[2], C_seq.shape[3]]\n",
    "#     )\n",
    "# )\n",
    "# beta_seq = torch.reshape(\n",
    "#     beta_seq, shape=[1, seq_len]\n",
    "# )\n",
    "\n",
    "# gamma_seq = model.D1(LongTensor(d_seq)).squeeze()\n",
    "###########################################\n",
    "alpha_seq, h_seq = model(\n",
    "    LongTensor(c_seq),\n",
    "    LongTensor(d_seq),\n",
    "    FloatTensor(r_seq),\n",
    ")\n",
    "alpha_seq = alpha_seq.squeeze()\n",
    "\n",
    "C_seq = alpha_seq.mean(-1)\n",
    "alpha_seq = C_seq.mean(-1)\n",
    "###########################################\n",
    "\n",
    "sigmoid_alpha_seq = torch.sigmoid(alpha_seq).detach().cpu().numpy()\n",
    "\n",
    "# sigmoid_alpha_beta_seq = torch.sigmoid(alpha_seq + beta_seq).detach().cpu().numpy()[0]\n",
    "\n",
    "# sigmoid_alpha_beta_gamma_seq = torch.sigmoid(alpha_seq + beta_seq - gamma_seq).detach().cpu().numpy()[0]\n",
    "\n",
    "r_seq_ma = np.cumsum(r_seq[0]) / np.arange(1, r_seq[0].shape[0] + 1)\n",
    "\n",
    "CQ_seq = torch.sigmoid(C_seq.squeeze() + alpha_seq.unsqueeze(-1)).detach().cpu().numpy()\n",
    "C_seq = C_seq.squeeze().detach().cpu().numpy()\n",
    "\n",
    "# alpha_seq = alpha_seq.detach().cpu().numpy()"
   ]
  },
  {
   "cell_type": "code",
   "execution_count": 8,
   "id": "518a0f84",
   "metadata": {
    "scrolled": true
   },
   "outputs": [
    {
     "data": {
      "image/png": "[encoded data removed]",
      "text/plain": [
       "<Figure size 1080x360 with 1 Axes>"
      ]
     },
     "metadata": {},
     "output_type": "display_data"
    }
   ],
   "source": [
    "plt.figure(figsize=[15, 5], facecolor=\"white\")\n",
    "plt.plot(r_seq[0], label=\"r_seq\")\n",
    "plt.plot((d_seq[0] + 1) / 10, label=\"d_seq\")\n",
    "plt.plot(sigmoid_alpha_seq, label=\"sigmoid_alpha_seq\")\n",
    "# plt.plot(sigmoid_alpha_beta_seq, label=\"sigmoid_alpha_beta_seq\")\n",
    "# plt.plot(sigmoid_alpha_beta_gamma_seq, label=\"sigmoid_alpha_beta_gamma_seq\")\n",
    "# plt.plot(r_seq_ma, label=\"r_seq_ma\")\n",
    "plt.grid()\n",
    "plt.ylim(0, 1)\n",
    "plt.legend()\n",
    "plt.show()"
   ]
  },
  {
   "cell_type": "code",
   "execution_count": 9,
   "id": "e336e1de",
   "metadata": {},
   "outputs": [
    {
     "data": {
      "image/png": "[encoded data removed]",
      "text/plain": [
       "<Figure size 1440x504 with 2 Axes>"
      ]
     },
     "metadata": {},
     "output_type": "display_data"
    }
   ],
   "source": [
    "plt.figure(figsize=[20, 7], facecolor=\"white\")\n",
    "temp = np.concatenate([CQ_seq.T, r_seq], axis=0)\n",
    "plt.pcolormesh(temp)\n",
    "plt.colorbar()\n",
    "plt.show()\n",
    "\n",
    "# plt.figure(figsize=[15, 0.5], facecolor=\"white\")\n",
    "# plt.pcolormesh(r_seq)\n",
    "# plt.show()"
   ]
  },
  {
   "cell_type": "code",
   "execution_count": 10,
   "id": "c005f432",
   "metadata": {},
   "outputs": [
    {
     "data": {
      "text/plain": [
       "(array([0.38555947, 0.38978595, 0.5402091 , 0.36872324, 0.5466932 ,\n",
       "        0.39420813, 0.43311796, 0.49801463, 0.5457307 , 0.45106867,\n",
       "        0.39912114, 0.4145933 , 0.3824824 , 0.51505905, 0.5098688 ,\n",
       "        0.35598117, 0.5349321 , 0.47885928, 0.45525753, 0.5109212 ,\n",
       "        0.38156435, 0.49153447, 0.46450916, 0.44756538, 0.48970342,\n",
       "        0.48785296, 0.43293685, 0.55977917, 0.46615654, 0.42938447,\n",
       "        0.47300732, 0.49584678, 0.47053322, 0.48034495, 0.46832174,\n",
       "        0.47933424, 0.48792922], dtype=float32),\n",
       " array([0.88665676, 0.79237354, 0.8997021 , 0.8618266 , 0.8601523 ,\n",
       "        0.8433766 , 0.8788357 , 0.86285037, 0.88175184, 0.8726952 ,\n",
       "        0.76182884, 0.8159573 , 0.78056467, 0.85190606, 0.86184627,\n",
       "        0.77765185, 0.80676585, 0.75401783, 0.89275634, 0.8386622 ,\n",
       "        0.7478959 , 0.83580226, 0.8947861 , 0.8686406 , 0.87182087,\n",
       "        0.84117115, 0.8617391 , 0.81247133, 0.8397852 , 0.8032928 ,\n",
       "        0.87283593, 0.87321466, 0.73734397, 0.8272209 , 0.9323884 ,\n",
       "        0.8543291 , 0.88893926], dtype=float32),\n",
       " [array([ 9,  9,  9,  9,  9,  9,  9,  9,  9,  9,  9,  9,  9,  9,  9,  9,  9,\n",
       "          9,  9,  9,  9,  9,  9,  9,  9,  9,  9,  9,  9,  9,  9,  9,  9,  9,\n",
       "          9,  9,  9,  9,  9,  9,  9,  9,  9,  9,  9,  9, 12, 12, 12, 12, 12,\n",
       "         12, 12, 12, 12, 12, 12, 12, 12, 12, 12, 12, 12, 12, 12, 12, 12, 12,\n",
       "         12, 12, 12, 12, 12, 12, 12, 12, 12, 12, 12, 12, 12, 12, 12, 12, 12,\n",
       "         12, 12, 12, 12, 12, 12, 12, 12, 12, 12, 12, 12, 12, 12, 12])],\n",
       " array([[0, 0, 0, 0, 0, 0, 0, 0, 0, 0, 0, 0, 0, 0, 0, 0, 0, 0, 0, 0, 0, 0,\n",
       "         0, 0, 0, 0, 0, 0, 0, 0, 0, 0, 0, 0, 0, 0, 0, 0, 0, 0, 0, 0, 0, 0,\n",
       "         0, 0, 0, 0, 0, 0, 0, 0, 0, 0, 0, 0, 0, 0, 0, 0, 0, 0, 0, 0, 0, 0,\n",
       "         0, 0, 0, 0, 0, 0, 0, 0, 0, 0, 0, 0, 0, 0, 0, 0, 0, 0, 0, 0, 0, 0,\n",
       "         0, 0, 0, 0, 0, 0, 0, 0, 0, 0, 0, 0]]))"
      ]
     },
     "execution_count": 10,
     "metadata": {},
     "output_type": "execute_result"
    }
   ],
   "source": [
    "CQ_seq[0], CQ_seq[-1], c_seq, d_seq"
   ]
  }
 ],
 "metadata": {
  "kernelspec": {
   "display_name": "Python 3",
   "language": "python",
   "name": "python3"
  },
  "language_info": {
   "codemirror_mode": {
    "name": "ipython",
    "version": 3
   },
   "file_extension": ".py",
   "mimetype": "text/x-python",
   "name": "python",
   "nbconvert_exporter": "python",
   "pygments_lexer": "ipython3",
   "version": "3.9.5"
  }
 },
 "nbformat": 4,
 "nbformat_minor": 5
}
