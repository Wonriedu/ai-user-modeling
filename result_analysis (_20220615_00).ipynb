{
 "cells": [
  {
   "cell_type": "code",
   "execution_count": 1,
   "id": "b93e5091",
   "metadata": {},
   "outputs": [],
   "source": [
    "import os\n",
    "import pickle\n",
    "\n",
    "import numpy as np\n",
    "import pandas as pd\n",
    "import torch\n",
    "\n",
    "import matplotlib.pyplot as plt\n",
    "\n",
    "from torch.utils.data import DataLoader, random_split\n",
    "from torch.nn.functional import one_hot\n",
    "\n",
    "from data_loaders.pulja_data_loader import PuljaDataLoader\n",
    "from models._20220615_00 import UserModel\n",
    "from models.utils import collate_fn\n",
    "\n",
    "if torch.cuda.is_available():\n",
    "    from torch.cuda import FloatTensor, LongTensor\n",
    "    torch.set_default_tensor_type(torch.cuda.FloatTensor)\n",
    "else:\n",
    "    from torch import FloatTensor, LongTensor"
   ]
  },
  {
   "cell_type": "code",
   "execution_count": 2,
   "id": "97c1e541",
   "metadata": {},
   "outputs": [],
   "source": [
    "ckpt_path = \"ckpts\"\n",
    "if not os.path.isdir(ckpt_path):\n",
    "    os.mkdir(ckpt_path)\n",
    "\n",
    "batch_size = 256\n",
    "num_epochs = 100\n",
    "train_ratio = 0.9\n",
    "\n",
    "seq_len = 100\n",
    "\n",
    "dim_v = 20\n",
    "\n",
    "dataset = PuljaDataLoader(seq_len)\n",
    "\n",
    "if torch.cuda.is_available():\n",
    "    device = \"cuda\"\n",
    "else:\n",
    "    device = \"cpu\"\n",
    "\n",
    "model = UserModel(dataset.num_c1, dataset.num_c2, dataset.num_d, dim_v).to(device)\n",
    "\n",
    "train_size = int(len(dataset) * train_ratio)\n",
    "test_size = len(dataset) - train_size\n",
    "\n",
    "train_dataset, test_dataset = random_split(\n",
    "    dataset, [train_size, test_size]\n",
    ")\n",
    "\n",
    "if os.path.exists(os.path.join(dataset.dataset_dir, \"indices.pkl\")):\n",
    "    with open(os.path.join(dataset.dataset_dir, \"indices.pkl\"), \"rb\") as f:\n",
    "        indices = pickle.load(f)\n",
    "    train_dataset.indices = indices[0]\n",
    "    test_dataset.indices = indices[1]\n",
    "else:\n",
    "    with open(os.path.join(dataset.dataset_dir, \"indices.pkl\"), \"wb\") as f:\n",
    "        pickle.dump((train_dataset.indices, test_dataset.indices), f)\n"
   ]
  },
  {
   "cell_type": "code",
   "execution_count": 3,
   "id": "75817e01",
   "metadata": {},
   "outputs": [],
   "source": [
    "tb_unit1 = pd.read_csv(\n",
    "    os.path.join(\"tables\", \"tb_unit1.csv\")\n",
    ")\n",
    "tb_unit2 = pd.read_csv(\n",
    "    os.path.join(\"tables\", \"tb_unit2.csv\")\n",
    ")\n",
    "\n",
    "c22c1 = {}\n",
    "for _, row in tb_unit2.iterrows():\n",
    "    c2 = row[\"name\"]\n",
    "    c1 = tb_unit1[tb_unit1[\"unit1Seq\"] == row[\"unit1Seq\"]][\"name\"].values[0]\n",
    "    \n",
    "    c22c1[c2] = c1\n",
    "\n",
    "c22c1_indices = [dataset.c12idx[c22c1[c2]] for c2 in [dataset.c2_list[i] for i in range(dataset.num_c2)]]"
   ]
  },
  {
   "cell_type": "code",
   "execution_count": 4,
   "id": "4b425db4",
   "metadata": {
    "scrolled": true
   },
   "outputs": [
    {
     "data": {
      "text/plain": [
       "UserModel(\n",
       "  (D): Embedding(7, 1)\n",
       "  (gru): GRU(40, 20, batch_first=True)\n",
       "  (linear_1): Sequential(\n",
       "    (0): Linear(in_features=20, out_features=20, bias=True)\n",
       "    (1): ReLU()\n",
       "    (2): Dropout(p=0.5, inplace=False)\n",
       "    (3): Linear(in_features=20, out_features=1, bias=True)\n",
       "    (4): Dropout(p=0.5, inplace=False)\n",
       "  )\n",
       "  (linear_2): Sequential(\n",
       "    (0): Linear(in_features=80, out_features=20, bias=True)\n",
       "    (1): ReLU()\n",
       "    (2): Dropout(p=0.5, inplace=False)\n",
       "    (3): Linear(in_features=20, out_features=2, bias=True)\n",
       "    (4): Dropout(p=0.5, inplace=False)\n",
       "  )\n",
       ")"
      ]
     },
     "execution_count": 4,
     "metadata": {},
     "output_type": "execute_result"
    }
   ],
   "source": [
    "model.load_state_dict(\n",
    "    torch.load(\n",
    "        os.path.join(\n",
    "            os.path.join(\n",
    "                ckpt_path, \"_20220615_00\"\n",
    "            ),\n",
    "            \"model_fin.ckpt\"\n",
    "        ),\n",
    "        map_location=device\n",
    "    )\n",
    ")\n",
    "model.eval()"
   ]
  },
  {
   "cell_type": "code",
   "execution_count": 5,
   "id": "0f3234c9",
   "metadata": {},
   "outputs": [],
   "source": [
    "aucs_list = []\n",
    "max_aucs = []\n",
    "fin_aucs = []\n",
    "\n",
    "dir_list = [\"01\", \"02\", \"03\", \"04\", \"05\", \"06\", \"07\", \"08\", \"09\", \"10\"]\n",
    "\n",
    "for i in dir_list:\n",
    "    with open(\n",
    "        os.path.join(\n",
    "            os.path.join(\n",
    "                ckpt_path,\n",
    "                os.path.join(\"_20220615_00\", i)\n",
    "            ),\n",
    "            \"aucs.pkl\"\n",
    "        ),\n",
    "        \"rb\"\n",
    "    ) as f:\n",
    "        aucs = pickle.load(f)\n",
    "    \n",
    "    max_auc = np.max(aucs)\n",
    "    fin_auc = aucs[-1]\n",
    "\n",
    "    aucs_list.append(aucs)\n",
    "    max_aucs.append(max_auc)\n",
    "    fin_aucs.append(fin_auc)"
   ]
  },
  {
   "cell_type": "code",
   "execution_count": 6,
   "id": "21a26250",
   "metadata": {},
   "outputs": [
    {
     "name": "stdout",
     "output_type": "stream",
     "text": [
      "max_aucs: [0.7917699271615557, 0.7927497158197301, 0.7920713028468407, 0.7923889966690286, 0.7923382529474773, 0.7916894621776009, 0.7915853340623759, 0.7915158818583744, 0.79121344031413, 0.7920859452521818]\n",
      "max_auc_mean: 0.7919408259109295, max_auc_std: 0.00044492963870209804\n",
      "max_auc_dir: 02\n"
     ]
    }
   ],
   "source": [
    "print(\"max_aucs: {}\".format(max_aucs))\n",
    "print(\"max_auc_mean: {}, max_auc_std: {}\".format(np.mean(max_aucs), np.std(max_aucs)))\n",
    "print(\"max_auc_dir: {}\".format(dir_list[np.argmax(max_aucs)]))"
   ]
  },
  {
   "cell_type": "code",
   "execution_count": 7,
   "id": "44b2f46f",
   "metadata": {},
   "outputs": [
    {
     "name": "stdout",
     "output_type": "stream",
     "text": [
      "max_fin_aucs: [0.7905464661961565, 0.7918511728052402, 0.7906957518186397, 0.7912547405895325, 0.7905567714788602, 0.7907117193401612, 0.7901680528081405, 0.7904880875608851, 0.7904112933248771, 0.790401041031105]\n",
      "max_fin_auc_mean: 0.7907085096953598, max_auc_std: 0.0004665894270490514\n",
      "max_fin_auc_dir: 02\n"
     ]
    }
   ],
   "source": [
    "print(\"max_fin_aucs: {}\".format(fin_aucs))\n",
    "print(\"max_fin_auc_mean: {}, max_auc_std: {}\".format(np.mean(fin_aucs), np.std(fin_aucs)))\n",
    "print(\"max_fin_auc_dir: {}\".format(dir_list[np.argmax(fin_aucs)]))"
   ]
  },
  {
   "cell_type": "code",
   "execution_count": 8,
   "id": "aad79649",
   "metadata": {},
   "outputs": [
    {
     "data": {
      "text/plain": [
       "(array([3, 3, 3, 3, 3, 3, 5, 5, 5, 5, 5, 5, 5, 5, 5, 5, 5, 5, 5, 5, 5, 5,\n",
       "        5, 5, 5, 5, 5, 5, 5, 5, 5, 5, 5, 5, 5, 5, 5, 5, 5, 5, 5, 5, 5, 5,\n",
       "        5, 5, 5, 5, 5, 5, 5, 5, 5, 5, 5, 5, 5, 5, 5, 5, 5, 5, 5, 5, 5, 5,\n",
       "        5, 5, 5, 5, 5, 5, 5, 5, 5, 5, 5, 5, 5, 5, 5, 5, 5, 5, 5, 5, 5, 5,\n",
       "        5, 5, 5, 5, 5, 5, 5, 5, 5, 5, 5, 5, 5]),\n",
       " array([168, 168, 166, 167, 168, 168, 179, 179, 179, 179, 179, 179, 179,\n",
       "        179, 179, 179, 179, 179, 179, 179, 179, 179, 179, 179, 179, 179,\n",
       "        179, 179, 179, 179, 179, 179, 179, 179, 179, 179, 179, 179, 179,\n",
       "        179, 179, 179, 179, 179, 179, 179, 179, 179, 179, 179, 179, 179,\n",
       "        179, 179, 179, 179, 180, 180, 180, 180, 180, 180, 180, 180, 180,\n",
       "        180, 180, 180, 180, 180, 180, 180, 180, 180, 180, 180, 180, 180,\n",
       "        180, 180, 180, 180, 180, 180, 180, 180, 180, 180, 180, 180, 180,\n",
       "        180, 180, 180, 180, 180, 180, 179, 179, 180, 180]),\n",
       " array([2, 3, 4, 4, 4, 4, 2, 2, 4, 2, 3, 3, 4, 2, 3, 2, 3, 4, 3, 3, 3, 2,\n",
       "        4, 2, 3, 4, 2, 3, 3, 3, 2, 2, 2, 3, 4, 2, 3, 2, 3, 4, 2, 2, 3, 2,\n",
       "        3, 3, 3, 2, 3, 3, 4, 2, 3, 3, 3, 4, 3, 2, 3, 3, 3, 3, 4, 2, 3, 4,\n",
       "        3, 2, 2, 3, 4, 2, 3, 4, 2, 3, 4, 3, 2, 2, 4, 2, 3, 4, 2, 2, 3, 2,\n",
       "        3, 2, 3, 3, 3, 4, 2, 3, 4, 2, 2, 2, 2]),\n",
       " array([0., 0., 0., 0., 0., 1., 0., 0., 0., 1., 0., 0., 0., 1., 1., 0., 0.,\n",
       "        0., 1., 1., 0., 1., 1., 0., 1., 1., 0., 1., 1., 1., 1., 1., 1., 0.,\n",
       "        1., 1., 1., 1., 0., 0., 0., 0., 0., 0., 0., 1., 0., 0., 0., 0., 1.,\n",
       "        1., 1., 1., 1., 1., 1., 1., 0., 0., 0., 0., 0., 1., 0., 0., 0., 1.,\n",
       "        1., 1., 0., 1., 1., 0., 0., 1., 0., 0., 1., 1., 0., 1., 1., 0., 0.,\n",
       "        0., 1., 1., 1., 1., 1., 0., 0., 1., 1., 1., 1., 0., 1., 1., 1.]))"
      ]
     },
     "execution_count": 8,
     "metadata": {},
     "output_type": "execute_result"
    }
   ],
   "source": [
    "test_dataset[20]"
   ]
  },
  {
   "cell_type": "code",
   "execution_count": 9,
   "id": "25a39e72",
   "metadata": {},
   "outputs": [],
   "source": [
    "# 0, 1, 3, 5, 19, 20\n",
    "c1_seq, c2_seq, d_seq, r_seq = test_dataset[0]\n",
    "\n",
    "c1_seq, c1shft_seq = [c1_seq[:-1]], [c1_seq[1:]]\n",
    "\n",
    "c2_seq, c2shft_seq = [c2_seq[:-1]], [c2_seq[1:]]\n",
    "\n",
    "d_seq, dshft_seq = [d_seq[:-1]], [d_seq[1:]]\n",
    "\n",
    "r_seq, rshft_seq = [r_seq[:-1]], [r_seq[1:]]\n",
    "\n",
    "# r_seq = np.zeros_like(r_seq)\n",
    "# r_seq = np.ones_like(r_seq)\n",
    "\n",
    "# d_seq = np.ones_like(d_seq) * 6\n",
    "\n",
    "# c_seq = np.array([[0] * 100])\n",
    "# d_seq = np.array([[6] * 30 + [3] * 30 + [0] * 40])\n",
    "# r_seq = np.ones_like(r_seq)\n",
    "\n",
    "alpha_seq, h_seq, C1_seq, C2_seq = model(\n",
    "    LongTensor(c1_seq),\n",
    "    LongTensor(c2_seq),\n",
    "    LongTensor(d_seq),\n",
    "    FloatTensor(r_seq),\n",
    ")\n",
    "\n",
    "# c1_one_hot_seq: [batch_size, seq_len, 1, num_c1]\n",
    "# c2_one_hot_seq: [batch_size, seq_len, 1, num_c2]\n",
    "c1_one_hot_seq = one_hot(LongTensor(c1_seq), dataset.num_c1).float()\n",
    "c1_one_hot_seq = torch.reshape(\n",
    "    c1_one_hot_seq,\n",
    "    shape=[\n",
    "        -1,\n",
    "        c1_one_hot_seq.shape[1],\n",
    "        c1_one_hot_seq.shape[2]\n",
    "    ]\n",
    ").unsqueeze(-2)\n",
    "beta1_seq = torch.bmm(\n",
    "    torch.reshape(\n",
    "        c1_one_hot_seq,\n",
    "        shape=[\n",
    "            -1,\n",
    "            c1_one_hot_seq.shape[2],\n",
    "            c1_one_hot_seq.shape[3]\n",
    "        ]\n",
    "    ),\n",
    "    torch.reshape(\n",
    "        C1_seq, shape=[-1, C1_seq.shape[2], C1_seq.shape[3]]\n",
    "    )\n",
    ")\n",
    "beta1_seq = torch.reshape(\n",
    "    beta1_seq, shape=[1, seq_len]\n",
    ")\n",
    "\n",
    "c2_one_hot_seq = one_hot(LongTensor(c2_seq), dataset.num_c2).float()\n",
    "c2_one_hot_seq = torch.reshape(\n",
    "    c2_one_hot_seq,\n",
    "    shape=[\n",
    "        -1,\n",
    "        c2_one_hot_seq.shape[1],\n",
    "        c2_one_hot_seq.shape[2]\n",
    "    ]\n",
    ").unsqueeze(-2)\n",
    "beta2_seq = torch.bmm(\n",
    "    torch.reshape(\n",
    "        c2_one_hot_seq,\n",
    "        shape=[\n",
    "            -1,\n",
    "            c2_one_hot_seq.shape[2],\n",
    "            c2_one_hot_seq.shape[3]\n",
    "        ]\n",
    "    ),\n",
    "    torch.reshape(\n",
    "        C2_seq, shape=[-1, C2_seq.shape[2], C2_seq.shape[3]]\n",
    "    )\n",
    ")\n",
    "beta2_seq = torch.reshape(\n",
    "    beta2_seq, shape=[1, seq_len]\n",
    ")\n",
    "\n",
    "gamma_seq = model.D(LongTensor(d_seq)).squeeze()\n",
    "###########################################\n",
    "\n",
    "sigmoid_alpha_seq = torch.sigmoid(alpha_seq).detach().cpu().numpy()\n",
    "\n",
    "sigmoid_alpha_beta_seq = torch.sigmoid(alpha_seq + beta1_seq + beta2_seq).detach().cpu().numpy()[0]\n",
    "\n",
    "sigmoid_alpha_beta_gamma_seq = torch.sigmoid(alpha_seq + beta1_seq + beta2_seq - gamma_seq).detach().cpu().numpy()[0]\n",
    "\n",
    "r_seq_ma = np.cumsum(r_seq[0]) / np.arange(1, r_seq[0].shape[0] + 1)\n",
    "\n",
    "CQ_seq = alpha_seq.unsqueeze(-1) + C1_seq.squeeze()[:, c22c1_indices] + C2_seq.squeeze()\n",
    "CQ_seq = torch.sigmoid(CQ_seq).detach().cpu().numpy()\n",
    "\n",
    "C1_seq = C1_seq.squeeze().detach().cpu().numpy()\n",
    "C2_seq = C2_seq.squeeze().detach().cpu().numpy()\n",
    "\n",
    "# alpha_seq = alpha_seq.detach().cpu().numpy()"
   ]
  },
  {
   "cell_type": "code",
   "execution_count": 10,
   "id": "518a0f84",
   "metadata": {
    "scrolled": true
   },
   "outputs": [
    {
     "data": {
      "image/png": "[encoded data removed]",
      "text/plain": [
       "<Figure size 1080x360 with 1 Axes>"
      ]
     },
     "metadata": {},
     "output_type": "display_data"
    }
   ],
   "source": [
    "plt.figure(figsize=[15, 5], facecolor=\"white\")\n",
    "plt.plot(r_seq[0], label=\"r_seq\")\n",
    "plt.plot((d_seq[0] + 1) / 10, label=\"d_seq\")\n",
    "plt.plot(sigmoid_alpha_seq, label=\"sigmoid_alpha_seq\")\n",
    "# plt.plot(sigmoid_alpha_beta_seq, label=\"sigmoid_alpha_beta_seq\")\n",
    "# plt.plot(sigmoid_alpha_beta_gamma_seq, label=\"sigmoid_alpha_beta_gamma_seq\")\n",
    "# plt.plot(r_seq_ma, label=\"r_seq_ma\")\n",
    "plt.grid()\n",
    "plt.ylim(0, 1)\n",
    "plt.legend()\n",
    "plt.show()"
   ]
  },
  {
   "cell_type": "code",
   "execution_count": 11,
   "id": "e336e1de",
   "metadata": {},
   "outputs": [
    {
     "data": {
      "image/png": "[encoded data removed]",
      "text/plain": [
       "<Figure size 1440x72 with 2 Axes>"
      ]
     },
     "metadata": {},
     "output_type": "display_data"
    }
   ],
   "source": [
    "plt.figure(figsize=[20, len(np.unique(c2_seq)) // 2], facecolor=\"white\")\n",
    "temp = np.concatenate([CQ_seq[:, np.unique(c2_seq)].T, r_seq], axis=0)\n",
    "plt.pcolormesh(temp)\n",
    "plt.colorbar()\n",
    "plt.show()\n",
    "\n",
    "# plt.figure(figsize=[15, 0.5], facecolor=\"white\")\n",
    "# plt.pcolormesh(r_seq)\n",
    "# plt.show()"
   ]
  },
  {
   "cell_type": "code",
   "execution_count": 12,
   "id": "c005f432",
   "metadata": {},
   "outputs": [
    {
     "data": {
      "text/plain": [
       "(array([0.42581326, 0.45766178, 0.45766178], dtype=float32),\n",
       " array([0.5254277 , 0.43558508, 0.48207477], dtype=float32),\n",
       " array([130, 131, 168]),\n",
       " [array([130, 130, 130, 130, 130, 130, 130, 130, 130, 130, 130, 130, 130,\n",
       "         130, 130, 130, 130, 130, 130, 130, 130, 130, 130, 130, 130, 130,\n",
       "         130, 130, 130, 130, 130, 168, 168, 168, 168, 168, 168, 168, 168,\n",
       "         168, 168, 168, 130, 130, 130, 130, 130, 130, 130, 130, 130, 130,\n",
       "         130, 130, 130, 168, 168, 168, 168, 168, 168, 168, 168, 168, 168,\n",
       "         168, 168, 168, 168, 168, 168, 168, 168, 168, 168, 168, 168, 130,\n",
       "         130, 130, 131, 131, 131, 131, 131, 131, 131, 131, 131, 131, 131,\n",
       "         131, 131, 131, 131, 131, 131, 131, 131, 131])],\n",
       " [array([2, 2, 0, 0, 0, 0, 0, 0, 2, 2, 0, 0, 0, 0, 1, 1, 1, 2, 0, 0, 0, 0,\n",
       "         2, 2, 2, 2, 2, 1, 1, 1, 2, 0, 0, 0, 0, 1, 2, 1, 1, 1, 1, 2, 0, 0,\n",
       "         0, 0, 0, 0, 1, 1, 1, 1, 1, 1, 2, 1, 1, 1, 1, 2, 0, 0, 0, 0, 1, 1,\n",
       "         1, 2, 1, 1, 1, 1, 2, 1, 2, 2, 0, 0, 0, 2, 0, 0, 0, 0, 0, 1, 1, 1,\n",
       "         0, 0, 0, 0, 0, 0, 1, 1, 1, 1, 2, 0])])"
      ]
     },
     "execution_count": 12,
     "metadata": {},
     "output_type": "execute_result"
    }
   ],
   "source": [
    "CQ_seq[0][np.unique(c2_seq)], CQ_seq[-1][np.unique(c2_seq)], np.unique(c2_seq), c2_seq, d_seq"
   ]
  },
  {
   "cell_type": "code",
   "execution_count": 13,
   "id": "e0bcc194",
   "metadata": {},
   "outputs": [
    {
     "data": {
      "text/plain": [
       "Parameter containing:\n",
       "tensor([[-0.7674],\n",
       "        [-0.5368],\n",
       "        [-0.2233],\n",
       "        [ 0.2734],\n",
       "        [ 0.6828],\n",
       "        [ 0.8895],\n",
       "        [ 1.8671]], requires_grad=True)"
      ]
     },
     "execution_count": 13,
     "metadata": {},
     "output_type": "execute_result"
    }
   ],
   "source": [
    "model.D.weight"
   ]
  }
 ],
 "metadata": {
  "kernelspec": {
   "display_name": "Python 3",
   "language": "python",
   "name": "python3"
  },
  "language_info": {
   "codemirror_mode": {
    "name": "ipython",
    "version": 3
   },
   "file_extension": ".py",
   "mimetype": "text/x-python",
   "name": "python",
   "nbconvert_exporter": "python",
   "pygments_lexer": "ipython3",
   "version": "3.9.5"
  }
 },
 "nbformat": 4,
 "nbformat_minor": 5
}
