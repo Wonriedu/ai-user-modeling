{
 "cells": [
  {
   "cell_type": "code",
   "execution_count": 1,
   "id": "b93e5091",
   "metadata": {},
   "outputs": [],
   "source": [
    "import os\n",
    "import pickle\n",
    "\n",
    "import numpy as np\n",
    "import pandas as pd\n",
    "import torch\n",
    "\n",
    "import matplotlib.pyplot as plt\n",
    "\n",
    "from torch.utils.data import DataLoader, random_split\n",
    "from torch.nn.functional import one_hot\n",
    "\n",
    "from data_loaders.pulja_data_loader_02 import PuljaDataLoader\n",
    "from models._20220720_00 import UserModel\n",
    "from models.utils_02 import collate_fn\n",
    "\n",
    "if torch.cuda.is_available():\n",
    "    from torch.cuda import FloatTensor, LongTensor\n",
    "    torch.set_default_tensor_type(torch.cuda.FloatTensor)\n",
    "else:\n",
    "    from torch import FloatTensor, LongTensor"
   ]
  },
  {
   "cell_type": "code",
   "execution_count": 2,
   "id": "97c1e541",
   "metadata": {},
   "outputs": [],
   "source": [
    "ckpt_path = \"ckpts\"\n",
    "if not os.path.isdir(ckpt_path):\n",
    "    os.mkdir(ckpt_path)\n",
    "\n",
    "batch_size = 256\n",
    "num_epochs = 100\n",
    "train_ratio = 0.9\n",
    "\n",
    "seq_len = 1000\n",
    "\n",
    "dim_v = 20\n",
    "\n",
    "dataset = PuljaDataLoader(seq_len)\n",
    "\n",
    "if torch.cuda.is_available():\n",
    "    device = \"cuda\"\n",
    "else:\n",
    "    device = \"cpu\"\n",
    "\n",
    "model = UserModel(dataset.num_c1, dataset.num_c2, dataset.num_c3, dataset.num_d, dim_v).to(device)\n",
    "\n",
    "train_size = int(len(dataset) * train_ratio)\n",
    "test_size = len(dataset) - train_size\n",
    "\n",
    "train_dataset, test_dataset = random_split(\n",
    "    dataset, [train_size, test_size]\n",
    ")\n",
    "\n",
    "if os.path.exists(os.path.join(dataset.dataset_dir, \"indices.pkl\")):\n",
    "    with open(os.path.join(dataset.dataset_dir, \"indices.pkl\"), \"rb\") as f:\n",
    "        indices = pickle.load(f)\n",
    "    train_dataset.indices = indices[0]\n",
    "    test_dataset.indices = indices[1]\n",
    "else:\n",
    "    with open(os.path.join(dataset.dataset_dir, \"indices.pkl\"), \"wb\") as f:\n",
    "        pickle.dump((train_dataset.indices, test_dataset.indices), f)\n"
   ]
  },
  {
   "cell_type": "code",
   "execution_count": 3,
   "id": "4b425db4",
   "metadata": {
    "scrolled": true
   },
   "outputs": [
    {
     "data": {
      "text/plain": [
       "UserModel(\n",
       "  (D): Embedding(7, 1)\n",
       "  (R): Embedding(2, 20)\n",
       "  (gru): GRU(40, 20, batch_first=True)\n",
       "  (linear_1): Sequential(\n",
       "    (0): Linear(in_features=20, out_features=20, bias=True)\n",
       "    (1): ReLU()\n",
       "    (2): Dropout(p=0.5, inplace=False)\n",
       "    (3): Linear(in_features=20, out_features=1, bias=True)\n",
       "    (4): Dropout(p=0.5, inplace=False)\n",
       "  )\n",
       "  (linear_2): Sequential(\n",
       "    (0): Linear(in_features=60, out_features=20, bias=True)\n",
       "    (1): ReLU()\n",
       "    (2): Dropout(p=0.5, inplace=False)\n",
       "    (3): Linear(in_features=20, out_features=1, bias=True)\n",
       "    (4): Dropout(p=0.5, inplace=False)\n",
       "  )\n",
       ")"
      ]
     },
     "execution_count": 3,
     "metadata": {},
     "output_type": "execute_result"
    }
   ],
   "source": [
    "model.load_state_dict(\n",
    "    torch.load(\n",
    "        os.path.join(\n",
    "            os.path.join(\n",
    "                ckpt_path, \"_20220720_00\"\n",
    "            ),\n",
    "            \"model_fin.ckpt\"\n",
    "        ),\n",
    "        map_location=device\n",
    "    )\n",
    ")\n",
    "model.eval()"
   ]
  },
  {
   "cell_type": "code",
   "execution_count": 4,
   "id": "0f3234c9",
   "metadata": {},
   "outputs": [],
   "source": [
    "aucs_list = []\n",
    "max_aucs = []\n",
    "fin_aucs = []\n",
    "\n",
    "dir_list = [\"01\", \"02\", \"03\", \"04\", \"05\", \"06\", \"07\", \"08\", \"09\", \"10\"]\n",
    "\n",
    "for i in dir_list:\n",
    "    with open(\n",
    "        os.path.join(\n",
    "            os.path.join(\n",
    "                ckpt_path,\n",
    "                os.path.join(\"_20220720_00\", i)\n",
    "            ),\n",
    "            \"aucs.pkl\"\n",
    "        ),\n",
    "        \"rb\"\n",
    "    ) as f:\n",
    "        aucs = pickle.load(f)\n",
    "    \n",
    "    max_auc = np.max(aucs)\n",
    "    fin_auc = aucs[-1]\n",
    "\n",
    "    aucs_list.append(aucs)\n",
    "    max_aucs.append(max_auc)\n",
    "    fin_aucs.append(fin_auc)"
   ]
  },
  {
   "cell_type": "code",
   "execution_count": 5,
   "id": "21a26250",
   "metadata": {},
   "outputs": [
    {
     "name": "stdout",
     "output_type": "stream",
     "text": [
      "max_aucs: [0.776448975550712, 0.7803050300330661, 0.7805041979047894, 0.7802277080773895, 0.768438815113542, 0.7774109881031346, 0.7799720950540692, 0.7804093055944845, 0.7806016281552073, 0.7741514765992781]\n",
      "max_auc_mean: 0.7778470220185671, max_auc_std: 0.0037650393532267915\n",
      "max_auc_dir: 09\n"
     ]
    }
   ],
   "source": [
    "print(\"max_aucs: {}\".format(max_aucs))\n",
    "print(\"max_auc_mean: {}, max_auc_std: {}\".format(np.mean(max_aucs), np.std(max_aucs)))\n",
    "print(\"max_auc_dir: {}\".format(dir_list[np.argmax(max_aucs)]))"
   ]
  },
  {
   "cell_type": "code",
   "execution_count": 6,
   "id": "44b2f46f",
   "metadata": {},
   "outputs": [
    {
     "name": "stdout",
     "output_type": "stream",
     "text": [
      "max_fin_aucs: [0.7761251201376872, 0.7801010992627424, 0.780032435432433, 0.7800787040329541, 0.7680688119542867, 0.7769097650732029, 0.7794386813991147, 0.7796009918108823, 0.7804753602116377, 0.7738701680943741]\n",
      "max_fin_auc_mean: 0.7774701137409316, max_auc_std: 0.0037577494496815185\n",
      "max_fin_auc_dir: 09\n"
     ]
    }
   ],
   "source": [
    "print(\"max_fin_aucs: {}\".format(fin_aucs))\n",
    "print(\"max_fin_auc_mean: {}, max_auc_std: {}\".format(np.mean(fin_aucs), np.std(fin_aucs)))\n",
    "print(\"max_fin_auc_dir: {}\".format(dir_list[np.argmax(fin_aucs)]))"
   ]
  },
  {
   "cell_type": "code",
   "execution_count": 7,
   "id": "aad79649",
   "metadata": {
    "scrolled": true
   },
   "outputs": [
    {
     "data": {
      "text/plain": [
       "(array([29, 29, 29, ..., 76, 76, 76]),\n",
       " array([2, 2, 3, ..., 4, 4, 4]),\n",
       " array([1, 1, 0, ..., 0, 0, 0]))"
      ]
     },
     "execution_count": 7,
     "metadata": {},
     "output_type": "execute_result"
    }
   ],
   "source": [
    "test_dataset[3]"
   ]
  },
  {
   "cell_type": "code",
   "execution_count": 8,
   "id": "25a39e72",
   "metadata": {},
   "outputs": [],
   "source": [
    "# 3, 6\n",
    "c3_seq, d_seq, r_seq = test_dataset[3]\n",
    "\n",
    "view_from = 0\n",
    "view_to = 200\n",
    "\n",
    "seq_len = view_to - view_from\n",
    "\n",
    "c3_seq = [c3_seq[view_from:view_to]]\n",
    "d_seq = [d_seq[view_from:view_to]]\n",
    "r_seq = [r_seq[view_from:view_to]]\n",
    "\n",
    "# r_seq = np.zeros_like(r_seq)\n",
    "# r_seq = np.ones_like(r_seq)\n",
    "\n",
    "# d_seq = np.ones_like(d_seq) * 6\n",
    "\n",
    "# c_seq = np.array([[0] * 100])\n",
    "# d_seq = np.array([[6] * 30 + [3] * 30 + [0] * 40])\n",
    "# r_seq = np.ones_like(r_seq)\n",
    "\n",
    "# c1_seq, c2_seq, c4_seq, d_seq, r_seq: [batch_size, seq_len]\n",
    "\n",
    "alpha_seq, h_seq, C3_seq = model(\n",
    "    LongTensor(c3_seq),\n",
    "    LongTensor(d_seq),\n",
    "    LongTensor(r_seq),\n",
    ")\n",
    "\n",
    "# C3_seq: [batch_size, seq_len, num_c4]\n",
    "\n",
    "# beta3_seq: [batch_size, seq_len]\n",
    "beta3_seq = torch.gather(C3_seq, dim=-1, index=LongTensor(c3_seq).unsqueeze(-1)).reshape([1, seq_len])\n",
    "\n",
    "# gamma_seq: [seq_len]\n",
    "gamma_seq = model.D(LongTensor(d_seq)).squeeze()\n",
    "\n",
    "###########################################\n",
    "\n",
    "sigmoid_alpha_seq = torch.sigmoid(alpha_seq).detach().cpu().numpy()[0]\n",
    "\n",
    "sigmoid_alpha_beta_seq = torch.sigmoid(alpha_seq + beta3_seq).detach().cpu().numpy()[0]\n",
    "\n",
    "sigmoid_alpha_beta_gamma_seq = torch.sigmoid(alpha_seq + beta3_seq - gamma_seq).detach().cpu().numpy()[0]\n",
    "\n",
    "r_seq_ma = np.cumsum(r_seq[0]) / np.arange(1, r_seq[0].shape[0] + 1)\n",
    "\n",
    "CQ3_seq = alpha_seq.unsqueeze(-1) + C3_seq.squeeze()\n",
    "CQ3_seq = torch.sigmoid(CQ3_seq).detach().cpu().numpy()[0]\n",
    "\n",
    "# C3_seq = C3_seq.squeeze().detach().cpu().numpy()\n",
    "\n",
    "# alpha_seq = alpha_seq.detach().cpu().numpy()"
   ]
  },
  {
   "cell_type": "code",
   "execution_count": 9,
   "id": "518a0f84",
   "metadata": {
    "scrolled": false
   },
   "outputs": [
    {
     "data": {
      "image/png": "[encoded data removed]",
      "text/plain": [
       "<Figure size 1080x360 with 1 Axes>"
      ]
     },
     "metadata": {},
     "output_type": "display_data"
    },
    {
     "data": {
      "image/png": "[encoded data removed]",
      "text/plain": [
       "<Figure size 1440x216 with 2 Axes>"
      ]
     },
     "metadata": {},
     "output_type": "display_data"
    }
   ],
   "source": [
    "plt.figure(figsize=[15, 5], facecolor=\"white\")\n",
    "plt.plot(r_seq[0], label=\"r_seq\")\n",
    "plt.plot((d_seq[0] + 1) / 10, label=\"d_seq\")\n",
    "plt.plot(sigmoid_alpha_seq, label=\"sigmoid_alpha_seq\")\n",
    "# plt.plot(sigmoid_alpha_beta_seq, label=\"sigmoid_alpha_beta_seq\")\n",
    "# plt.plot(sigmoid_alpha_beta4_seq, label=\"sigmoid_alpha_beta4_seq\")\n",
    "# plt.plot(sigmoid_beta4_seq, label=\"sigmoid_beta4_seq\")\n",
    "plt.grid()\n",
    "plt.ylim(-0.1, 1.1)\n",
    "plt.legend()\n",
    "plt.show()\n",
    "\n",
    "plt.figure(figsize=[20, len(np.unique(c3_seq)) // 3 + 1], facecolor=\"white\")\n",
    "temp = np.concatenate([CQ3_seq[:, np.unique(c3_seq)].T, r_seq], axis=0)\n",
    "plt.pcolormesh(temp)\n",
    "plt.colorbar()\n",
    "plt.show()"
   ]
  },
  {
   "cell_type": "code",
   "execution_count": 10,
   "id": "7f7f535c",
   "metadata": {},
   "outputs": [
    {
     "data": {
      "text/plain": [
       "array([0.5283227, 0.5283227, 0.5658479, 0.5283227, 0.5283227, 0.5283227,\n",
       "       0.5283227], dtype=float32)"
      ]
     },
     "execution_count": 10,
     "metadata": {},
     "output_type": "execute_result"
    }
   ],
   "source": [
    "CQ3_seq[0][np.unique(c3_seq)]"
   ]
  },
  {
   "cell_type": "code",
   "execution_count": 11,
   "id": "014f71f0",
   "metadata": {},
   "outputs": [
    {
     "data": {
      "text/plain": [
       "array([0.69907755, 0.691416  , 0.6995961 , 0.7035984 , 0.650829  ,\n",
       "       0.65570325, 0.65721583], dtype=float32)"
      ]
     },
     "execution_count": 11,
     "metadata": {},
     "output_type": "execute_result"
    }
   ],
   "source": [
    "CQ3_seq[-1][np.unique(c3_seq)]"
   ]
  },
  {
   "cell_type": "code",
   "execution_count": 12,
   "id": "0bb894c2",
   "metadata": {},
   "outputs": [
    {
     "data": {
      "text/plain": [
       "(array([17, 26, 29, 42, 50, 73, 75]),\n",
       " [array([29, 29, 29, 29, 29, 29, 29, 29, 29, 29, 29, 29, 50, 50, 50, 50, 50,\n",
       "         50, 50, 50, 50, 50, 50, 50, 50, 50, 50, 50, 73, 73, 73, 73, 73, 73,\n",
       "         73, 73, 73, 73, 73, 73, 73, 73, 75, 75, 75, 75, 75, 75, 75, 75, 75,\n",
       "         75, 75, 75, 75, 75, 75, 75, 75, 75, 75, 75, 75, 75, 75, 75, 75, 75,\n",
       "         75, 75, 75, 75, 75, 75, 75, 75, 75, 17, 17, 17, 17, 17, 17, 17, 17,\n",
       "         17, 17, 17, 17, 26, 26, 26, 26, 26, 26, 26, 26, 26, 26, 26, 26, 26,\n",
       "         26, 26, 26, 26, 26, 26, 26, 26, 26, 26, 26, 26, 26, 26, 26, 26, 26,\n",
       "         26, 26, 26, 26, 26, 26, 26, 26, 26, 26, 26, 26, 26, 26, 26, 26, 26,\n",
       "         26, 26, 26, 26, 26, 26, 26, 26, 26, 26, 26, 26, 26, 26, 26, 26, 26,\n",
       "         26, 26, 26, 26, 26, 26, 26, 26, 26, 26, 26, 26, 26, 26, 26, 26, 42,\n",
       "         42, 42, 42, 42, 42, 42, 42, 42, 42, 42, 42, 42, 42, 42, 42, 42, 42,\n",
       "         42, 42, 42, 42, 42, 42, 42, 42, 42, 42, 42, 42, 42])])"
      ]
     },
     "execution_count": 12,
     "metadata": {},
     "output_type": "execute_result"
    }
   ],
   "source": [
    "np.unique(c3_seq), c3_seq"
   ]
  },
  {
   "cell_type": "code",
   "execution_count": 13,
   "id": "27090102",
   "metadata": {},
   "outputs": [
    {
     "data": {
      "text/plain": [
       "array(['01 유리식', '01 집합의 뜻과 표현', '01 함수', '02 부분집합', '02 여러 가지 함수',\n",
       "       '03 합성함수', '04 역함수'], dtype=object)"
      ]
     },
     "execution_count": 13,
     "metadata": {},
     "output_type": "execute_result"
    }
   ],
   "source": [
    "dataset.c3_list[np.unique(c3_seq)]"
   ]
  },
  {
   "cell_type": "code",
   "execution_count": 14,
   "id": "bee0d2f8",
   "metadata": {},
   "outputs": [
    {
     "data": {
      "text/plain": [
       "'02 여러 가지 함수'"
      ]
     },
     "execution_count": 14,
     "metadata": {},
     "output_type": "execute_result"
    }
   ],
   "source": [
    "dataset.c3_list[np.unique(c3_seq)[np.argmin(CQ3_seq[-1][np.unique(c3_seq)])]]"
   ]
  },
  {
   "cell_type": "code",
   "execution_count": 15,
   "id": "313aad0c",
   "metadata": {},
   "outputs": [
    {
     "data": {
      "text/plain": [
       "['[6] 일대일대응', '[7] 일대일대응이 되기 위한 조건', '[8] 항등함수와 상수함수', '[9] 함수의 개수']"
      ]
     },
     "execution_count": 15,
     "metadata": {},
     "output_type": "execute_result"
    }
   ],
   "source": [
    "dataset.c32c4_list[dataset.c3_list[np.unique(c3_seq)[np.argmin(CQ3_seq[-1][np.unique(c3_seq)])]]]"
   ]
  },
  {
   "cell_type": "code",
   "execution_count": 16,
   "id": "e9adc9ae",
   "metadata": {},
   "outputs": [
    {
     "data": {
      "text/plain": [
       "[array([2, 2, 3, 3, 3, 3, 4, 2, 2, 4, 4, 3, 2, 4, 2, 2, 3, 2, 3, 4, 3, 3,\n",
       "        3, 3, 3, 3, 2, 4, 3, 2, 2, 2, 3, 2, 2, 3, 2, 3, 2, 3, 3, 4, 2, 3,\n",
       "        2, 3, 2, 3, 4, 4, 4, 3, 2, 2, 3, 2, 2, 3, 2, 3, 4, 4, 2, 3, 3, 3,\n",
       "        4, 2, 3, 4, 4, 3, 3, 3, 3, 3, 4, 2, 3, 4, 2, 3, 4, 4, 2, 3, 2, 3,\n",
       "        3, 0, 0, 1, 1, 1, 1, 1, 1, 2, 2, 0, 0, 0, 0, 1, 1, 1, 1, 1, 2, 2,\n",
       "        0, 0, 0, 0, 0, 0, 1, 1, 1, 1, 1, 2, 0, 0, 0, 2, 2, 0, 0, 0, 0, 0,\n",
       "        0, 1, 2, 2, 2, 0, 0, 0, 0, 0, 1, 1, 1, 1, 1, 2, 2, 0, 0, 0, 1, 1,\n",
       "        1, 2, 2, 2, 2, 1, 1, 1, 2, 2, 2, 2, 2, 2, 2, 0, 0, 0, 0, 0, 0, 2,\n",
       "        2, 0, 0, 0, 0, 0, 1, 1, 2, 2, 0, 1, 2, 2, 1, 1, 2, 2, 2, 0, 0, 0,\n",
       "        0, 1])]"
      ]
     },
     "execution_count": 16,
     "metadata": {},
     "output_type": "execute_result"
    }
   ],
   "source": [
    "d_seq"
   ]
  },
  {
   "cell_type": "code",
   "execution_count": 17,
   "id": "e0bcc194",
   "metadata": {},
   "outputs": [
    {
     "data": {
      "text/plain": [
       "Parameter containing:\n",
       "tensor([[-0.7314],\n",
       "        [-0.5066],\n",
       "        [-0.2137],\n",
       "        [ 0.2518],\n",
       "        [ 0.6056],\n",
       "        [ 0.8486],\n",
       "        [ 1.1526]], requires_grad=True)"
      ]
     },
     "execution_count": 17,
     "metadata": {},
     "output_type": "execute_result"
    }
   ],
   "source": [
    "model.D.weight"
   ]
  },
  {
   "cell_type": "code",
   "execution_count": 18,
   "id": "1adccdf3",
   "metadata": {},
   "outputs": [
    {
     "data": {
      "text/plain": [
       "torch.Size([1, 200, 20])"
      ]
     },
     "execution_count": 18,
     "metadata": {},
     "output_type": "execute_result"
    }
   ],
   "source": [
    "h_seq.shape"
   ]
  },
  {
   "cell_type": "code",
   "execution_count": 19,
   "id": "3bfcd5d1",
   "metadata": {},
   "outputs": [
    {
     "data": {
      "image/png": "[encoded data removed]",
      "text/plain": [
       "<Figure size 1440x360 with 2 Axes>"
      ]
     },
     "metadata": {},
     "output_type": "display_data"
    }
   ],
   "source": [
    "plt.figure(figsize=[20, 5], facecolor=\"white\")\n",
    "plt.pcolormesh(h_seq[0].detach().cpu().numpy().T)\n",
    "plt.colorbar()\n",
    "plt.show()\n",
    "\n",
    "# plt.figure(figsize=[15, 0.5], facecolor=\"white\")\n",
    "# plt.pcolormesh(r_seq)\n",
    "# plt.show()"
   ]
  },
  {
   "cell_type": "code",
   "execution_count": 20,
   "id": "c14efe8b",
   "metadata": {},
   "outputs": [
    {
     "data": {
      "text/plain": [
       "{'01 다항식의 연산': ['01 다항식의 연산', '02 다항식의 곱셈공식', '03 다항식의 나눗셈'],\n",
       " '01 삼각비': ['소단원'],\n",
       " '01 제곱근과 실수': ['소단원'],\n",
       " '01 지수': ['01 거듭제곱과 거듭제곱근', '02 지수의 확장'],\n",
       " '01 집합의 뜻과 표현': ['01 집합의 뜻과 표현', '02 부분집합'],\n",
       " '01 함수의 극한': ['01 함수의 극한', '02 함수의 극한에 대한 성질', '03 함수의 극한의 응용'],\n",
       " '02 로그': ['01 로그의 뜻과 성질', '02 상용로그'],\n",
       " '02 삼각형의 외심과 내심': ['소단원'],\n",
       " '02 집합의 연산': ['01 집합의 연산', '02 원소의 개수'],\n",
       " '02 함수의 연속': ['01 함수의 연속', '02 연속함수의 성질'],\n",
       " '02 항등식과 나머지정리': ['01 항등식', '02 나머지정리와 인수정리'],\n",
       " '03 명제': ['01 명제와 조건', '02 명제의 역, 대우', '03 충분조건과 필요조건', '04 절대부등식'],\n",
       " '03 미분계수와 도함수': ['01 미분계수', '02 도함수'],\n",
       " '03 원과 직선': ['소단원'],\n",
       " '03 인수분해': ['01 인수분해'],\n",
       " '03 지수함수': ['01 지수함수의 뜻과 그래프', '02 지수함수의 최대 · 최소', '03 지수함수의 활용'],\n",
       " '04 도함수의 활용(1)': ['01 접선의 방정식', '02 평균값 정리'],\n",
       " '04 로그함수': ['01 로그함수의 뜻과 그래프', '02 로그함수의 최대 · 최소', '03 로그함수의 활용'],\n",
       " '04 복소수': ['01 복소수의 성질과 연산', '02 i의 거듭제곱, 음수의 제곱근'],\n",
       " '04 원주각': ['소단원'],\n",
       " '04 함수': ['01 함수', '02 여러 가지 함수', '03 합성함수', '04 역함수'],\n",
       " '05 대푯값과 산포도': ['소단원'],\n",
       " '05 도함수의 활용(2)': ['01 함수의 증가와 감소', '02 함수의 극대와 극소', '03 함수의 최대와 최소'],\n",
       " '05 도형의 닮음': ['소단원'],\n",
       " '05 삼각함수': ['01 일반각과 호도법', '02 삼각함수의 뜻'],\n",
       " '05 원과 부채꼴': ['소단원'],\n",
       " '05 유리함수': ['01 유리식', '02 유리함수'],\n",
       " '05 이차방정식': ['01 이차방정식', '02 이차방정식의 판별식', '03 이차방정식의 근과 계수의 관계'],\n",
       " '05 이차방정식의 풀이': ['소단원'],\n",
       " '06 도함수의 활용(3)': ['01 방정식과 부등식에의 활용', '02 속도와 가속도'],\n",
       " '06 무리함수': ['01 무리식', '02 무리함수'],\n",
       " '06 삼각함수의 그래프': ['01 삼각함수의 그래프', '02 삼각함수가 포함된 방정식과 부등식'],\n",
       " '06 상관관계': ['소단원'],\n",
       " '06 이차방정식과 이차함수': ['01 이차방정식과 이차함수의 관계', '02 이차함수의 최대, 최소'],\n",
       " '06 이차방정식의 활용': ['소단원'],\n",
       " '07 경우의 수와 순열': ['01 경우의 수', '02 순열'],\n",
       " '07 부정적분': ['01 부정적분', '02 부정적분의 계산'],\n",
       " '07 삼각함수의 활용': ['01 사인법칙', '02 코사인법칙', '03 삼각형의 넓이'],\n",
       " '07 삼각형의 무게중심': ['소단원'],\n",
       " '07 여러 가지 방정식': ['01 삼차방정식과 사차방정식', '02 연립이차방정식', '03 부정방정식'],\n",
       " '07 이차함수와 그 그래프': ['소단원'],\n",
       " '08 등차수열과 등비수열': ['01 등차수열', '02 등차수열의 합', '03 등비수열', '04 등비수열의 합'],\n",
       " '08 연립일차부등식': ['01 연립일차부등식'],\n",
       " '08 이차함수 y=ax²+bx+c의 그래프': ['소단원'],\n",
       " '08 일차함수와 그 그래프': ['소단원'],\n",
       " '08 자료의 정리와 해석': ['소단원'],\n",
       " '08 정적분': ['01 정적분', '02 정적분으로 정의된 함수'],\n",
       " '08 조합': ['01 조합'],\n",
       " '08 피타고라스 정리': ['소단원'],\n",
       " '09 경우의 수': ['소단원'],\n",
       " '09 수열의 합': ['01 ∑의 뜻과 그 성질', '02 여러 가지 수열의 합'],\n",
       " '09 이차부등식과 연립이차부등식': ['01 이차부등식', '02 연립이차부등식'],\n",
       " '09 일차함수와 일차방정식의 관계': ['소단원'],\n",
       " '09 정적분의 활용': ['01 넓이', '02 속도와 거리'],\n",
       " '10 수학적 귀납법': ['01 수열의 귀납적 정의', '02 수학적 귀납법'],\n",
       " '10 평면좌표': ['01 두 점 사이의 거리', '02 선분의 내분점과 외분점'],\n",
       " '10 확률': ['소단원'],\n",
       " '11 직선의 방정식': ['01 직선의 방정식', '02 두 직선의 위치 관계', '03 점과 직선 사이의 거리'],\n",
       " '12 원의 방정식': ['01 원의 방정식', '02 원과 직선의 위치 관계'],\n",
       " '13 도형의 이동': ['01 평행이동', '02 대칭이동']}"
      ]
     },
     "execution_count": 20,
     "metadata": {},
     "output_type": "execute_result"
    }
   ],
   "source": [
    "dataset.c22c3_list"
   ]
  },
  {
   "cell_type": "code",
   "execution_count": 21,
   "id": "66ed2b5d",
   "metadata": {},
   "outputs": [
    {
     "data": {
      "text/plain": [
       "(array([0.5283227], dtype=float32), array([0.69754195], dtype=float32))"
      ]
     },
     "execution_count": 21,
     "metadata": {},
     "output_type": "execute_result"
    }
   ],
   "source": [
    "c2 = \"01 집합의 뜻과 표현\"\n",
    "\n",
    "CQ2_seq = []\n",
    "CQ2_seq = alpha_seq.unsqueeze(-1) + C3_seq.squeeze()[:, [dataset.c32idx[c3] for c3 in dataset.c22c3_list[c2]]].mean(-1, keepdims=True)\n",
    "CQ2_seq = torch.sigmoid(CQ2_seq).detach().cpu().numpy()[0]\n",
    "\n",
    "CQ2_seq[0], CQ2_seq[-1]"
   ]
  },
  {
   "cell_type": "code",
   "execution_count": 22,
   "id": "6d967fba",
   "metadata": {},
   "outputs": [
    {
     "data": {
      "text/plain": [
       "(array([0.53775096], dtype=float32), array([0.66614354], dtype=float32))"
      ]
     },
     "execution_count": 22,
     "metadata": {},
     "output_type": "execute_result"
    }
   ],
   "source": [
    "c2 = \"04 함수\"\n",
    "\n",
    "CQ2_seq = []\n",
    "CQ2_seq = alpha_seq.unsqueeze(-1) + C3_seq.squeeze()[:, [dataset.c32idx[c3] for c3 in dataset.c22c3_list[c2]]].mean(-1, keepdims=True)\n",
    "CQ2_seq = torch.sigmoid(CQ2_seq).detach().cpu().numpy()[0]\n",
    "\n",
    "CQ2_seq[0], CQ2_seq[-1]"
   ]
  },
  {
   "cell_type": "code",
   "execution_count": 23,
   "id": "b9eab49f",
   "metadata": {},
   "outputs": [
    {
     "data": {
      "text/plain": [
       "(array([0.5283227], dtype=float32), array([0.6818132], dtype=float32))"
      ]
     },
     "execution_count": 23,
     "metadata": {},
     "output_type": "execute_result"
    }
   ],
   "source": [
    "c2 = \"05 유리함수\"\n",
    "\n",
    "CQ2_seq = []\n",
    "CQ2_seq = alpha_seq.unsqueeze(-1) + C3_seq.squeeze()[:, [dataset.c32idx[c3] for c3 in dataset.c22c3_list[c2]]].mean(-1, keepdims=True)\n",
    "CQ2_seq = torch.sigmoid(CQ2_seq).detach().cpu().numpy()[0]\n",
    "\n",
    "CQ2_seq[0], CQ2_seq[-1]"
   ]
  },
  {
   "cell_type": "code",
   "execution_count": null,
   "id": "9dbe7b1e",
   "metadata": {},
   "outputs": [],
   "source": []
  },
  {
   "cell_type": "code",
   "execution_count": 24,
   "id": "49ef7f0b",
   "metadata": {
    "scrolled": true
   },
   "outputs": [
    {
     "data": {
      "text/plain": [
       "78"
      ]
     },
     "execution_count": 24,
     "metadata": {},
     "output_type": "execute_result"
    }
   ],
   "source": [
    "dataset.num_c3"
   ]
  },
  {
   "cell_type": "code",
   "execution_count": 25,
   "id": "85876ddd",
   "metadata": {
    "scrolled": false
   },
   "outputs": [
    {
     "data": {
      "text/plain": [
       "torch.Size([1, 200, 78])"
      ]
     },
     "execution_count": 25,
     "metadata": {},
     "output_type": "execute_result"
    }
   ],
   "source": [
    "C3_seq.shape"
   ]
  },
  {
   "cell_type": "code",
   "execution_count": null,
   "id": "4d7fa9a7",
   "metadata": {},
   "outputs": [],
   "source": []
  },
  {
   "cell_type": "code",
   "execution_count": 26,
   "id": "76dce8a8",
   "metadata": {},
   "outputs": [],
   "source": [
    "model.eval()\n",
    "alpha_seq, h_seq, C3_seq = model(\n",
    "    LongTensor(c3_seq),\n",
    "    LongTensor(d_seq),\n",
    "    LongTensor(r_seq),\n",
    ")\n",
    "\n",
    "model.eval()\n",
    "alpha_seq_0, h_seq_0, C3_seq_0 = model(\n",
    "    LongTensor(c3_seq)[:, :50],\n",
    "    LongTensor(d_seq)[:, :50],\n",
    "    LongTensor(r_seq)[:, :50],\n",
    ")\n",
    "\n",
    "alpha_seq_1, h_seq_1, C3_seq_1 = model(\n",
    "    LongTensor(c3_seq)[:, 50:],\n",
    "    LongTensor(d_seq)[:, 50:],\n",
    "    LongTensor(r_seq)[:, 50:],\n",
    "    h_seq_0[:, -1, :],\n",
    "    C3_seq_0[:, -1, :],\n",
    ")\n",
    "\n",
    "alpha_seq_2 = torch.cat([alpha_seq_0, alpha_seq_1], dim=-1)\n",
    "h_seq_2 = torch.cat([h_seq_0, h_seq_1], dim=1)\n",
    "C3_seq_2 = torch.cat([C3_seq_0, C3_seq_1], dim=1)"
   ]
  },
  {
   "cell_type": "code",
   "execution_count": 27,
   "id": "da379cb8",
   "metadata": {},
   "outputs": [
    {
     "data": {
      "text/plain": [
       "(tensor(1.1921e-07, grad_fn=<MaxBackward1>),\n",
       " tensor(2.0862e-07, grad_fn=<MaxBackward1>),\n",
       " tensor(0., grad_fn=<MaxBackward1>))"
      ]
     },
     "execution_count": 27,
     "metadata": {},
     "output_type": "execute_result"
    }
   ],
   "source": [
    "(alpha_seq - alpha_seq_2).max(), (h_seq - h_seq_2).max(), (C3_seq - C3_seq_2).max()"
   ]
  },
  {
   "cell_type": "code",
   "execution_count": 28,
   "id": "53bf7f92",
   "metadata": {},
   "outputs": [
    {
     "name": "stdout",
     "output_type": "stream",
     "text": [
      "[-1.64993477  1.10770958  0.68600021  0.39085373 -0.07925267 -0.37024501\n",
      " -0.08421443 -0.12723645  0.45696941  0.83955864  0.39612511 -1.66721221\n",
      "  0.66224969  2.57801859  0.32681754 -0.35269203 -3.34842675  1.20994726\n",
      " -0.18677732  1.22282877]\n"
     ]
    }
   ],
   "source": [
    "print(np.random.normal(size=[20]))"
   ]
  },
  {
   "cell_type": "code",
   "execution_count": 29,
   "id": "f89aa9e0",
   "metadata": {},
   "outputs": [
    {
     "data": {
      "text/plain": [
       "array([-1.01229107,  0.7603302 , -0.0658707 , -0.31824349, -0.49902115,\n",
       "       -0.4948917 , -0.3331145 , -0.50480505, -0.95179455,  1.52080045,\n",
       "        0.28935426, -1.15328309,  0.15263622, -0.29378584,  1.67313441,\n",
       "        0.5687535 , -0.2911295 ,  1.05354947, -2.00490945,  0.06359024,\n",
       "       -1.25635636, -0.25000513, -0.69120958, -0.03619822,  2.38627118,\n",
       "       -0.36107277, -1.10135212, -0.42141632,  0.49205049, -0.44914609,\n",
       "       -0.72721204, -0.07957597,  1.47880079, -1.06696667,  0.68584442,\n",
       "        0.43321299, -0.18952057, -0.70514377,  0.90321166,  0.48166233,\n",
       "       -1.37688144,  0.33892777,  0.05208333,  0.22651141,  1.7749816 ,\n",
       "        0.39801614,  0.77520154,  1.41672647, -0.19020363, -1.98852643,\n",
       "        1.13520916,  0.47432598,  0.6655661 ,  0.43580395, -0.28706051,\n",
       "        0.30412213,  2.13762916,  1.07099093,  0.77082606,  1.19580368,\n",
       "       -0.39430671,  0.04844682,  0.50668852,  0.22442233, -0.68197097,\n",
       "       -0.1363694 , -0.0609923 ,  1.49807551,  0.90983599,  1.96664457,\n",
       "        0.41626489,  0.63845883, -0.64656463,  0.05589751,  0.1104157 ,\n",
       "       -1.04498535, -0.6557116 ,  0.38033391])"
      ]
     },
     "execution_count": 29,
     "metadata": {},
     "output_type": "execute_result"
    }
   ],
   "source": [
    "np.random.normal(size=[dataset.num_c3])"
   ]
  }
 ],
 "metadata": {
  "kernelspec": {
   "display_name": "Python 3",
   "language": "python",
   "name": "python3"
  },
  "language_info": {
   "codemirror_mode": {
    "name": "ipython",
    "version": 3
   },
   "file_extension": ".py",
   "mimetype": "text/x-python",
   "name": "python",
   "nbconvert_exporter": "python",
   "pygments_lexer": "ipython3",
   "version": "3.9.5"
  }
 },
 "nbformat": 4,
 "nbformat_minor": 5
}
