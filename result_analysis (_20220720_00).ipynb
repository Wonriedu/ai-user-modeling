{
 "cells": [
  {
   "cell_type": "code",
   "execution_count": 1,
   "id": "b93e5091",
   "metadata": {},
   "outputs": [],
   "source": [
    "import os\n",
    "import pickle\n",
    "\n",
    "import numpy as np\n",
    "import pandas as pd\n",
    "import torch\n",
    "\n",
    "import matplotlib.pyplot as plt\n",
    "\n",
    "from torch.utils.data import DataLoader, random_split\n",
    "from torch.nn.functional import one_hot\n",
    "\n",
    "from data_loaders.pulja_data_loader_02 import PuljaDataLoader\n",
    "from models._20220720_00 import UserModel\n",
    "from models.utils_02 import collate_fn\n",
    "\n",
    "if torch.cuda.is_available():\n",
    "    from torch.cuda import FloatTensor, LongTensor\n",
    "    torch.set_default_tensor_type(torch.cuda.FloatTensor)\n",
    "else:\n",
    "    from torch import FloatTensor, LongTensor"
   ]
  },
  {
   "cell_type": "code",
   "execution_count": 2,
   "id": "97c1e541",
   "metadata": {},
   "outputs": [],
   "source": [
    "ckpt_path = \"ckpts\"\n",
    "if not os.path.isdir(ckpt_path):\n",
    "    os.mkdir(ckpt_path)\n",
    "\n",
    "batch_size = 256\n",
    "num_epochs = 100\n",
    "train_ratio = 0.9\n",
    "\n",
    "seq_len = 1000\n",
    "\n",
    "dim_v = 20\n",
    "\n",
    "dataset = PuljaDataLoader(seq_len)\n",
    "\n",
    "if torch.cuda.is_available():\n",
    "    device = \"cuda\"\n",
    "else:\n",
    "    device = \"cpu\"\n",
    "\n",
    "model = UserModel(dataset.num_c1, dataset.num_c2, dataset.num_c4, dataset.num_d, dim_v).to(device)\n",
    "\n",
    "train_size = int(len(dataset) * train_ratio)\n",
    "test_size = len(dataset) - train_size\n",
    "\n",
    "train_dataset, test_dataset = random_split(\n",
    "    dataset, [train_size, test_size]\n",
    ")\n",
    "\n",
    "if os.path.exists(os.path.join(dataset.dataset_dir, \"indices.pkl\")):\n",
    "    with open(os.path.join(dataset.dataset_dir, \"indices.pkl\"), \"rb\") as f:\n",
    "        indices = pickle.load(f)\n",
    "    train_dataset.indices = indices[0]\n",
    "    test_dataset.indices = indices[1]\n",
    "else:\n",
    "    with open(os.path.join(dataset.dataset_dir, \"indices.pkl\"), \"wb\") as f:\n",
    "        pickle.dump((train_dataset.indices, test_dataset.indices), f)\n"
   ]
  },
  {
   "cell_type": "code",
   "execution_count": null,
   "id": "4b425db4",
   "metadata": {
    "scrolled": true
   },
   "outputs": [],
   "source": [
    "model.load_state_dict(\n",
    "    torch.load(\n",
    "        os.path.join(\n",
    "            os.path.join(\n",
    "                ckpt_path, \"_20220720_00\"\n",
    "            ),\n",
    "            \"model_fin.ckpt\"\n",
    "        ),\n",
    "        map_location=device\n",
    "    )\n",
    ")\n",
    "model.eval()"
   ]
  },
  {
   "cell_type": "code",
   "execution_count": null,
   "id": "0f3234c9",
   "metadata": {},
   "outputs": [],
   "source": [
    "aucs_list = []\n",
    "max_aucs = []\n",
    "fin_aucs = []\n",
    "\n",
    "dir_list = [\"01\", \"02\"]\n",
    "\n",
    "for i in dir_list:\n",
    "    with open(\n",
    "        os.path.join(\n",
    "            os.path.join(\n",
    "                ckpt_path,\n",
    "                os.path.join(\"_20220720_00\", i)\n",
    "            ),\n",
    "            \"aucs.pkl\"\n",
    "        ),\n",
    "        \"rb\"\n",
    "    ) as f:\n",
    "        aucs = pickle.load(f)\n",
    "    \n",
    "    max_auc = np.max(aucs)\n",
    "    fin_auc = aucs[-1]\n",
    "\n",
    "    aucs_list.append(aucs)\n",
    "    max_aucs.append(max_auc)\n",
    "    fin_aucs.append(fin_auc)"
   ]
  },
  {
   "cell_type": "code",
   "execution_count": null,
   "id": "21a26250",
   "metadata": {},
   "outputs": [],
   "source": [
    "print(\"max_aucs: {}\".format(max_aucs))\n",
    "print(\"max_auc_mean: {}, max_auc_std: {}\".format(np.mean(max_aucs), np.std(max_aucs)))\n",
    "print(\"max_auc_dir: {}\".format(dir_list[np.argmax(max_aucs)]))"
   ]
  },
  {
   "cell_type": "code",
   "execution_count": null,
   "id": "44b2f46f",
   "metadata": {},
   "outputs": [],
   "source": [
    "print(\"max_fin_aucs: {}\".format(fin_aucs))\n",
    "print(\"max_fin_auc_mean: {}, max_auc_std: {}\".format(np.mean(fin_aucs), np.std(fin_aucs)))\n",
    "print(\"max_fin_auc_dir: {}\".format(dir_list[np.argmax(fin_aucs)]))"
   ]
  },
  {
   "cell_type": "code",
   "execution_count": null,
   "id": "aad79649",
   "metadata": {
    "scrolled": true
   },
   "outputs": [],
   "source": [
    "test_dataset[6]"
   ]
  },
  {
   "cell_type": "code",
   "execution_count": null,
   "id": "25a39e72",
   "metadata": {},
   "outputs": [],
   "source": [
    "# 0, 6\n",
    "c3_seq, d_seq, r_seq = test_dataset[6]\n",
    "\n",
    "view_from = 0\n",
    "view_to = 200\n",
    "\n",
    "seq_len = view_to - view_from\n",
    "\n",
    "c3_seq = [c3_seq[view_from:view_to]]\n",
    "d_seq = [d_seq[view_from:view_to]]\n",
    "r_seq = [r_seq[view_from:view_to]]\n",
    "\n",
    "# r_seq = np.zeros_like(r_seq)\n",
    "# r_seq = np.ones_like(r_seq)\n",
    "\n",
    "# d_seq = np.ones_like(d_seq) * 6\n",
    "\n",
    "# c_seq = np.array([[0] * 100])\n",
    "# d_seq = np.array([[6] * 30 + [3] * 30 + [0] * 40])\n",
    "# r_seq = np.ones_like(r_seq)\n",
    "\n",
    "# c1_seq, c2_seq, c4_seq, d_seq, r_seq: [batch_size, seq_len]\n",
    "\n",
    "alpha_seq, h_seq, C3_seq = model(\n",
    "    LongTensor(c3_seq),\n",
    "    LongTensor(d_seq),\n",
    "    LongTensor(r_seq),\n",
    ")\n",
    "\n",
    "# C3_seq: [batch_size, seq_len, num_c4]\n",
    "\n",
    "# beta3_seq: [batch_size, seq_len]\n",
    "beta3_seq = torch.gather(C3_seq, dim=-1, index=LongTensor(c3_seq).unsqueeze(-1)).reshape([1, seq_len])\n",
    "\n",
    "# gamma_seq: [seq_len]\n",
    "gamma_seq = model.D(LongTensor(d_seq)).squeeze()\n",
    "\n",
    "###########################################\n",
    "\n",
    "sigmoid_alpha_seq = torch.sigmoid(alpha_seq).detach().cpu().numpy()[0]\n",
    "\n",
    "sigmoid_alpha_beta_seq = torch.sigmoid(alpha_seq + beta3_seq).detach().cpu().numpy()[0]\n",
    "\n",
    "sigmoid_alpha_beta_gamma_seq = torch.sigmoid(alpha_seq + beta3_seq - gamma_seq).detach().cpu().numpy()[0]\n",
    "\n",
    "r_seq_ma = np.cumsum(r_seq[0]) / np.arange(1, r_seq[0].shape[0] + 1)\n",
    "\n",
    "CQ3_seq = alpha_seq.unsqueeze(-1) + C3_seq.squeeze()\n",
    "CQ3_seq = torch.sigmoid(CQ3_seq).detach().cpu().numpy()[0]\n",
    "\n",
    "C3_seq = C3_seq.squeeze().detach().cpu().numpy()\n",
    "\n",
    "# alpha_seq = alpha_seq.detach().cpu().numpy()"
   ]
  },
  {
   "cell_type": "code",
   "execution_count": null,
   "id": "518a0f84",
   "metadata": {
    "scrolled": false
   },
   "outputs": [],
   "source": [
    "plt.figure(figsize=[15, 5], facecolor=\"white\")\n",
    "plt.plot(r_seq[0], label=\"r_seq\")\n",
    "plt.plot((d_seq[0] + 1) / 10, label=\"d_seq\")\n",
    "plt.plot(sigmoid_alpha_seq, label=\"sigmoid_alpha_seq\")\n",
    "# plt.plot(sigmoid_alpha_beta2_seq, label=\"sigmoid_alpha_beta2_seq\")\n",
    "# plt.plot(sigmoid_alpha_beta4_seq, label=\"sigmoid_alpha_beta4_seq\")\n",
    "# plt.plot(sigmoid_beta4_seq, label=\"sigmoid_beta4_seq\")\n",
    "plt.grid()\n",
    "plt.ylim(0, 1)\n",
    "plt.legend()\n",
    "plt.show()\n",
    "\n",
    "plt.figure(figsize=[20, len(np.unique(c3_seq)) // 3], facecolor=\"white\")\n",
    "temp = np.concatenate([CQ3_seq[:, np.unique(c3_seq)].T, r_seq], axis=0)\n",
    "plt.pcolormesh(temp)\n",
    "plt.colorbar()\n",
    "plt.show()"
   ]
  },
  {
   "cell_type": "code",
   "execution_count": null,
   "id": "7f7f535c",
   "metadata": {},
   "outputs": [],
   "source": [
    "CQ3_seq[0][np.unique(c3_seq)]"
   ]
  },
  {
   "cell_type": "code",
   "execution_count": null,
   "id": "014f71f0",
   "metadata": {},
   "outputs": [],
   "source": [
    "CQ3_seq[-1][np.unique(c3_seq)]"
   ]
  },
  {
   "cell_type": "code",
   "execution_count": null,
   "id": "0bb894c2",
   "metadata": {},
   "outputs": [],
   "source": [
    "np.unique(c3_seq), c3_seq"
   ]
  },
  {
   "cell_type": "code",
   "execution_count": null,
   "id": "e9adc9ae",
   "metadata": {},
   "outputs": [],
   "source": [
    "d_seq"
   ]
  },
  {
   "cell_type": "code",
   "execution_count": null,
   "id": "e0bcc194",
   "metadata": {},
   "outputs": [],
   "source": [
    "model.D.weight"
   ]
  },
  {
   "cell_type": "code",
   "execution_count": null,
   "id": "1adccdf3",
   "metadata": {},
   "outputs": [],
   "source": [
    "h_seq.shape"
   ]
  },
  {
   "cell_type": "code",
   "execution_count": null,
   "id": "3bfcd5d1",
   "metadata": {},
   "outputs": [],
   "source": [
    "plt.figure(figsize=[20, 5], facecolor=\"white\")\n",
    "plt.pcolormesh(h_seq[0].detach().cpu().numpy().T)\n",
    "plt.colorbar()\n",
    "plt.show()\n",
    "\n",
    "# plt.figure(figsize=[15, 0.5], facecolor=\"white\")\n",
    "# plt.pcolormesh(r_seq)\n",
    "# plt.show()"
   ]
  }
 ],
 "metadata": {
  "kernelspec": {
   "display_name": "Python 3",
   "language": "python",
   "name": "python3"
  },
  "language_info": {
   "codemirror_mode": {
    "name": "ipython",
    "version": 3
   },
   "file_extension": ".py",
   "mimetype": "text/x-python",
   "name": "python",
   "nbconvert_exporter": "python",
   "pygments_lexer": "ipython3",
   "version": "3.9.5"
  }
 },
 "nbformat": 4,
 "nbformat_minor": 5
}
