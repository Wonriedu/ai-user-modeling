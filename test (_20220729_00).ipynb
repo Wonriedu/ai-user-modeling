{
 "cells": [
  {
   "cell_type": "code",
   "execution_count": 1,
   "id": "b93e5091",
   "metadata": {},
   "outputs": [],
   "source": [
    "import os\n",
    "import pickle\n",
    "\n",
    "import numpy as np\n",
    "import pandas as pd\n",
    "import torch\n",
    "\n",
    "import matplotlib.pyplot as plt\n",
    "\n",
    "from torch.utils.data import DataLoader, random_split\n",
    "from torch.nn.functional import one_hot\n",
    "\n",
    "from data_loaders.pulja_data_loader_02 import PuljaDataLoader\n",
    "from models._20220729_00 import UserModel\n",
    "from models.utils_02 import collate_fn\n",
    "\n",
    "if torch.cuda.is_available():\n",
    "    from torch.cuda import FloatTensor, LongTensor\n",
    "    torch.set_default_tensor_type(torch.cuda.FloatTensor)\n",
    "else:\n",
    "    from torch import FloatTensor, LongTensor"
   ]
  },
  {
   "cell_type": "code",
   "execution_count": 2,
   "id": "97c1e541",
   "metadata": {},
   "outputs": [],
   "source": [
    "ckpt_path = \"ckpts\"\n",
    "if not os.path.isdir(ckpt_path):\n",
    "    os.mkdir(ckpt_path)\n",
    "\n",
    "batch_size = 256\n",
    "num_epochs = 100\n",
    "train_ratio = 0.9\n",
    "\n",
    "seq_len = 1000\n",
    "\n",
    "dim_v = 20\n",
    "\n",
    "dataset = PuljaDataLoader(seq_len)\n",
    "\n",
    "if torch.cuda.is_available():\n",
    "    device = \"cuda\"\n",
    "else:\n",
    "    device = \"cpu\"\n",
    "\n",
    "model = UserModel(dataset.num_c1, dataset.num_c2, dataset.num_c3, dataset.num_d, dim_v).to(device)\n",
    "\n",
    "train_size = int(len(dataset) * train_ratio)\n",
    "test_size = len(dataset) - train_size\n",
    "\n",
    "train_dataset, test_dataset = random_split(\n",
    "    dataset, [train_size, test_size]\n",
    ")\n",
    "\n",
    "if os.path.exists(os.path.join(dataset.dataset_dir, \"indices.pkl\")):\n",
    "    with open(os.path.join(dataset.dataset_dir, \"indices.pkl\"), \"rb\") as f:\n",
    "        indices = pickle.load(f)\n",
    "    train_dataset.indices = indices[0]\n",
    "    test_dataset.indices = indices[1]\n",
    "else:\n",
    "    with open(os.path.join(dataset.dataset_dir, \"indices.pkl\"), \"wb\") as f:\n",
    "        pickle.dump((train_dataset.indices, test_dataset.indices), f)\n"
   ]
  },
  {
   "cell_type": "code",
   "execution_count": 3,
   "id": "4b425db4",
   "metadata": {
    "scrolled": true
   },
   "outputs": [
    {
     "data": {
      "text/plain": [
       "UserModel(\n",
       "  (D): Embedding(7, 1)\n",
       "  (R): Embedding(2, 20)\n",
       "  (gru): GRU(40, 20, batch_first=True)\n",
       "  (linear_1): Sequential(\n",
       "    (0): Linear(in_features=20, out_features=20, bias=True)\n",
       "    (1): ReLU()\n",
       "    (2): Dropout(p=0.5, inplace=False)\n",
       "    (3): Linear(in_features=20, out_features=1, bias=True)\n",
       "    (4): Dropout(p=0.5, inplace=False)\n",
       "  )\n",
       "  (linear_2): Sequential(\n",
       "    (0): Linear(in_features=60, out_features=20, bias=True)\n",
       "    (1): ReLU()\n",
       "    (2): Dropout(p=0.5, inplace=False)\n",
       "    (3): Linear(in_features=20, out_features=1, bias=True)\n",
       "    (4): Dropout(p=0.5, inplace=False)\n",
       "  )\n",
       ")"
      ]
     },
     "execution_count": 3,
     "metadata": {},
     "output_type": "execute_result"
    }
   ],
   "source": [
    "model.load_state_dict(\n",
    "    torch.load(\n",
    "        os.path.join(\n",
    "            os.path.join(\n",
    "                ckpt_path, \"_20220729_00\"\n",
    "            ),\n",
    "            \"model_fin.ckpt\"\n",
    "        ),\n",
    "        map_location=device\n",
    "    )\n",
    ")\n",
    "model.eval()"
   ]
  },
  {
   "cell_type": "code",
   "execution_count": 4,
   "id": "9b0be387",
   "metadata": {
    "scrolled": false
   },
   "outputs": [
    {
     "name": "stdout",
     "output_type": "stream",
     "text": [
      "---------------------------\n",
      "tensor(0.2150, grad_fn=<SqueezeBackward0>) tensor(1.4039, grad_fn=<SubBackward0>) 0 1\n",
      "tensor(0.)\n",
      "sssssssssss\n",
      "tensor([0.3612], grad_fn=<ViewBackward>)\n",
      "---------------------------\n",
      "tensor(0.2150, grad_fn=<SqueezeBackward0>) tensor(-0.0284, grad_fn=<SubBackward0>) 3 1\n",
      "tensor(0.1358, grad_fn=<SelectBackward>)\n",
      "sssssssssss\n",
      "tensor([0.2709], grad_fn=<ViewBackward>)\n",
      "---------------------------\n",
      "tensor(0.2709, grad_fn=<SqueezeBackward0>) tensor(-0.4124, grad_fn=<SubBackward0>) 4 1\n",
      "tensor(0.1097, grad_fn=<SelectBackward>)\n",
      "sssssssssss\n",
      "tensor([0.3662], grad_fn=<ViewBackward>)\n",
      "---------------------------\n",
      "tensor(0.3662, grad_fn=<SqueezeBackward0>) tensor(-0.3171, grad_fn=<SubBackward0>) 4 0\n",
      "tensor(0.0843, grad_fn=<SelectBackward>)\n",
      "sssssssssss\n",
      "tensor([0.4481], grad_fn=<ViewBackward>)\n",
      "---------------------------\n",
      "tensor(0.3662, grad_fn=<SqueezeBackward0>) tensor(-0.3171, grad_fn=<SubBackward0>) 4 1\n",
      "tensor(-0.0370, grad_fn=<SelectBackward>)\n",
      "sssssssssss\n",
      "tensor([0.3306], grad_fn=<ViewBackward>)\n",
      "---------------------------\n",
      "tensor(0.3662, grad_fn=<SqueezeBackward0>) tensor(-0.3171, grad_fn=<SubBackward0>) 4 0\n",
      "tensor(0.0468, grad_fn=<SelectBackward>)\n",
      "sssssssssss\n",
      "tensor([0.4049], grad_fn=<ViewBackward>)\n",
      "---------------------------\n",
      "tensor(0.3662, grad_fn=<SqueezeBackward0>) tensor(-0.3171, grad_fn=<SubBackward0>) 4 1\n",
      "tensor(-0.0444, grad_fn=<SelectBackward>)\n",
      "sssssssssss\n",
      "tensor([0.3277], grad_fn=<ViewBackward>)\n",
      "---------------------------\n",
      "tensor(0.3662, grad_fn=<SqueezeBackward0>) tensor(-0.3171, grad_fn=<SubBackward0>) 4 0\n",
      "tensor(0.0449, grad_fn=<SelectBackward>)\n",
      "sssssssssss\n",
      "tensor([0.4123], grad_fn=<ViewBackward>)\n",
      "---------------------------\n",
      "tensor(0.3662, grad_fn=<SqueezeBackward0>) tensor(-0.3171, grad_fn=<SubBackward0>) 4 0\n",
      "tensor(-0.0448, grad_fn=<SelectBackward>)\n",
      "sssssssssss\n",
      "tensor([0.2767], grad_fn=<ViewBackward>)\n",
      "---------------------------\n",
      "tensor(0.3662, grad_fn=<SqueezeBackward0>) tensor(-0.3171, grad_fn=<SubBackward0>) 4 0\n",
      "tensor(-0.0626, grad_fn=<SelectBackward>)\n",
      "sssssssssss\n",
      "tensor([0.1626], grad_fn=<ViewBackward>)\n",
      "---------------------------\n",
      "tensor(0.3662, grad_fn=<SqueezeBackward0>) tensor(-0.3171, grad_fn=<SubBackward0>) 4 1\n",
      "tensor(-0.0661, grad_fn=<SelectBackward>)\n",
      "sssssssssss\n",
      "tensor([0.1669], grad_fn=<ViewBackward>)\n",
      "---------------------------\n",
      "tensor(0.3662, grad_fn=<SqueezeBackward0>) tensor(-0.3171, grad_fn=<SubBackward0>) 4 1\n",
      "tensor(0.0394, grad_fn=<SelectBackward>)\n",
      "sssssssssss\n",
      "tensor([0.2816], grad_fn=<ViewBackward>)\n",
      "---------------------------\n",
      "tensor(0.3662, grad_fn=<SqueezeBackward0>) tensor(-0.3171, grad_fn=<SubBackward0>) 4 0\n",
      "tensor(0.0663, grad_fn=<SelectBackward>)\n",
      "sssssssssss\n",
      "tensor([0.2934], grad_fn=<ViewBackward>)\n",
      "---------------------------\n",
      "tensor(0.3662, grad_fn=<SqueezeBackward0>) tensor(-0.3171, grad_fn=<SubBackward0>) 4 0\n",
      "tensor(-0.0405, grad_fn=<SelectBackward>)\n",
      "sssssssssss\n",
      "tensor([0.1421], grad_fn=<ViewBackward>)\n",
      "---------------------------\n",
      "tensor(0.3662, grad_fn=<SqueezeBackward0>) tensor(-0.3171, grad_fn=<SubBackward0>) 4 0\n",
      "tensor(-0.0618, grad_fn=<SelectBackward>)\n",
      "sssssssssss\n",
      "tensor([0.0315], grad_fn=<ViewBackward>)\n",
      "---------------------------\n",
      "tensor(0.3662, grad_fn=<SqueezeBackward0>) tensor(-0.3171, grad_fn=<SubBackward0>) 4 0\n",
      "tensor(-0.0660, grad_fn=<SelectBackward>)\n",
      "sssssssssss\n",
      "tensor([-0.0402], grad_fn=<ViewBackward>)\n",
      "---------------------------\n",
      "tensor(0.3662, grad_fn=<SqueezeBackward0>) tensor(-0.3171, grad_fn=<SubBackward0>) 4 1\n",
      "tensor(-0.0668, grad_fn=<SelectBackward>)\n",
      "sssssssssss\n",
      "tensor([0.0095], grad_fn=<ViewBackward>)\n",
      "---------------------------\n",
      "tensor(0.3662, grad_fn=<SqueezeBackward0>) tensor(-0.3171, grad_fn=<SubBackward0>) 4 1\n",
      "tensor(0.0392, grad_fn=<SelectBackward>)\n",
      "sssssssssss\n",
      "tensor([0.1292], grad_fn=<ViewBackward>)\n",
      "---------------------------\n",
      "tensor(0.3662, grad_fn=<SqueezeBackward0>) tensor(-0.3171, grad_fn=<SubBackward0>) 4 0\n",
      "tensor(0.0663, grad_fn=<SelectBackward>)\n",
      "sssssssssss\n",
      "tensor([0.0568], grad_fn=<ViewBackward>)\n",
      "---------------------------\n",
      "tensor(0.3662, grad_fn=<SqueezeBackward0>) tensor(-0.3171, grad_fn=<SubBackward0>) 4 0\n",
      "tensor(-0.0405, grad_fn=<SelectBackward>)\n",
      "sssssssssss\n",
      "tensor([-0.0595], grad_fn=<ViewBackward>)\n",
      "---------------------------\n",
      "tensor(0.3662, grad_fn=<SqueezeBackward0>) tensor(-0.3171, grad_fn=<SubBackward0>) 4 0\n",
      "tensor(-0.0618, grad_fn=<SelectBackward>)\n",
      "sssssssssss\n",
      "tensor([-0.1378], grad_fn=<ViewBackward>)\n",
      "---------------------------\n",
      "tensor(0.3662, grad_fn=<SqueezeBackward0>) tensor(-0.3171, grad_fn=<SubBackward0>) 4 0\n",
      "tensor(-0.0660, grad_fn=<SelectBackward>)\n",
      "sssssssssss\n",
      "tensor([-0.1804], grad_fn=<ViewBackward>)\n",
      "---------------------------\n",
      "tensor(0.3662, grad_fn=<SqueezeBackward0>) tensor(-0.3171, grad_fn=<SubBackward0>) 4 1\n",
      "tensor(-0.0668, grad_fn=<SelectBackward>)\n",
      "sssssssssss\n",
      "tensor([-0.1046], grad_fn=<ViewBackward>)\n",
      "---------------------------\n",
      "tensor(0.3662, grad_fn=<SqueezeBackward0>) tensor(-0.3171, grad_fn=<SubBackward0>) 4 0\n",
      "tensor(0.0392, grad_fn=<SelectBackward>)\n",
      "sssssssssss\n",
      "tensor([-0.1874], grad_fn=<ViewBackward>)\n",
      "---------------------------\n",
      "tensor(0.3662, grad_fn=<SqueezeBackward0>) tensor(-0.3171, grad_fn=<SubBackward0>) 4 1\n",
      "tensor(-0.0459, grad_fn=<SelectBackward>)\n",
      "sssssssssss\n",
      "tensor([-0.1074], grad_fn=<ViewBackward>)\n",
      "---------------------------\n",
      "tensor(0.3662, grad_fn=<SqueezeBackward0>) tensor(-0.3171, grad_fn=<SubBackward0>) 4 1\n",
      "tensor(0.0445, grad_fn=<SelectBackward>)\n",
      "sssssssssss\n",
      "tensor([0.0196], grad_fn=<ViewBackward>)\n",
      "---------------------------\n",
      "tensor(0.3662, grad_fn=<SqueezeBackward0>) tensor(-0.3171, grad_fn=<SubBackward0>) 4 0\n",
      "tensor(0.0677, grad_fn=<SelectBackward>)\n",
      "sssssssssss\n",
      "tensor([-0.0809], grad_fn=<ViewBackward>)\n",
      "---------------------------\n",
      "tensor(0.3662, grad_fn=<SqueezeBackward0>) tensor(-0.3171, grad_fn=<SubBackward0>) 4 1\n",
      "tensor(-0.0403, grad_fn=<SelectBackward>)\n",
      "sssssssssss\n",
      "tensor([-0.0250], grad_fn=<ViewBackward>)\n",
      "---------------------------\n",
      "tensor(0.3662, grad_fn=<SqueezeBackward0>) tensor(-0.3171, grad_fn=<SubBackward0>) 4 0\n",
      "tensor(0.0460, grad_fn=<SelectBackward>)\n",
      "sssssssssss\n",
      "tensor([-0.1140], grad_fn=<ViewBackward>)\n",
      "---------------------------\n",
      "tensor(0.3662, grad_fn=<SqueezeBackward0>) tensor(-0.3171, grad_fn=<SubBackward0>) 4 1\n",
      "tensor(-0.0446, grad_fn=<SelectBackward>)\n",
      "sssssssssss\n",
      "tensor([-0.0523], grad_fn=<ViewBackward>)\n",
      "---------------------------\n",
      "tensor(0.3662, grad_fn=<SqueezeBackward0>) tensor(-0.3171, grad_fn=<SubBackward0>) 4 0\n",
      "tensor(0.0449, grad_fn=<SelectBackward>)\n"
     ]
    }
   ],
   "source": [
    "c3 = 0\n",
    "\n",
    "d = np.random.choice(5)\n",
    "\n",
    "h = torch.zeros([1, model.dim_v])\n",
    "C3 = torch.zeros([1, model.num_c3])\n",
    "\n",
    "alpha = model.linear_1(h).squeeze()\n",
    "\n",
    "beta3 = torch.gather(\n",
    "    C3, dim=-1, index=LongTensor([[c3]])\n",
    ").squeeze()\n",
    "\n",
    "gamma = model.D(LongTensor([[d]])).squeeze()\n",
    "\n",
    "logit = alpha + beta3 - gamma\n",
    "\n",
    "p = torch.sigmoid(logit).detach().cpu().numpy()\n",
    "\n",
    "r = np.random.binomial(1, p)\n",
    "\n",
    "print(\"---------------------------\")\n",
    "print(alpha, alpha - gamma, d, r)\n",
    "print(C3[0, 0])\n",
    "\n",
    "for _ in range(30):\n",
    "    alpha, h, C3 = model(\n",
    "        LongTensor([[c3]]),\n",
    "        LongTensor([[d]]),\n",
    "        LongTensor([[r]]),\n",
    "        alpha,\n",
    "        h,\n",
    "        C3,\n",
    "    )\n",
    "    \n",
    "    alpha = alpha.squeeze()\n",
    "    h = h[0]\n",
    "    C3 = C3[0]\n",
    "    \n",
    "    d = np.where((alpha.detach().cpu().numpy() - model.D.weight.squeeze().detach().cpu().numpy() < 0)[:-1])[0][0]\n",
    "    \n",
    "    beta3 = torch.gather(\n",
    "        C3, dim=-1, index=LongTensor([[c3]])\n",
    "    ).squeeze()\n",
    "\n",
    "    gamma = model.D(LongTensor([[d]])).squeeze()\n",
    "\n",
    "    logit = alpha + beta3 - gamma\n",
    "\n",
    "    p = torch.sigmoid(logit).detach().cpu().numpy()\n",
    "\n",
    "    r = np.random.binomial(1, p)\n",
    "    \n",
    "    print(\"---------------------------\")\n",
    "    print(alpha, alpha - gamma, d, r)\n",
    "    print(C3[0, 0])"
   ]
  },
  {
   "cell_type": "code",
   "execution_count": 5,
   "id": "31d51904",
   "metadata": {},
   "outputs": [
    {
     "data": {
      "text/plain": [
       "tensor(0.6833, grad_fn=<SqueezeBackward0>)"
      ]
     },
     "execution_count": 5,
     "metadata": {},
     "output_type": "execute_result"
    }
   ],
   "source": [
    "gamma"
   ]
  },
  {
   "cell_type": "code",
   "execution_count": 6,
   "id": "cca78b46",
   "metadata": {},
   "outputs": [
    {
     "data": {
      "text/plain": [
       "tensor(0.0449, grad_fn=<SqueezeBackward0>)"
      ]
     },
     "execution_count": 6,
     "metadata": {},
     "output_type": "execute_result"
    }
   ],
   "source": [
    "beta3"
   ]
  },
  {
   "cell_type": "code",
   "execution_count": 7,
   "id": "488f97cf",
   "metadata": {},
   "outputs": [
    {
     "data": {
      "text/plain": [
       "tensor(0.3662, grad_fn=<SqueezeBackward0>)"
      ]
     },
     "execution_count": 7,
     "metadata": {},
     "output_type": "execute_result"
    }
   ],
   "source": [
    "alpha"
   ]
  },
  {
   "cell_type": "code",
   "execution_count": 8,
   "id": "5eec4e2d",
   "metadata": {},
   "outputs": [
    {
     "data": {
      "text/plain": [
       "tensor(-0.2722, grad_fn=<SubBackward0>)"
      ]
     },
     "execution_count": 8,
     "metadata": {},
     "output_type": "execute_result"
    }
   ],
   "source": [
    "logit"
   ]
  },
  {
   "cell_type": "code",
   "execution_count": 9,
   "id": "06ec6023",
   "metadata": {},
   "outputs": [
    {
     "data": {
      "text/plain": [
       "array(0.43236467, dtype=float32)"
      ]
     },
     "execution_count": 9,
     "metadata": {},
     "output_type": "execute_result"
    }
   ],
   "source": [
    "p"
   ]
  },
  {
   "cell_type": "code",
   "execution_count": 10,
   "id": "88629bcf",
   "metadata": {},
   "outputs": [
    {
     "data": {
      "text/plain": [
       "0"
      ]
     },
     "execution_count": 10,
     "metadata": {},
     "output_type": "execute_result"
    }
   ],
   "source": [
    "r"
   ]
  },
  {
   "cell_type": "code",
   "execution_count": 11,
   "id": "b0c7827e",
   "metadata": {},
   "outputs": [
    {
     "ename": "NameError",
     "evalue": "name 'end' is not defined",
     "output_type": "error",
     "traceback": [
      "\u001b[1;31m---------------------------------------------------------------------------\u001b[0m",
      "\u001b[1;31mNameError\u001b[0m                                 Traceback (most recent call last)",
      "\u001b[1;32m<ipython-input-11-2ff02905e7b7>\u001b[0m in \u001b[0;36m<module>\u001b[1;34m\u001b[0m\n\u001b[1;32m----> 1\u001b[1;33m \u001b[0mend\u001b[0m\u001b[1;33m\u001b[0m\u001b[1;33m\u001b[0m\u001b[0m\n\u001b[0m",
      "\u001b[1;31mNameError\u001b[0m: name 'end' is not defined"
     ]
    }
   ],
   "source": [
    "end"
   ]
  },
  {
   "cell_type": "code",
   "execution_count": null,
   "id": "e0087de5",
   "metadata": {},
   "outputs": [],
   "source": [
    "alpha_seq, h_seq, C3_seq = model(\n",
    "    LongTensor([[0]]),\n",
    "    LongTensor([[d]]),\n",
    "    LongTensor(r_seq),\n",
    ")"
   ]
  },
  {
   "cell_type": "code",
   "execution_count": null,
   "id": "aad79649",
   "metadata": {
    "scrolled": true
   },
   "outputs": [],
   "source": [
    "test_dataset[47]"
   ]
  },
  {
   "cell_type": "code",
   "execution_count": null,
   "id": "25a39e72",
   "metadata": {},
   "outputs": [],
   "source": [
    "# 3, 5, 6, 7, 11, 12, 15, 20\n",
    "c3_seq, d_seq, r_seq = test_dataset[12]\n",
    "\n",
    "c3_seq = [c3_seq[:seq_len]]\n",
    "d_seq = [d_seq[:seq_len]]\n",
    "r_seq = [r_seq[:seq_len]]\n",
    "\n",
    "# r_seq = np.zeros_like(r_seq)\n",
    "# r_seq = np.ones_like(r_seq)\n",
    "\n",
    "# d_seq = np.ones_like(d_seq) * 6\n",
    "\n",
    "# c_seq = np.array([[0] * 100])\n",
    "# d_seq = np.array([[6] * 30 + [3] * 30 + [0] * 40])\n",
    "# r_seq = np.ones_like(r_seq)\n",
    "\n",
    "# c1_seq, c2_seq, c4_seq, d_seq, r_seq: [batch_size, seq_len]\n",
    "\n",
    "alpha_seq, h_seq, C3_seq = model(\n",
    "    LongTensor(c3_seq),\n",
    "    LongTensor(d_seq),\n",
    "    LongTensor(r_seq),\n",
    ")\n",
    "\n",
    "# C3_seq: [batch_size, seq_len, num_c4]\n",
    "\n",
    "# beta3_seq: [batch_size, seq_len]\n",
    "beta3_seq = torch.gather(C3_seq, dim=-1, index=LongTensor(c3_seq).unsqueeze(-1)).reshape([1, seq_len])\n",
    "\n",
    "# gamma_seq: [seq_len]\n",
    "gamma_seq = model.D(LongTensor(d_seq)).squeeze()\n",
    "\n",
    "###########################################\n",
    "\n",
    "sigmoid_alpha_seq = torch.sigmoid(alpha_seq).detach().cpu().numpy()[0]\n",
    "\n",
    "sigmoid_alpha_beta_seq = torch.sigmoid(alpha_seq + beta3_seq).detach().cpu().numpy()[0]\n",
    "\n",
    "sigmoid_alpha_beta_gamma_seq = torch.sigmoid(alpha_seq + beta3_seq - gamma_seq).detach().cpu().numpy()[0]\n",
    "\n",
    "r_seq_ma = np.cumsum(r_seq[0]) / np.arange(1, r_seq[0].shape[0] + 1)\n",
    "\n",
    "CQ3_seq = alpha_seq.unsqueeze(-1) + C3_seq.squeeze()\n",
    "CQ3_seq = torch.sigmoid(CQ3_seq).detach().cpu().numpy()[0]\n",
    "\n",
    "# C3_seq = C3_seq.squeeze().detach().cpu().numpy()\n",
    "\n",
    "alpha_seq = alpha_seq.detach().cpu().numpy()\n",
    "gamma_seq = gamma_seq.detach().cpu().numpy()\n",
    "\n",
    "prev_alpha = alpha_seq[0][:-1]\n",
    "prev_alpha = np.concatenate([model.init_alpha(1).detach().cpu().numpy(), prev_alpha])"
   ]
  },
  {
   "cell_type": "code",
   "execution_count": null,
   "id": "518a0f84",
   "metadata": {
    "scrolled": false
   },
   "outputs": [],
   "source": [
    "view_from = 0\n",
    "view_range = 200\n",
    "\n",
    "for view_from in range(0, seq_len, view_range):\n",
    "    view_to = view_from + view_range\n",
    "\n",
    "    plt.figure(figsize=[15, 5], facecolor=\"white\")\n",
    "    # plt.figure(figsize=[100, 10], facecolor=\"white\")\n",
    "    plt.plot(r_seq[0][view_from:view_to], label=\"r_seq\")\n",
    "    plt.plot(((d_seq[0] + 1) / 10)[view_from:view_to], label=\"d_seq\")\n",
    "    plt.plot(sigmoid_alpha_seq[view_from:view_to], label=\"sigmoid_alpha_seq\")\n",
    "    plt.plot(sigmoid_alpha_beta_seq[view_from:view_to], label=\"sigmoid_alpha_beta_seq\")\n",
    "    # plt.plot(sigmoid_alpha_beta4_seq, label=\"sigmoid_alpha_beta4_seq\")\n",
    "    # plt.plot(sigmoid_beta4_seq, label=\"sigmoid_beta4_seq\")\n",
    "    plt.plot(((prev_alpha - gamma_seq) / 10)[view_from:view_to], label=\"alpha - gamma\")\n",
    "    plt.grid()\n",
    "    plt.ylim(-0.1, 1.1)\n",
    "    plt.legend()\n",
    "    plt.show()\n",
    "\n",
    "plt.figure(figsize=[20, len(np.unique(c3_seq)) // 3 + 1], facecolor=\"white\")\n",
    "temp = np.concatenate([CQ3_seq[:, np.unique(c3_seq)].T, r_seq], axis=0)\n",
    "plt.pcolormesh(temp)\n",
    "plt.colorbar()\n",
    "plt.show()"
   ]
  },
  {
   "cell_type": "code",
   "execution_count": null,
   "id": "7f7f535c",
   "metadata": {},
   "outputs": [],
   "source": [
    "CQ3_seq[0][np.unique(c3_seq)]"
   ]
  },
  {
   "cell_type": "code",
   "execution_count": null,
   "id": "014f71f0",
   "metadata": {},
   "outputs": [],
   "source": [
    "CQ3_seq[-1][np.unique(c3_seq)]"
   ]
  },
  {
   "cell_type": "code",
   "execution_count": null,
   "id": "0bb894c2",
   "metadata": {},
   "outputs": [],
   "source": [
    "np.unique(c3_seq), c3_seq"
   ]
  },
  {
   "cell_type": "code",
   "execution_count": null,
   "id": "27090102",
   "metadata": {},
   "outputs": [],
   "source": [
    "dataset.c3_list[np.unique(c3_seq)]"
   ]
  },
  {
   "cell_type": "code",
   "execution_count": null,
   "id": "bee0d2f8",
   "metadata": {},
   "outputs": [],
   "source": [
    "dataset.c3_list[np.unique(c3_seq)[np.argmin(CQ3_seq[-1][np.unique(c3_seq)])]]"
   ]
  },
  {
   "cell_type": "code",
   "execution_count": null,
   "id": "313aad0c",
   "metadata": {},
   "outputs": [],
   "source": [
    "dataset.c32c4_list[dataset.c3_list[np.unique(c3_seq)[np.argmin(CQ3_seq[-1][np.unique(c3_seq)])]]]"
   ]
  },
  {
   "cell_type": "code",
   "execution_count": null,
   "id": "e9adc9ae",
   "metadata": {},
   "outputs": [],
   "source": [
    "d_seq"
   ]
  },
  {
   "cell_type": "code",
   "execution_count": null,
   "id": "e0bcc194",
   "metadata": {},
   "outputs": [],
   "source": [
    "model.D.weight"
   ]
  },
  {
   "cell_type": "code",
   "execution_count": null,
   "id": "1fc06cec",
   "metadata": {},
   "outputs": [],
   "source": [
    "model.init_alpha"
   ]
  }
 ],
 "metadata": {
  "kernelspec": {
   "display_name": "Python 3",
   "language": "python",
   "name": "python3"
  },
  "language_info": {
   "codemirror_mode": {
    "name": "ipython",
    "version": 3
   },
   "file_extension": ".py",
   "mimetype": "text/x-python",
   "name": "python",
   "nbconvert_exporter": "python",
   "pygments_lexer": "ipython3",
   "version": "3.9.5"
  }
 },
 "nbformat": 4,
 "nbformat_minor": 5
}
