{
 "cells": [
  {
   "cell_type": "code",
   "execution_count": 1,
   "id": "b93e5091",
   "metadata": {},
   "outputs": [],
   "source": [
    "import os\n",
    "import pickle\n",
    "\n",
    "import numpy as np\n",
    "import pandas as pd\n",
    "import torch\n",
    "\n",
    "import matplotlib.pyplot as plt\n",
    "\n",
    "from torch.utils.data import DataLoader, random_split\n",
    "from torch.nn.functional import one_hot\n",
    "\n",
    "from data_loaders.pulja_data_loader import PuljaDataLoader\n",
    "from models._20220613_00 import UserModel\n",
    "from models.utils import collate_fn\n",
    "\n",
    "if torch.cuda.is_available():\n",
    "    from torch.cuda import FloatTensor, LongTensor\n",
    "    torch.set_default_tensor_type(torch.cuda.FloatTensor)\n",
    "else:\n",
    "    from torch import FloatTensor, LongTensor"
   ]
  },
  {
   "cell_type": "code",
   "execution_count": 2,
   "id": "97c1e541",
   "metadata": {},
   "outputs": [],
   "source": [
    "ckpt_path = \"ckpts\"\n",
    "if not os.path.isdir(ckpt_path):\n",
    "    os.mkdir(ckpt_path)\n",
    "\n",
    "batch_size = 256\n",
    "num_epochs = 100\n",
    "train_ratio = 0.9\n",
    "\n",
    "seq_len = 100\n",
    "\n",
    "dim_v = 20\n",
    "\n",
    "dataset = PuljaDataLoader(seq_len)\n",
    "\n",
    "if torch.cuda.is_available():\n",
    "    device = \"cuda\"\n",
    "else:\n",
    "    device = \"cpu\"\n",
    "\n",
    "model = UserModel(dataset.num_c1, dataset.num_c2, dataset.num_d, dim_v).to(device)\n",
    "\n",
    "train_size = int(len(dataset) * train_ratio)\n",
    "test_size = len(dataset) - train_size\n",
    "\n",
    "train_dataset, test_dataset = random_split(\n",
    "    dataset, [train_size, test_size]\n",
    ")\n",
    "\n",
    "if os.path.exists(os.path.join(dataset.dataset_dir, \"indices.pkl\")):\n",
    "    with open(os.path.join(dataset.dataset_dir, \"indices.pkl\"), \"rb\") as f:\n",
    "        indices = pickle.load(f)\n",
    "    train_dataset.indices = indices[0]\n",
    "    test_dataset.indices = indices[1]\n",
    "else:\n",
    "    with open(os.path.join(dataset.dataset_dir, \"indices.pkl\"), \"wb\") as f:\n",
    "        pickle.dump((train_dataset.indices, test_dataset.indices), f)\n"
   ]
  },
  {
   "cell_type": "code",
   "execution_count": 3,
   "id": "b11407ec",
   "metadata": {},
   "outputs": [],
   "source": [
    "tb_unit1 = pd.read_csv(\n",
    "    os.path.join(\"tables\", \"tb_unit1.csv\")\n",
    ")\n",
    "tb_unit2 = pd.read_csv(\n",
    "    os.path.join(\"tables\", \"tb_unit2.csv\")\n",
    ")\n",
    "\n",
    "c22c1 = {}\n",
    "for _, row in tb_unit2.iterrows():\n",
    "    c2 = row[\"name\"]\n",
    "    c1 = tb_unit1[tb_unit1[\"unit1Seq\"] == row[\"unit1Seq\"]][\"name\"].values[0]\n",
    "    \n",
    "    c22c1[c2] = c1\n",
    "\n",
    "c22c1_indices = [dataset.c12idx[c22c1[c2]] for c2 in [dataset.c2_list[i] for i in range(dataset.num_c2)]]"
   ]
  },
  {
   "cell_type": "code",
   "execution_count": 4,
   "id": "b16e5509",
   "metadata": {},
   "outputs": [
    {
     "name": "stdout",
     "output_type": "stream",
     "text": [
      "0.7921283637933516\n",
      "0.7606350303309529\n",
      "0.6993804186706195\n",
      "0.6255284784570804\n",
      "0.5165942658557776\n",
      "0.4108843537414966\n",
      "0.09523809523809523\n"
     ]
    }
   ],
   "source": [
    "for d in [1.0, 2.0, 3.0, 4.0, 5.0, 6.0, 7.0]:\n",
    "    print(np.mean(\n",
    "        (dataset.df[dataset.df[\"difficulty_cd\"] == d][\"isCorrect\"] == \"Y\")\n",
    "    ))"
   ]
  },
  {
   "cell_type": "code",
   "execution_count": 5,
   "id": "c309b467",
   "metadata": {},
   "outputs": [
    {
     "name": "stdout",
     "output_type": "stream",
     "text": [
      "0.6596872451671704\n",
      "0.6323619749673655\n",
      "0.5648320945261429\n",
      "0.4726141275948886\n",
      "0.39374456993918333\n",
      "0.3564625850340136\n",
      "0.09523809523809523\n"
     ]
    }
   ],
   "source": [
    "for d in [1.0, 2.0, 3.0, 4.0, 5.0, 6.0, 7.0]:\n",
    "    print(np.mean(\n",
    "        (dataset.df[dataset.df[\"difficulty_cd\"] == d][\"isCorrect\"] == \"Y\") & \\\n",
    "        (dataset.df[dataset.df[\"difficulty_cd\"] == d][\"duration\"] <= dataset.difficulty2duration[d])\n",
    "    ))"
   ]
  },
  {
   "cell_type": "code",
   "execution_count": 6,
   "id": "9a212161",
   "metadata": {},
   "outputs": [
    {
     "name": "stdout",
     "output_type": "stream",
     "text": [
      "0.6596872451671704\n",
      "0.6323619749673655\n",
      "0.5648320945261429\n",
      "0.4726141275948886\n",
      "0.39374456993918333\n",
      "0.3564625850340136\n",
      "0.09523809523809523\n"
     ]
    }
   ],
   "source": [
    "difficulty2duration = {\n",
    "    1.0: 1.5,\n",
    "    2.0: 2.0,\n",
    "    3.0: 2.5,\n",
    "    4.0: 2.5,\n",
    "    5.0: 3.0,\n",
    "    6.0: 5.0,\n",
    "    7.0: 7.0,\n",
    "}\n",
    "for d in [1.0, 2.0, 3.0, 4.0, 5.0, 6.0, 7.0]:\n",
    "    print(np.mean(\n",
    "        (dataset.df[dataset.df[\"difficulty_cd\"] == d][\"isCorrect\"] == \"Y\") & \\\n",
    "        (dataset.df[dataset.df[\"difficulty_cd\"] == d][\"duration\"] <= difficulty2duration[d] * 60)\n",
    "    ))"
   ]
  },
  {
   "cell_type": "code",
   "execution_count": 7,
   "id": "4b425db4",
   "metadata": {
    "scrolled": true
   },
   "outputs": [
    {
     "data": {
      "text/plain": [
       "UserModel(\n",
       "  (D): Embedding(7, 1)\n",
       "  (gru): GRU(40, 20, batch_first=True)\n",
       "  (linear_1): Sequential(\n",
       "    (0): Linear(in_features=20, out_features=20, bias=True)\n",
       "    (1): ReLU()\n",
       "    (2): Dropout(p=0.5, inplace=False)\n",
       "    (3): Linear(in_features=20, out_features=1, bias=True)\n",
       "    (4): Dropout(p=0.5, inplace=False)\n",
       "  )\n",
       "  (linear_2): Sequential(\n",
       "    (0): Linear(in_features=80, out_features=20, bias=True)\n",
       "    (1): ReLU()\n",
       "    (2): Dropout(p=0.5, inplace=False)\n",
       "    (3): Linear(in_features=20, out_features=2, bias=True)\n",
       "    (4): Dropout(p=0.5, inplace=False)\n",
       "  )\n",
       ")"
      ]
     },
     "execution_count": 7,
     "metadata": {},
     "output_type": "execute_result"
    }
   ],
   "source": [
    "model.load_state_dict(\n",
    "    torch.load(\n",
    "        os.path.join(\n",
    "            os.path.join(\n",
    "                ckpt_path, \"_20220613_00\"\n",
    "            ),\n",
    "            \"model_fin.ckpt\"\n",
    "        ),\n",
    "        map_location=device\n",
    "    )\n",
    ")\n",
    "model.eval()"
   ]
  },
  {
   "cell_type": "code",
   "execution_count": 8,
   "id": "398c134a",
   "metadata": {},
   "outputs": [],
   "source": [
    "####################################################################\n",
    "\n",
    "# c1_seq = np.array([[c22c1_indices[0]] * 7])\n",
    "# c2_seq = np.array([[0] * 7])\n",
    "# d_seq = np.array([[1, 2, 3, 4, 5, 6, 7]]) - 1\n",
    "# r_seq = np.array([[1, 1, 1, 1, 1, 1, 1]])\n",
    "\n",
    "# c1_seq = np.array([[c22c1_indices[0]] * 7])\n",
    "# c2_seq = np.array([[0] * 7])\n",
    "# d_seq = np.array([[1, 2, 3, 4, 5, 6, 7]]) - 1\n",
    "# r_seq = np.array([[1, 1, 1, 1, 1, 1, 0]])\n",
    "\n",
    "# c1_seq = np.array([[c22c1_indices[0]] * 7])\n",
    "# c2_seq = np.array([[0] * 7])\n",
    "# d_seq = np.array([[1, 2, 3, 4, 5, 6, 7]]) - 1\n",
    "# r_seq = np.array([[1, 1, 1, 1, 1, 0, 0]])\n",
    "\n",
    "# c1_seq = np.array([[c22c1_indices[0]] * 7])\n",
    "# c2_seq = np.array([[0] * 7])\n",
    "# d_seq = np.array([[1, 2, 3, 4, 5, 6, 7]]) - 1\n",
    "# r_seq = np.array([[1, 1, 1, 1, 0, 0, 0]])\n",
    "\n",
    "# c1_seq = np.array([[c22c1_indices[0]] * 7])\n",
    "# c2_seq = np.array([[0] * 7])\n",
    "# d_seq = np.array([[1, 2, 3, 4, 5, 6, 7]]) - 1\n",
    "# r_seq = np.array([[1, 1, 1, 0, 0, 0, 0]])\n",
    "\n",
    "# c1_seq = np.array([[c22c1_indices[0]] * 7])\n",
    "# c2_seq = np.array([[0] * 7])\n",
    "# d_seq = np.array([[1, 2, 3, 4, 5, 6, 7]]) - 1\n",
    "# r_seq = np.array([[1, 1, 0, 0, 0, 0, 0]])\n",
    "\n",
    "c1_seq = np.array([[c22c1_indices[0]] * 7])\n",
    "c2_seq = np.array([[0] * 7])\n",
    "d_seq = np.array([[1, 2, 3, 4, 5, 6, 7]]) - 1\n",
    "r_seq = np.array([[1, 0, 0, 0, 0, 0, 0]])\n",
    "\n",
    "# c1_seq = np.array([[c22c1_indices[0]] * 7])\n",
    "# c2_seq = np.array([[0] * 7])\n",
    "# d_seq = np.array([[1, 2, 3, 4, 5, 6, 7]]) - 1\n",
    "# r_seq = np.array([[0, 0, 0, 0, 0, 0, 0]])\n",
    "\n",
    "####################################################################\n",
    "\n",
    "# c_seq = np.array([[0] * 10])\n",
    "# d_seq = np.array([[7] * 10]) - 1\n",
    "# r_seq = np.array([[1] * 10])\n",
    "\n",
    "alpha_seq, h_seq, C1_seq, C2_seq = model(\n",
    "    LongTensor(c1_seq),\n",
    "    LongTensor(c2_seq),\n",
    "    LongTensor(d_seq),\n",
    "    FloatTensor(r_seq),\n",
    ")\n",
    "\n",
    "sigmoid_alpha_seq = torch.sigmoid(alpha_seq).detach().cpu().numpy()\n",
    "\n",
    "CQ_seq = alpha_seq.unsqueeze(-1) + C1_seq.squeeze()[:, c22c1_indices] + C2_seq.squeeze()\n",
    "CQ_seq = torch.sigmoid(CQ_seq).detach().cpu().numpy()\n",
    "\n",
    "C1_seq = C1_seq.squeeze().detach().cpu().numpy()\n",
    "C2_seq = C2_seq.squeeze().detach().cpu().numpy()"
   ]
  },
  {
   "cell_type": "code",
   "execution_count": 9,
   "id": "518a0f84",
   "metadata": {
    "scrolled": true
   },
   "outputs": [
    {
     "data": {
      "image/png": "[encoded data removed]",
      "text/plain": [
       "<Figure size 1080x360 with 1 Axes>"
      ]
     },
     "metadata": {},
     "output_type": "display_data"
    }
   ],
   "source": [
    "plt.figure(figsize=[15, 5], facecolor=\"white\")\n",
    "plt.plot(r_seq[0], label=\"r_seq\")\n",
    "plt.plot((d_seq[0] + 1) / 10, label=\"d_seq\")\n",
    "plt.plot(sigmoid_alpha_seq, label=\"sigmoid_alpha_seq\")\n",
    "plt.plot(CQ_seq.T[0], label=\"sigmoid_alpha_beta_seq\")\n",
    "# plt.plot(sigmoid_alpha_beta_gamma_seq, label=\"sigmoid_alpha_beta_gamma_seq\")\n",
    "# plt.plot(r_seq_ma, label=\"r_seq_ma\")\n",
    "plt.grid()\n",
    "plt.ylim(0, 1.2)\n",
    "plt.legend()\n",
    "plt.show()"
   ]
  },
  {
   "cell_type": "code",
   "execution_count": 10,
   "id": "e336e1de",
   "metadata": {},
   "outputs": [
    {
     "data": {
      "image/png": "[encoded data removed]",
      "text/plain": [
       "<Figure size 1440x504 with 2 Axes>"
      ]
     },
     "metadata": {},
     "output_type": "display_data"
    }
   ],
   "source": [
    "plt.figure(figsize=[20, 7], facecolor=\"white\")\n",
    "temp = np.concatenate([CQ_seq.T, r_seq], axis=0)\n",
    "plt.pcolormesh(temp)\n",
    "plt.colorbar()\n",
    "plt.show()\n",
    "\n",
    "# plt.figure(figsize=[15, 0.5], facecolor=\"white\")\n",
    "# plt.pcolormesh(r_seq)\n",
    "# plt.show()"
   ]
  },
  {
   "cell_type": "code",
   "execution_count": 11,
   "id": "c005f432",
   "metadata": {
    "scrolled": true
   },
   "outputs": [
    {
     "data": {
      "text/plain": [
       "(array([0.5721911], dtype=float32),\n",
       " array([0.43301567], dtype=float32),\n",
       " array([0]),\n",
       " array([[0, 0, 0, 0, 0, 0, 0]]),\n",
       " array([[0, 1, 2, 3, 4, 5, 6]]))"
      ]
     },
     "execution_count": 11,
     "metadata": {},
     "output_type": "execute_result"
    }
   ],
   "source": [
    "CQ_seq[0][np.unique(c2_seq)], CQ_seq[-1][np.unique(c2_seq)], np.unique(c2_seq), c2_seq, d_seq"
   ]
  },
  {
   "cell_type": "code",
   "execution_count": 12,
   "id": "269dfcbd",
   "metadata": {},
   "outputs": [],
   "source": [
    "from models.utils import collate_fn\n",
    "\n",
    "train_loader = DataLoader(\n",
    "    train_dataset, batch_size=batch_size, shuffle=True,\n",
    "    collate_fn=collate_fn\n",
    ")\n",
    "test_loader = DataLoader(\n",
    "    test_dataset, batch_size=test_size, shuffle=True,\n",
    "    collate_fn=collate_fn\n",
    ")\n",
    "\n",
    "alphas = []\n",
    "sigmoid_alphas = []\n",
    "\n",
    "logits = []\n",
    "preds = []\n",
    "tgts = []\n",
    "\n",
    "for data in train_loader:\n",
    "    c1_seq, c2_seq, d_seq, r_seq, \\\n",
    "        c1shft_seq, c2shft_seq, dshft_seq, rshft_seq, m_seq = data\n",
    "\n",
    "    batch_size = c2_seq.shape[0]\n",
    "    seq_len = c2_seq.shape[1]\n",
    "\n",
    "    # rshft_seq: [batch_size, seq_len]\n",
    "    # m_seq: [batch_size, seq_len]\n",
    "\n",
    "    alpha_seq, h_seq, C1_seq, C2_seq = \\\n",
    "        model(c1_seq, c2_seq, d_seq, r_seq)\n",
    "\n",
    "    # alpha_seq: [batch_size, seq_len]\n",
    "\n",
    "    # c1shft_one_hot_seq: [batch_size, seq_len, 1, num_c1]\n",
    "    # c2shft_one_hot_seq: [batch_size, seq_len, 1, num_c2]\n",
    "    c1shft_one_hot_seq = one_hot(c1shft_seq, dataset.num_c1).float()\n",
    "    c1shft_one_hot_seq = torch.reshape(\n",
    "        c1shft_one_hot_seq,\n",
    "        shape=[\n",
    "            -1,\n",
    "            c1shft_one_hot_seq.shape[1],\n",
    "            c1shft_one_hot_seq.shape[2]\n",
    "        ]\n",
    "    ).unsqueeze(-2)\n",
    "\n",
    "    c2shft_one_hot_seq = one_hot(c2shft_seq, dataset.num_c2).float()\n",
    "    c2shft_one_hot_seq = torch.reshape(\n",
    "        c2shft_one_hot_seq,\n",
    "        shape=[\n",
    "            -1,\n",
    "            c2shft_one_hot_seq.shape[1],\n",
    "            c2shft_one_hot_seq.shape[2]\n",
    "        ]\n",
    "    ).unsqueeze(-2)\n",
    "\n",
    "    # beta1_shft_seq: [batch_size, seq_len]\n",
    "    # beta2_shft_seq: [batch_size, seq_len]\n",
    "    beta1_shft_seq = torch.bmm(\n",
    "        torch.reshape(\n",
    "            c1shft_one_hot_seq,\n",
    "            shape=[\n",
    "                -1,\n",
    "                c1shft_one_hot_seq.shape[2],\n",
    "                c1shft_one_hot_seq.shape[3]\n",
    "            ]\n",
    "        ),\n",
    "        torch.reshape(\n",
    "            C1_seq, shape=[-1, C1_seq.shape[2], C1_seq.shape[3]]\n",
    "        )\n",
    "    )\n",
    "    beta1_shft_seq = torch.reshape(\n",
    "        beta1_shft_seq, shape=[batch_size, seq_len]\n",
    "    )\n",
    "\n",
    "    beta2_shft_seq = torch.bmm(\n",
    "        torch.reshape(\n",
    "            c2shft_one_hot_seq,\n",
    "            shape=[\n",
    "                -1,\n",
    "                c2shft_one_hot_seq.shape[2],\n",
    "                c2shft_one_hot_seq.shape[3]\n",
    "            ]\n",
    "        ),\n",
    "        torch.reshape(\n",
    "            C2_seq, shape=[-1, C2_seq.shape[2], C2_seq.shape[3]]\n",
    "        )\n",
    "    )\n",
    "    beta2_shft_seq = torch.reshape(\n",
    "        beta2_shft_seq, shape=[batch_size, seq_len]\n",
    "    )\n",
    "\n",
    "    # gamma_shft_seq: [batch_size, seq_len]\n",
    "    gamma_shft_seq = model.D(dshft_seq).squeeze()\n",
    "    \n",
    "    alphas.append(\n",
    "        torch.masked_select(\n",
    "            alpha_seq, m_seq\n",
    "        )\n",
    "    )\n",
    "    sigmoid_alphas.append(\n",
    "        torch.sigmoid(torch.masked_select(\n",
    "            alpha_seq, m_seq\n",
    "        ))\n",
    "    )\n",
    "    \n",
    "    logit = torch.masked_select(\n",
    "        alpha_seq +\n",
    "        beta1_shft_seq +\n",
    "        beta2_shft_seq -\n",
    "        gamma_shft_seq, m_seq\n",
    "    )\n",
    "    pred = torch.sigmoid(logit)\n",
    "    \n",
    "    tgt = torch.masked_select(\n",
    "        r_seq, m_seq\n",
    "    )\n",
    "    \n",
    "    logits.append(logit)\n",
    "    preds.append(pred)\n",
    "    tgts.append(tgt)\n",
    "\n",
    "alphas = torch.cat(alphas, dim=0).detach().cpu().numpy()\n",
    "sigmoid_alphas = torch.cat(sigmoid_alphas, dim=0).detach().cpu().numpy()\n",
    "\n",
    "logits = torch.cat(logits, dim=0).detach().cpu().numpy()\n",
    "preds = torch.cat(preds, dim=0).detach().cpu().numpy()\n",
    "tgts = torch.cat(tgts, dim=0).detach().cpu().numpy()"
   ]
  },
  {
   "cell_type": "code",
   "execution_count": 13,
   "id": "99db3e92",
   "metadata": {},
   "outputs": [
    {
     "data": {
      "image/png": "[encoded data removed]",
      "text/plain": [
       "<Figure size 1080x360 with 1 Axes>"
      ]
     },
     "metadata": {},
     "output_type": "display_data"
    }
   ],
   "source": [
    "plt.figure(figsize=[15, 5], facecolor=\"white\")\n",
    "plt.hist(sigmoid_alphas, bins=1000)\n",
    "plt.show()"
   ]
  },
  {
   "cell_type": "code",
   "execution_count": 14,
   "id": "3e0cb122",
   "metadata": {},
   "outputs": [
    {
     "name": "stdout",
     "output_type": "stream",
     "text": [
      "0.6179861426353455, 0.9227559155530344, 0.7335216403007507, 0.9990809510617433\n",
      "0.5737378001213074, 0.7905975577044004, 0.5840868353843689, 0.8284456639798776\n",
      "0.5340592265129089, 0.6121701427823877, 0.5315942168235779, 0.5992814708300902\n",
      "0.503031849861145, 0.45893082507728367, 0.4990684986114502, 0.43979349981750937\n",
      "0.47521939873695374, 0.3344370715319095, 0.4710807204246521, 0.3186989081346825\n",
      "0.4526573121547699, 0.255842996539275, 0.44786250591278076, 0.24159993667796786\n",
      "0.43834635615348816, 0.21393612390010952, 0.4330156743526459, 0.19792092661240324\n",
      "0.3981977105140686, 0.12194768017096946, 0.39282146096229553, 0.11268683297494819\n"
     ]
    }
   ],
   "source": [
    "num_rep = 1\n",
    "\n",
    "for c1_seq, c2_seq, d_seq, r_seq in [\n",
    "    (\n",
    "        np.array([[c22c1_indices[0]] * 7 * num_rep]),\n",
    "        np.array([[0] * 7 * num_rep]),\n",
    "        np.array([[1, 2, 3, 4, 5, 6, 7] * num_rep]) - 1,\n",
    "        np.array([[1, 1, 1, 1, 1, 1, 1] * num_rep]),\n",
    "    ),\n",
    "    (\n",
    "        np.array([[c22c1_indices[0]] * 7 * num_rep]),\n",
    "        np.array([[0] * 7 * num_rep]),\n",
    "        np.array([[1, 2, 3, 4, 5, 6, 7] * num_rep]) - 1,\n",
    "        np.array([[1, 1, 1, 1, 1, 1, 0] * num_rep]),\n",
    "    ),\n",
    "    (\n",
    "        np.array([[c22c1_indices[0]] * 7 * num_rep]),\n",
    "        np.array([[0] * 7 * num_rep]),\n",
    "        np.array([[1, 2, 3, 4, 5, 6, 7] * num_rep]) - 1,\n",
    "        np.array([[1, 1, 1, 1, 1, 0, 0] * num_rep]),\n",
    "    ),\n",
    "    (\n",
    "        np.array([[c22c1_indices[0]] * 7 * num_rep]),\n",
    "        np.array([[0] * 7 * num_rep]),\n",
    "        np.array([[1, 2, 3, 4, 5, 6, 7] * num_rep]) - 1,\n",
    "        np.array([[1, 1, 1, 1, 0, 0, 0] * num_rep]),\n",
    "    ),\n",
    "    (\n",
    "        np.array([[c22c1_indices[0]] * 7 * num_rep]),\n",
    "        np.array([[0] * 7 * num_rep]),\n",
    "        np.array([[1, 2, 3, 4, 5, 6, 7] * num_rep]) - 1,\n",
    "        np.array([[1, 1, 1, 0, 0, 0, 0] * num_rep]),\n",
    "    ),\n",
    "    (\n",
    "        np.array([[c22c1_indices[0]] * 7 * num_rep]),\n",
    "        np.array([[0] * 7 * num_rep]),\n",
    "        np.array([[1, 2, 3, 4, 5, 6, 7] * num_rep]) - 1,\n",
    "        np.array([[1, 1, 0, 0, 0, 0, 0] * num_rep]),\n",
    "    ),\n",
    "    (\n",
    "        np.array([[c22c1_indices[0]] * 7 * num_rep]),\n",
    "        np.array([[0] * 7 * num_rep]),\n",
    "        np.array([[1, 2, 3, 4, 5, 6, 7] * num_rep]) - 1,\n",
    "        np.array([[1, 0, 0, 0, 0, 0, 0] * num_rep]),\n",
    "    ),\n",
    "    (\n",
    "        np.array([[c22c1_indices[0]] * 7 * num_rep]),\n",
    "        np.array([[0] * 7 * num_rep]),\n",
    "        np.array([[1, 2, 3, 4, 5, 6, 7] * num_rep]) - 1,\n",
    "        np.array([[0, 0, 0, 0, 0, 0, 0] * num_rep]),\n",
    "    ),\n",
    "]:\n",
    "    alpha_seq, h_seq, C1_seq, C2_seq = model(\n",
    "        LongTensor(c1_seq),\n",
    "        LongTensor(c2_seq),\n",
    "        LongTensor(d_seq),\n",
    "        FloatTensor(r_seq),\n",
    "    )\n",
    "    \n",
    "    sigmoid_alpha_seq = torch.sigmoid(alpha_seq).detach().cpu().numpy()\n",
    "\n",
    "    CQ_seq = alpha_seq.unsqueeze(-1) + C1_seq.squeeze()[:, c22c1_indices] + C2_seq.squeeze()\n",
    "    CQ_seq = torch.sigmoid(CQ_seq).detach().cpu().numpy()\n",
    "\n",
    "    C1_seq = C1_seq.squeeze().detach().cpu().numpy()\n",
    "    C2_seq = C2_seq.squeeze().detach().cpu().numpy()\n",
    "    \n",
    "    sigmoid_alpha = sigmoid_alpha_seq[-1]\n",
    "    sigmoid_alpha_beta = CQ_seq[-1][0]\n",
    "    \n",
    "    print(\n",
    "        \"{}, {}, {}, {}\".format(\n",
    "            sigmoid_alpha,\n",
    "            1 - np.mean(sigmoid_alphas >= sigmoid_alpha),\n",
    "            sigmoid_alpha_beta,\n",
    "            1 - np.mean(sigmoid_alphas >= sigmoid_alpha_beta)\n",
    "        )\n",
    "    )"
   ]
  },
  {
   "cell_type": "code",
   "execution_count": 15,
   "id": "db5d985c",
   "metadata": {},
   "outputs": [
    {
     "data": {
      "text/plain": [
       "Parameter containing:\n",
       "tensor([[-0.7682],\n",
       "        [-0.5288],\n",
       "        [-0.2288],\n",
       "        [ 0.2649],\n",
       "        [ 0.6557],\n",
       "        [ 0.8429],\n",
       "        [ 1.8399]], requires_grad=True)"
      ]
     },
     "execution_count": 15,
     "metadata": {},
     "output_type": "execute_result"
    }
   ],
   "source": [
    "model.D.weight"
   ]
  },
  {
   "cell_type": "code",
   "execution_count": 16,
   "id": "1751e05f",
   "metadata": {},
   "outputs": [
    {
     "name": "stdout",
     "output_type": "stream",
     "text": [
      "70\n",
      "38.5\n",
      "30.625\n",
      "20.499999999999996\n"
     ]
    }
   ],
   "source": [
    "down = 30\n",
    "print(70)\n",
    "print(70 * (1 - down * 1.5 * 1 / 100))\n",
    "print(35 * (1 - down * 1.5 * 2 / 100) + 35 * (1 - down * 0.75 / 100))\n",
    "print(30 * (1 - down * 1.5 * 3 / 100) + 40 * (1 - down * 0.75 / 100))"
   ]
  },
  {
   "cell_type": "code",
   "execution_count": 17,
   "id": "acea9eba",
   "metadata": {},
   "outputs": [
    {
     "name": "stdout",
     "output_type": "stream",
     "text": [
      "70\n",
      "101.5\n",
      "109.375\n",
      "119.5\n"
     ]
    }
   ],
   "source": [
    "up = 30\n",
    "print(70)\n",
    "print(70 * (1 + up * 1.5 * 1 / 100))\n",
    "print(35 * (1 + up * 1.5 * 2 / 100) + 35 * (1 + up * 0.75 / 100))\n",
    "print(30 * (1 + up * 1.5 * 3 / 100) + 40 * (1 + up * 0.75 / 100))"
   ]
  }
 ],
 "metadata": {
  "kernelspec": {
   "display_name": "Python 3",
   "language": "python",
   "name": "python3"
  },
  "language_info": {
   "codemirror_mode": {
    "name": "ipython",
    "version": 3
   },
   "file_extension": ".py",
   "mimetype": "text/x-python",
   "name": "python",
   "nbconvert_exporter": "python",
   "pygments_lexer": "ipython3",
   "version": "3.9.5"
  }
 },
 "nbformat": 4,
 "nbformat_minor": 5
}
